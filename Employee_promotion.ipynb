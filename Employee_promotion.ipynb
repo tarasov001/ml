{
  "nbformat": 4,
  "nbformat_minor": 0,
  "metadata": {
    "colab": {
      "name": "Employee_promotion",
      "provenance": [],
      "collapsed_sections": [
        "n4AsuC7DPCas",
        "p4kLiJaaQcUp",
        "6utjhRKvy5sx",
        "prW7pBQVS3cA",
        "XeajU3boWlG4",
        "yJXcX-_Bn0AJ",
        "2-iJaRQBrQtQ",
        "WxyGPNsltYg2",
        "pSm-kBjhhZ7F",
        "7zdQbCRsxJpV",
        "d-A7yk5-h8ME",
        "CriYOEfxoizo",
        "XFrYvps4_1Pc"
      ],
      "authorship_tag": "ABX9TyOB87o5WpfTLc0PgQsM1G5E",
      "include_colab_link": true
    },
    "kernelspec": {
      "display_name": "Python 3",
      "name": "python3"
    },
    "language_info": {
      "name": "python"
    }
  },
  "cells": [
    {
      "cell_type": "markdown",
      "metadata": {
        "id": "view-in-github",
        "colab_type": "text"
      },
      "source": [
        "<a href=\"https://colab.research.google.com/github/tarasov001/ml/blob/main/Employee_promotion.ipynb\" target=\"_parent\"><img src=\"https://colab.research.google.com/assets/colab-badge.svg\" alt=\"Open In Colab\"/></a>"
      ]
    },
    {
      "cell_type": "code",
      "metadata": {
        "colab": {
          "base_uri": "https://localhost:8080/",
          "height": 34
        },
        "id": "mjDngkQjl1D5",
        "outputId": "5390d6e0-6fa4-45bb-cbe5-08c9e0004b37"
      },
      "source": [
        "import numpy as np\n",
        "import pandas as pd\n",
        "import matplotlib.pyplot as plt\n",
        "import seaborn as sns\n",
        "%matplotlib inline \n",
        "%autosave 10"
      ],
      "execution_count": 27,
      "outputs": [
        {
          "output_type": "display_data",
          "data": {
            "application/javascript": [
              "IPython.notebook.set_autosave_interval(10000)"
            ]
          },
          "metadata": {}
        },
        {
          "output_type": "stream",
          "name": "stdout",
          "text": [
            "Autosaving every 10 seconds\n"
          ]
        }
      ]
    },
    {
      "cell_type": "markdown",
      "metadata": {
        "id": "n4AsuC7DPCas"
      },
      "source": [
        "# 0. Описание задачи"
      ]
    },
    {
      "cell_type": "markdown",
      "metadata": {
        "id": "_6WogQqJPOSZ"
      },
      "source": [
        "У крупных организаций существует проблема - определения людей для продвижения и своевременная подготовка к новым должностям.\n",
        "\n",
        "Окончательные предложения делаются сотрдникам только после долгой оценки его работы, что приводит к задержке перехода к новым должностям. Следовательно, компании нужна помощь в определении подходящих кандидатов на повышение, чтобы они могли ускорить весь цикл продвижения."
      ]
    },
    {
      "cell_type": "markdown",
      "metadata": {
        "id": "p4kLiJaaQcUp"
      },
      "source": [
        "# 1. Загрузка данных"
      ]
    },
    {
      "cell_type": "code",
      "metadata": {
        "colab": {
          "base_uri": "https://localhost:8080/",
          "height": 275
        },
        "id": "yI_U9ivprPlK",
        "outputId": "17419e57-4461-43ed-c87b-284f71c089ef"
      },
      "source": [
        "df = pd.read_csv(\"data.csv\")\n",
        "data = df.copy()\n",
        "\n",
        "data.head()"
      ],
      "execution_count": 120,
      "outputs": [
        {
          "output_type": "execute_result",
          "data": {
            "text/html": [
              "<div>\n",
              "<style scoped>\n",
              "    .dataframe tbody tr th:only-of-type {\n",
              "        vertical-align: middle;\n",
              "    }\n",
              "\n",
              "    .dataframe tbody tr th {\n",
              "        vertical-align: top;\n",
              "    }\n",
              "\n",
              "    .dataframe thead th {\n",
              "        text-align: right;\n",
              "    }\n",
              "</style>\n",
              "<table border=\"1\" class=\"dataframe\">\n",
              "  <thead>\n",
              "    <tr style=\"text-align: right;\">\n",
              "      <th></th>\n",
              "      <th>employee_id</th>\n",
              "      <th>department</th>\n",
              "      <th>region</th>\n",
              "      <th>education</th>\n",
              "      <th>gender</th>\n",
              "      <th>recruitment_channel</th>\n",
              "      <th>no_of_trainings</th>\n",
              "      <th>age</th>\n",
              "      <th>previous_year_rating</th>\n",
              "      <th>length_of_service</th>\n",
              "      <th>awards_won?</th>\n",
              "      <th>avg_training_score</th>\n",
              "      <th>is_promoted</th>\n",
              "    </tr>\n",
              "  </thead>\n",
              "  <tbody>\n",
              "    <tr>\n",
              "      <th>0</th>\n",
              "      <td>65438</td>\n",
              "      <td>Sales &amp; Marketing</td>\n",
              "      <td>region_7</td>\n",
              "      <td>Master's &amp; above</td>\n",
              "      <td>f</td>\n",
              "      <td>sourcing</td>\n",
              "      <td>1</td>\n",
              "      <td>35</td>\n",
              "      <td>5.0</td>\n",
              "      <td>8</td>\n",
              "      <td>0</td>\n",
              "      <td>49</td>\n",
              "      <td>0</td>\n",
              "    </tr>\n",
              "    <tr>\n",
              "      <th>1</th>\n",
              "      <td>65141</td>\n",
              "      <td>Operations</td>\n",
              "      <td>region_22</td>\n",
              "      <td>Bachelor's</td>\n",
              "      <td>m</td>\n",
              "      <td>other</td>\n",
              "      <td>1</td>\n",
              "      <td>30</td>\n",
              "      <td>5.0</td>\n",
              "      <td>4</td>\n",
              "      <td>0</td>\n",
              "      <td>60</td>\n",
              "      <td>0</td>\n",
              "    </tr>\n",
              "    <tr>\n",
              "      <th>2</th>\n",
              "      <td>7513</td>\n",
              "      <td>Sales &amp; Marketing</td>\n",
              "      <td>region_19</td>\n",
              "      <td>Bachelor's</td>\n",
              "      <td>m</td>\n",
              "      <td>sourcing</td>\n",
              "      <td>1</td>\n",
              "      <td>34</td>\n",
              "      <td>3.0</td>\n",
              "      <td>7</td>\n",
              "      <td>0</td>\n",
              "      <td>50</td>\n",
              "      <td>0</td>\n",
              "    </tr>\n",
              "    <tr>\n",
              "      <th>3</th>\n",
              "      <td>2542</td>\n",
              "      <td>Sales &amp; Marketing</td>\n",
              "      <td>region_23</td>\n",
              "      <td>Bachelor's</td>\n",
              "      <td>m</td>\n",
              "      <td>other</td>\n",
              "      <td>2</td>\n",
              "      <td>39</td>\n",
              "      <td>1.0</td>\n",
              "      <td>10</td>\n",
              "      <td>0</td>\n",
              "      <td>50</td>\n",
              "      <td>0</td>\n",
              "    </tr>\n",
              "    <tr>\n",
              "      <th>4</th>\n",
              "      <td>48945</td>\n",
              "      <td>Technology</td>\n",
              "      <td>region_26</td>\n",
              "      <td>Bachelor's</td>\n",
              "      <td>m</td>\n",
              "      <td>other</td>\n",
              "      <td>1</td>\n",
              "      <td>45</td>\n",
              "      <td>3.0</td>\n",
              "      <td>2</td>\n",
              "      <td>0</td>\n",
              "      <td>73</td>\n",
              "      <td>0</td>\n",
              "    </tr>\n",
              "  </tbody>\n",
              "</table>\n",
              "</div>"
            ],
            "text/plain": [
              "   employee_id         department  ... avg_training_score is_promoted\n",
              "0        65438  Sales & Marketing  ...                 49           0\n",
              "1        65141         Operations  ...                 60           0\n",
              "2         7513  Sales & Marketing  ...                 50           0\n",
              "3         2542  Sales & Marketing  ...                 50           0\n",
              "4        48945         Technology  ...                 73           0\n",
              "\n",
              "[5 rows x 13 columns]"
            ]
          },
          "metadata": {},
          "execution_count": 120
        }
      ]
    },
    {
      "cell_type": "code",
      "metadata": {
        "colab": {
          "base_uri": "https://localhost:8080/"
        },
        "id": "7PqPbDpoRwwG",
        "outputId": "525555c9-767f-4e14-bd0a-304bb50c27df"
      },
      "source": [
        "data.columns"
      ],
      "execution_count": 121,
      "outputs": [
        {
          "output_type": "execute_result",
          "data": {
            "text/plain": [
              "Index(['employee_id', 'department', 'region', 'education', 'gender',\n",
              "       'recruitment_channel', 'no_of_trainings', 'age', 'previous_year_rating',\n",
              "       'length_of_service', 'awards_won?', 'avg_training_score',\n",
              "       'is_promoted'],\n",
              "      dtype='object')"
            ]
          },
          "metadata": {},
          "execution_count": 121
        }
      ]
    },
    {
      "cell_type": "markdown",
      "metadata": {
        "id": "JRnlyCmlWLmY"
      },
      "source": [
        "employee_id: Уникальный ID номер сотрудника\\\n",
        "department: Отдел\\\n",
        "region: Регион\\\n",
        "education: Образование\\\n",
        "gender: Пол\\\n",
        "recruitment_channel: Канал найма\\\n",
        "no_ of_ trainings: Количество пройденных сотрудником тренингов в прошлом году\\\n",
        "age: Возраст\\\n",
        "previous_ year_ rating: Рейтинг сотрудника в прошлом году\\\n",
        "legth_of_service: Стаж работы в годах\\\n",
        "awards_ won: Есть ли награды в прошлом году (1 - да, 0 - нет)\\\n",
        "avg_ training_ score: Средний балл по обучающим курсам\\\n",
        "is_promoted: Рекомендован к повышению или нет"
      ]
    },
    {
      "cell_type": "code",
      "metadata": {
        "id": "sih00MYkRzdJ"
      },
      "source": [
        "data = data.rename(columns={'awards_won?' : 'awards_won'})"
      ],
      "execution_count": 122,
      "outputs": []
    },
    {
      "cell_type": "markdown",
      "metadata": {
        "id": "9t4kAso0qbCz"
      },
      "source": [
        "Удалим ненужный стобец данных с id номером каждого сотрудника"
      ]
    },
    {
      "cell_type": "code",
      "metadata": {
        "colab": {
          "base_uri": "https://localhost:8080/",
          "height": 275
        },
        "id": "Ivl69dwxqigu",
        "outputId": "bbd2375f-0240-4b0c-e4a5-1f7b24a1ec3c"
      },
      "source": [
        "data = data.drop(labels='employee_id', axis=1)\n",
        "data.head()"
      ],
      "execution_count": 123,
      "outputs": [
        {
          "output_type": "execute_result",
          "data": {
            "text/html": [
              "<div>\n",
              "<style scoped>\n",
              "    .dataframe tbody tr th:only-of-type {\n",
              "        vertical-align: middle;\n",
              "    }\n",
              "\n",
              "    .dataframe tbody tr th {\n",
              "        vertical-align: top;\n",
              "    }\n",
              "\n",
              "    .dataframe thead th {\n",
              "        text-align: right;\n",
              "    }\n",
              "</style>\n",
              "<table border=\"1\" class=\"dataframe\">\n",
              "  <thead>\n",
              "    <tr style=\"text-align: right;\">\n",
              "      <th></th>\n",
              "      <th>department</th>\n",
              "      <th>region</th>\n",
              "      <th>education</th>\n",
              "      <th>gender</th>\n",
              "      <th>recruitment_channel</th>\n",
              "      <th>no_of_trainings</th>\n",
              "      <th>age</th>\n",
              "      <th>previous_year_rating</th>\n",
              "      <th>length_of_service</th>\n",
              "      <th>awards_won</th>\n",
              "      <th>avg_training_score</th>\n",
              "      <th>is_promoted</th>\n",
              "    </tr>\n",
              "  </thead>\n",
              "  <tbody>\n",
              "    <tr>\n",
              "      <th>0</th>\n",
              "      <td>Sales &amp; Marketing</td>\n",
              "      <td>region_7</td>\n",
              "      <td>Master's &amp; above</td>\n",
              "      <td>f</td>\n",
              "      <td>sourcing</td>\n",
              "      <td>1</td>\n",
              "      <td>35</td>\n",
              "      <td>5.0</td>\n",
              "      <td>8</td>\n",
              "      <td>0</td>\n",
              "      <td>49</td>\n",
              "      <td>0</td>\n",
              "    </tr>\n",
              "    <tr>\n",
              "      <th>1</th>\n",
              "      <td>Operations</td>\n",
              "      <td>region_22</td>\n",
              "      <td>Bachelor's</td>\n",
              "      <td>m</td>\n",
              "      <td>other</td>\n",
              "      <td>1</td>\n",
              "      <td>30</td>\n",
              "      <td>5.0</td>\n",
              "      <td>4</td>\n",
              "      <td>0</td>\n",
              "      <td>60</td>\n",
              "      <td>0</td>\n",
              "    </tr>\n",
              "    <tr>\n",
              "      <th>2</th>\n",
              "      <td>Sales &amp; Marketing</td>\n",
              "      <td>region_19</td>\n",
              "      <td>Bachelor's</td>\n",
              "      <td>m</td>\n",
              "      <td>sourcing</td>\n",
              "      <td>1</td>\n",
              "      <td>34</td>\n",
              "      <td>3.0</td>\n",
              "      <td>7</td>\n",
              "      <td>0</td>\n",
              "      <td>50</td>\n",
              "      <td>0</td>\n",
              "    </tr>\n",
              "    <tr>\n",
              "      <th>3</th>\n",
              "      <td>Sales &amp; Marketing</td>\n",
              "      <td>region_23</td>\n",
              "      <td>Bachelor's</td>\n",
              "      <td>m</td>\n",
              "      <td>other</td>\n",
              "      <td>2</td>\n",
              "      <td>39</td>\n",
              "      <td>1.0</td>\n",
              "      <td>10</td>\n",
              "      <td>0</td>\n",
              "      <td>50</td>\n",
              "      <td>0</td>\n",
              "    </tr>\n",
              "    <tr>\n",
              "      <th>4</th>\n",
              "      <td>Technology</td>\n",
              "      <td>region_26</td>\n",
              "      <td>Bachelor's</td>\n",
              "      <td>m</td>\n",
              "      <td>other</td>\n",
              "      <td>1</td>\n",
              "      <td>45</td>\n",
              "      <td>3.0</td>\n",
              "      <td>2</td>\n",
              "      <td>0</td>\n",
              "      <td>73</td>\n",
              "      <td>0</td>\n",
              "    </tr>\n",
              "  </tbody>\n",
              "</table>\n",
              "</div>"
            ],
            "text/plain": [
              "          department     region  ... avg_training_score is_promoted\n",
              "0  Sales & Marketing   region_7  ...                 49           0\n",
              "1         Operations  region_22  ...                 60           0\n",
              "2  Sales & Marketing  region_19  ...                 50           0\n",
              "3  Sales & Marketing  region_23  ...                 50           0\n",
              "4         Technology  region_26  ...                 73           0\n",
              "\n",
              "[5 rows x 12 columns]"
            ]
          },
          "metadata": {},
          "execution_count": 123
        }
      ]
    },
    {
      "cell_type": "markdown",
      "metadata": {
        "id": "6utjhRKvy5sx"
      },
      "source": [
        "# 2. Визуализация и описательная статистика"
      ]
    },
    {
      "cell_type": "markdown",
      "metadata": {
        "id": "Kfdp7YjAwHtp"
      },
      "source": [
        "Сводная информация о признаках:"
      ]
    },
    {
      "cell_type": "code",
      "metadata": {
        "colab": {
          "base_uri": "https://localhost:8080/",
          "height": 297
        },
        "id": "Oktlc09Qv8Df",
        "outputId": "104dc4b7-d03f-4291-d44a-3a371c79ee5b"
      },
      "source": [
        "data.describe()"
      ],
      "execution_count": 32,
      "outputs": [
        {
          "output_type": "execute_result",
          "data": {
            "text/html": [
              "<div>\n",
              "<style scoped>\n",
              "    .dataframe tbody tr th:only-of-type {\n",
              "        vertical-align: middle;\n",
              "    }\n",
              "\n",
              "    .dataframe tbody tr th {\n",
              "        vertical-align: top;\n",
              "    }\n",
              "\n",
              "    .dataframe thead th {\n",
              "        text-align: right;\n",
              "    }\n",
              "</style>\n",
              "<table border=\"1\" class=\"dataframe\">\n",
              "  <thead>\n",
              "    <tr style=\"text-align: right;\">\n",
              "      <th></th>\n",
              "      <th>no_of_trainings</th>\n",
              "      <th>age</th>\n",
              "      <th>previous_year_rating</th>\n",
              "      <th>length_of_service</th>\n",
              "      <th>awards_won</th>\n",
              "      <th>avg_training_score</th>\n",
              "      <th>is_promoted</th>\n",
              "    </tr>\n",
              "  </thead>\n",
              "  <tbody>\n",
              "    <tr>\n",
              "      <th>count</th>\n",
              "      <td>54808.000000</td>\n",
              "      <td>54808.000000</td>\n",
              "      <td>50684.000000</td>\n",
              "      <td>54808.000000</td>\n",
              "      <td>54808.000000</td>\n",
              "      <td>54808.000000</td>\n",
              "      <td>54808.000000</td>\n",
              "    </tr>\n",
              "    <tr>\n",
              "      <th>mean</th>\n",
              "      <td>1.253011</td>\n",
              "      <td>34.803915</td>\n",
              "      <td>3.329256</td>\n",
              "      <td>5.865512</td>\n",
              "      <td>0.023172</td>\n",
              "      <td>63.386750</td>\n",
              "      <td>0.085170</td>\n",
              "    </tr>\n",
              "    <tr>\n",
              "      <th>std</th>\n",
              "      <td>0.609264</td>\n",
              "      <td>7.660169</td>\n",
              "      <td>1.259993</td>\n",
              "      <td>4.265094</td>\n",
              "      <td>0.150450</td>\n",
              "      <td>13.371559</td>\n",
              "      <td>0.279137</td>\n",
              "    </tr>\n",
              "    <tr>\n",
              "      <th>min</th>\n",
              "      <td>1.000000</td>\n",
              "      <td>20.000000</td>\n",
              "      <td>1.000000</td>\n",
              "      <td>1.000000</td>\n",
              "      <td>0.000000</td>\n",
              "      <td>39.000000</td>\n",
              "      <td>0.000000</td>\n",
              "    </tr>\n",
              "    <tr>\n",
              "      <th>25%</th>\n",
              "      <td>1.000000</td>\n",
              "      <td>29.000000</td>\n",
              "      <td>3.000000</td>\n",
              "      <td>3.000000</td>\n",
              "      <td>0.000000</td>\n",
              "      <td>51.000000</td>\n",
              "      <td>0.000000</td>\n",
              "    </tr>\n",
              "    <tr>\n",
              "      <th>50%</th>\n",
              "      <td>1.000000</td>\n",
              "      <td>33.000000</td>\n",
              "      <td>3.000000</td>\n",
              "      <td>5.000000</td>\n",
              "      <td>0.000000</td>\n",
              "      <td>60.000000</td>\n",
              "      <td>0.000000</td>\n",
              "    </tr>\n",
              "    <tr>\n",
              "      <th>75%</th>\n",
              "      <td>1.000000</td>\n",
              "      <td>39.000000</td>\n",
              "      <td>4.000000</td>\n",
              "      <td>7.000000</td>\n",
              "      <td>0.000000</td>\n",
              "      <td>76.000000</td>\n",
              "      <td>0.000000</td>\n",
              "    </tr>\n",
              "    <tr>\n",
              "      <th>max</th>\n",
              "      <td>10.000000</td>\n",
              "      <td>60.000000</td>\n",
              "      <td>5.000000</td>\n",
              "      <td>37.000000</td>\n",
              "      <td>1.000000</td>\n",
              "      <td>99.000000</td>\n",
              "      <td>1.000000</td>\n",
              "    </tr>\n",
              "  </tbody>\n",
              "</table>\n",
              "</div>"
            ],
            "text/plain": [
              "       no_of_trainings           age  ...  avg_training_score   is_promoted\n",
              "count     54808.000000  54808.000000  ...        54808.000000  54808.000000\n",
              "mean          1.253011     34.803915  ...           63.386750      0.085170\n",
              "std           0.609264      7.660169  ...           13.371559      0.279137\n",
              "min           1.000000     20.000000  ...           39.000000      0.000000\n",
              "25%           1.000000     29.000000  ...           51.000000      0.000000\n",
              "50%           1.000000     33.000000  ...           60.000000      0.000000\n",
              "75%           1.000000     39.000000  ...           76.000000      0.000000\n",
              "max          10.000000     60.000000  ...           99.000000      1.000000\n",
              "\n",
              "[8 rows x 7 columns]"
            ]
          },
          "metadata": {},
          "execution_count": 32
        }
      ]
    },
    {
      "cell_type": "code",
      "metadata": {
        "colab": {
          "base_uri": "https://localhost:8080/",
          "height": 381
        },
        "id": "ByYpQnGmSmfV",
        "outputId": "e2cf2e82-9a3a-4437-852b-536a26f3d931"
      },
      "source": [
        "sns.heatmap(data.corr(), cmap='coolwarm')"
      ],
      "execution_count": 33,
      "outputs": [
        {
          "output_type": "execute_result",
          "data": {
            "text/plain": [
              "<matplotlib.axes._subplots.AxesSubplot at 0x7fa82917d050>"
            ]
          },
          "metadata": {},
          "execution_count": 33
        },
        {
          "output_type": "display_data",
          "data": {
            "image/png": "[encoded data removed]",
            "text/plain": [
              "<Figure size 432x288 with 2 Axes>"
            ]
          },
          "metadata": {
            "needs_background": "light"
          }
        }
      ]
    },
    {
      "cell_type": "code",
      "metadata": {
        "colab": {
          "base_uri": "https://localhost:8080/",
          "height": 351
        },
        "id": "eHMPV0Jmwbmq",
        "outputId": "63ddb1ac-4393-4e18-ab80-9f75499c98d3"
      },
      "source": [
        "sns.scatterplot(data.length_of_service, data.age, alpha=0.1)"
      ],
      "execution_count": 34,
      "outputs": [
        {
          "output_type": "stream",
          "name": "stderr",
          "text": [
            "/usr/local/lib/python3.7/dist-packages/seaborn/_decorators.py:43: FutureWarning: Pass the following variables as keyword args: x, y. From version 0.12, the only valid positional argument will be `data`, and passing other arguments without an explicit keyword will result in an error or misinterpretation.\n",
            "  FutureWarning\n"
          ]
        },
        {
          "output_type": "execute_result",
          "data": {
            "text/plain": [
              "<matplotlib.axes._subplots.AxesSubplot at 0x7fa82910a9d0>"
            ]
          },
          "metadata": {},
          "execution_count": 34
        },
        {
          "output_type": "display_data",
          "data": {
            "image/png": "[encoded data removed]",
            "text/plain": [
              "<Figure size 432x288 with 1 Axes>"
            ]
          },
          "metadata": {
            "needs_background": "light"
          }
        }
      ]
    },
    {
      "cell_type": "code",
      "metadata": {
        "colab": {
          "base_uri": "https://localhost:8080/",
          "height": 297
        },
        "id": "_fnqrM8FxyMf",
        "outputId": "b11a3a87-5b35-447d-ff19-392c99a00bee"
      },
      "source": [
        "sns.histplot(data.length_of_service)"
      ],
      "execution_count": 35,
      "outputs": [
        {
          "output_type": "execute_result",
          "data": {
            "text/plain": [
              "<matplotlib.axes._subplots.AxesSubplot at 0x7fa828b8e5d0>"
            ]
          },
          "metadata": {},
          "execution_count": 35
        },
        {
          "output_type": "display_data",
          "data": {
            "image/png": "[encoded data removed]",
            "text/plain": [
              "<Figure size 432x288 with 1 Axes>"
            ]
          },
          "metadata": {
            "needs_background": "light"
          }
        }
      ]
    },
    {
      "cell_type": "code",
      "metadata": {
        "colab": {
          "base_uri": "https://localhost:8080/",
          "height": 296
        },
        "id": "O2gVSDdTx9C7",
        "outputId": "364e5cbf-cf72-4b28-e56a-aa1e7b97288f"
      },
      "source": [
        "sns.histplot(data.age)"
      ],
      "execution_count": 36,
      "outputs": [
        {
          "output_type": "execute_result",
          "data": {
            "text/plain": [
              "<matplotlib.axes._subplots.AxesSubplot at 0x7fa828b5e910>"
            ]
          },
          "metadata": {},
          "execution_count": 36
        },
        {
          "output_type": "display_data",
          "data": {
            "image/png": "[encoded data removed]",
            "text/plain": [
              "<Figure size 432x288 with 1 Axes>"
            ]
          },
          "metadata": {
            "needs_background": "light"
          }
        }
      ]
    },
    {
      "cell_type": "markdown",
      "metadata": {
        "id": "J_PvKo1h0A86"
      },
      "source": [
        "Распределения возраста и стажа имеют сильную ассиметрию, что говорит об отличии распределения от нормального, значит коэффициент корреляции Пирсона не дает нам действительных сведений о линейной зависимости данных."
      ]
    },
    {
      "cell_type": "markdown",
      "metadata": {
        "id": "prW7pBQVS3cA"
      },
      "source": [
        "# 3. Поиск и обработка пропущенных значений"
      ]
    },
    {
      "cell_type": "markdown",
      "metadata": {
        "id": "4wy_d2yNlUWg"
      },
      "source": [
        "Посмотрим сколько пропцщенных значений в каждом столбце"
      ]
    },
    {
      "cell_type": "code",
      "metadata": {
        "colab": {
          "base_uri": "https://localhost:8080/"
        },
        "id": "Pb6D-o8zS2xq",
        "outputId": "e69f5890-4a17-423c-bcda-a3408b7b471d"
      },
      "source": [
        "data.isna().sum()"
      ],
      "execution_count": 37,
      "outputs": [
        {
          "output_type": "execute_result",
          "data": {
            "text/plain": [
              "department                 0\n",
              "region                     0\n",
              "education               2409\n",
              "gender                     0\n",
              "recruitment_channel        0\n",
              "no_of_trainings            0\n",
              "age                        0\n",
              "previous_year_rating    4124\n",
              "length_of_service          0\n",
              "awards_won                 0\n",
              "avg_training_score         0\n",
              "is_promoted                0\n",
              "dtype: int64"
            ]
          },
          "metadata": {},
          "execution_count": 37
        }
      ]
    },
    {
      "cell_type": "code",
      "metadata": {
        "colab": {
          "base_uri": "https://localhost:8080/"
        },
        "id": "PASTfZFVn8Yy",
        "outputId": "f9dd7f81-d8c7-4b5b-ac29-0b1219136b4c"
      },
      "source": [
        "data.education.unique()"
      ],
      "execution_count": 38,
      "outputs": [
        {
          "output_type": "execute_result",
          "data": {
            "text/plain": [
              "array([\"Master's & above\", \"Bachelor's\", nan, 'Below Secondary'],\n",
              "      dtype=object)"
            ]
          },
          "metadata": {},
          "execution_count": 38
        }
      ]
    },
    {
      "cell_type": "code",
      "metadata": {
        "colab": {
          "base_uri": "https://localhost:8080/"
        },
        "id": "x7FnulK3oBA0",
        "outputId": "01f09ce1-8b00-41c1-8caa-4fbd6c00f13b"
      },
      "source": [
        "data.previous_year_rating.unique()"
      ],
      "execution_count": 39,
      "outputs": [
        {
          "output_type": "execute_result",
          "data": {
            "text/plain": [
              "array([ 5.,  3.,  1.,  4., nan,  2.])"
            ]
          },
          "metadata": {},
          "execution_count": 39
        }
      ]
    },
    {
      "cell_type": "markdown",
      "metadata": {
        "id": "MwHEPrw4ZXw-"
      },
      "source": [
        "В столбце education пропущенные значения означают отсутствие образования совсем, поэтому заменим их на строковое обознакчение\\\n",
        "Также понятно, что работники, у которых в столбце previous_year_rating пустое значение, работают первый год, поэтому заменим пропущенные значения на 0\n",
        "\n",
        "Заполним пустые значения в столбцах:"
      ]
    },
    {
      "cell_type": "code",
      "metadata": {
        "id": "NboTsCg1nmvD"
      },
      "source": [
        "data.education = data.education.fillna('Without education')"
      ],
      "execution_count": 40,
      "outputs": []
    },
    {
      "cell_type": "code",
      "metadata": {
        "colab": {
          "base_uri": "https://localhost:8080/"
        },
        "id": "ghCpWO62k4NJ",
        "outputId": "14751f09-90fc-49c2-b22d-69b85e52b95d"
      },
      "source": [
        "data.education.unique()"
      ],
      "execution_count": 41,
      "outputs": [
        {
          "output_type": "execute_result",
          "data": {
            "text/plain": [
              "array([\"Master's & above\", \"Bachelor's\", 'Without education',\n",
              "       'Below Secondary'], dtype=object)"
            ]
          },
          "metadata": {},
          "execution_count": 41
        }
      ]
    },
    {
      "cell_type": "code",
      "metadata": {
        "id": "UKYZmeuNoGzK"
      },
      "source": [
        "data.previous_year_rating = data.previous_year_rating.fillna(0.0)"
      ],
      "execution_count": 42,
      "outputs": []
    },
    {
      "cell_type": "code",
      "metadata": {
        "colab": {
          "base_uri": "https://localhost:8080/"
        },
        "id": "6DVgPvEfmY-u",
        "outputId": "a1e3451e-1fe4-4585-aed9-aaf242729ebe"
      },
      "source": [
        "data.previous_year_rating.unique()"
      ],
      "execution_count": 43,
      "outputs": [
        {
          "output_type": "execute_result",
          "data": {
            "text/plain": [
              "array([5., 3., 1., 4., 0., 2.])"
            ]
          },
          "metadata": {},
          "execution_count": 43
        }
      ]
    },
    {
      "cell_type": "markdown",
      "metadata": {
        "id": "XeajU3boWlG4"
      },
      "source": [
        "# 4. Обработка категориальных признаков"
      ]
    },
    {
      "cell_type": "markdown",
      "metadata": {
        "id": "xYAZ0L3P0TQl"
      },
      "source": [
        "Найдем все категориальные признаки:"
      ]
    },
    {
      "cell_type": "code",
      "metadata": {
        "colab": {
          "base_uri": "https://localhost:8080/"
        },
        "id": "uIH1GUCFmKkl",
        "outputId": "ef88506a-67b8-4ce1-dbe2-5b8cc1badb59"
      },
      "source": [
        "s = (data.dtypes == 'object')\n",
        "object_cols = list(s[s].index)\n",
        "object_cols"
      ],
      "execution_count": 44,
      "outputs": [
        {
          "output_type": "execute_result",
          "data": {
            "text/plain": [
              "['department', 'region', 'education', 'gender', 'recruitment_channel']"
            ]
          },
          "metadata": {},
          "execution_count": 44
        }
      ]
    },
    {
      "cell_type": "code",
      "metadata": {
        "colab": {
          "base_uri": "https://localhost:8080/"
        },
        "id": "EQAWaAIUPdHB",
        "outputId": "8a6d9427-fb14-4bc0-f41d-090cb6f0af86"
      },
      "source": [
        "data.department.unique()"
      ],
      "execution_count": 45,
      "outputs": [
        {
          "output_type": "execute_result",
          "data": {
            "text/plain": [
              "array(['Sales & Marketing', 'Operations', 'Technology', 'Analytics',\n",
              "       'R&D', 'Procurement', 'Finance', 'HR', 'Legal'], dtype=object)"
            ]
          },
          "metadata": {},
          "execution_count": 45
        }
      ]
    },
    {
      "cell_type": "code",
      "metadata": {
        "colab": {
          "base_uri": "https://localhost:8080/",
          "height": 419
        },
        "id": "yVeYFAoW1l_f",
        "outputId": "4b846cca-42a3-459e-d312-826e92b2c6e2"
      },
      "source": [
        "data[object_cols]"
      ],
      "execution_count": 46,
      "outputs": [
        {
          "output_type": "execute_result",
          "data": {
            "text/html": [
              "<div>\n",
              "<style scoped>\n",
              "    .dataframe tbody tr th:only-of-type {\n",
              "        vertical-align: middle;\n",
              "    }\n",
              "\n",
              "    .dataframe tbody tr th {\n",
              "        vertical-align: top;\n",
              "    }\n",
              "\n",
              "    .dataframe thead th {\n",
              "        text-align: right;\n",
              "    }\n",
              "</style>\n",
              "<table border=\"1\" class=\"dataframe\">\n",
              "  <thead>\n",
              "    <tr style=\"text-align: right;\">\n",
              "      <th></th>\n",
              "      <th>department</th>\n",
              "      <th>region</th>\n",
              "      <th>education</th>\n",
              "      <th>gender</th>\n",
              "      <th>recruitment_channel</th>\n",
              "    </tr>\n",
              "  </thead>\n",
              "  <tbody>\n",
              "    <tr>\n",
              "      <th>0</th>\n",
              "      <td>Sales &amp; Marketing</td>\n",
              "      <td>region_7</td>\n",
              "      <td>Master's &amp; above</td>\n",
              "      <td>f</td>\n",
              "      <td>sourcing</td>\n",
              "    </tr>\n",
              "    <tr>\n",
              "      <th>1</th>\n",
              "      <td>Operations</td>\n",
              "      <td>region_22</td>\n",
              "      <td>Bachelor's</td>\n",
              "      <td>m</td>\n",
              "      <td>other</td>\n",
              "    </tr>\n",
              "    <tr>\n",
              "      <th>2</th>\n",
              "      <td>Sales &amp; Marketing</td>\n",
              "      <td>region_19</td>\n",
              "      <td>Bachelor's</td>\n",
              "      <td>m</td>\n",
              "      <td>sourcing</td>\n",
              "    </tr>\n",
              "    <tr>\n",
              "      <th>3</th>\n",
              "      <td>Sales &amp; Marketing</td>\n",
              "      <td>region_23</td>\n",
              "      <td>Bachelor's</td>\n",
              "      <td>m</td>\n",
              "      <td>other</td>\n",
              "    </tr>\n",
              "    <tr>\n",
              "      <th>4</th>\n",
              "      <td>Technology</td>\n",
              "      <td>region_26</td>\n",
              "      <td>Bachelor's</td>\n",
              "      <td>m</td>\n",
              "      <td>other</td>\n",
              "    </tr>\n",
              "    <tr>\n",
              "      <th>...</th>\n",
              "      <td>...</td>\n",
              "      <td>...</td>\n",
              "      <td>...</td>\n",
              "      <td>...</td>\n",
              "      <td>...</td>\n",
              "    </tr>\n",
              "    <tr>\n",
              "      <th>54803</th>\n",
              "      <td>Technology</td>\n",
              "      <td>region_14</td>\n",
              "      <td>Bachelor's</td>\n",
              "      <td>m</td>\n",
              "      <td>sourcing</td>\n",
              "    </tr>\n",
              "    <tr>\n",
              "      <th>54804</th>\n",
              "      <td>Operations</td>\n",
              "      <td>region_27</td>\n",
              "      <td>Master's &amp; above</td>\n",
              "      <td>f</td>\n",
              "      <td>other</td>\n",
              "    </tr>\n",
              "    <tr>\n",
              "      <th>54805</th>\n",
              "      <td>Analytics</td>\n",
              "      <td>region_1</td>\n",
              "      <td>Bachelor's</td>\n",
              "      <td>m</td>\n",
              "      <td>other</td>\n",
              "    </tr>\n",
              "    <tr>\n",
              "      <th>54806</th>\n",
              "      <td>Sales &amp; Marketing</td>\n",
              "      <td>region_9</td>\n",
              "      <td>Without education</td>\n",
              "      <td>m</td>\n",
              "      <td>sourcing</td>\n",
              "    </tr>\n",
              "    <tr>\n",
              "      <th>54807</th>\n",
              "      <td>HR</td>\n",
              "      <td>region_22</td>\n",
              "      <td>Bachelor's</td>\n",
              "      <td>m</td>\n",
              "      <td>other</td>\n",
              "    </tr>\n",
              "  </tbody>\n",
              "</table>\n",
              "<p>54808 rows × 5 columns</p>\n",
              "</div>"
            ],
            "text/plain": [
              "              department     region  ... gender recruitment_channel\n",
              "0      Sales & Marketing   region_7  ...      f            sourcing\n",
              "1             Operations  region_22  ...      m               other\n",
              "2      Sales & Marketing  region_19  ...      m            sourcing\n",
              "3      Sales & Marketing  region_23  ...      m               other\n",
              "4             Technology  region_26  ...      m               other\n",
              "...                  ...        ...  ...    ...                 ...\n",
              "54803         Technology  region_14  ...      m            sourcing\n",
              "54804         Operations  region_27  ...      f               other\n",
              "54805          Analytics   region_1  ...      m               other\n",
              "54806  Sales & Marketing   region_9  ...      m            sourcing\n",
              "54807                 HR  region_22  ...      m               other\n",
              "\n",
              "[54808 rows x 5 columns]"
            ]
          },
          "metadata": {},
          "execution_count": 46
        }
      ]
    },
    {
      "cell_type": "markdown",
      "metadata": {
        "id": "e1ceb4nc06MZ"
      },
      "source": [
        "Признаки 'department','recruitment_channel', 'region' являются номинальными, а 'education', 'gender' целесорбразно отнести к порядковым. Если преобразовать признак 'region' как номинальный, то это приведет к сильному увеличению размерности данных, что негативно скажется на времени обучения нашей модели, поэтому я отнесу его в список порядковых признаков.\n"
      ]
    },
    {
      "cell_type": "code",
      "metadata": {
        "id": "zvExz3fKWn7I"
      },
      "source": [
        "from sklearn.preprocessing import OrdinalEncoder, OneHotEncoder"
      ],
      "execution_count": 47,
      "outputs": []
    },
    {
      "cell_type": "code",
      "metadata": {
        "id": "fQsmJHlCZdA9"
      },
      "source": [
        "ordinal_encoder = OrdinalEncoder()\n",
        "\n",
        "\n",
        "ordinal_cols = ['education',  'region', 'gender']\n",
        "one_hot_cols = ['department','recruitment_channel']"
      ],
      "execution_count": 48,
      "outputs": []
    },
    {
      "cell_type": "code",
      "metadata": {
        "id": "d1AKWVsrVjq3"
      },
      "source": [
        "data[ordinal_cols] = ordinal_encoder.fit_transform(data[ordinal_cols])\n",
        "one_hot_data = pd.get_dummies(data[one_hot_cols])\n",
        "data = data.drop(one_hot_cols, axis=1)\n",
        "data = pd.concat([data, one_hot_data], axis=1)"
      ],
      "execution_count": 49,
      "outputs": []
    },
    {
      "cell_type": "code",
      "metadata": {
        "colab": {
          "base_uri": "https://localhost:8080/"
        },
        "id": "gtoZGrTsmir8",
        "outputId": "f19d1dd9-c6e8-40dd-8534-56f1919f7f7b"
      },
      "source": [
        "ordinal_encoder.categories_"
      ],
      "execution_count": 50,
      "outputs": [
        {
          "output_type": "execute_result",
          "data": {
            "text/plain": [
              "[array([\"Bachelor's\", 'Below Secondary', \"Master's & above\",\n",
              "        'Without education'], dtype=object),\n",
              " array(['region_1', 'region_10', 'region_11', 'region_12', 'region_13',\n",
              "        'region_14', 'region_15', 'region_16', 'region_17', 'region_18',\n",
              "        'region_19', 'region_2', 'region_20', 'region_21', 'region_22',\n",
              "        'region_23', 'region_24', 'region_25', 'region_26', 'region_27',\n",
              "        'region_28', 'region_29', 'region_3', 'region_30', 'region_31',\n",
              "        'region_32', 'region_33', 'region_34', 'region_4', 'region_5',\n",
              "        'region_6', 'region_7', 'region_8', 'region_9'], dtype=object),\n",
              " array(['f', 'm'], dtype=object)]"
            ]
          },
          "metadata": {},
          "execution_count": 50
        }
      ]
    },
    {
      "cell_type": "code",
      "metadata": {
        "colab": {
          "base_uri": "https://localhost:8080/",
          "height": 241
        },
        "id": "8CZaFkqbnJ3S",
        "outputId": "04481ce0-4dd3-444a-bdc7-6260ba1a3114"
      },
      "source": [
        "data.head()"
      ],
      "execution_count": 51,
      "outputs": [
        {
          "output_type": "execute_result",
          "data": {
            "text/html": [
              "<div>\n",
              "<style scoped>\n",
              "    .dataframe tbody tr th:only-of-type {\n",
              "        vertical-align: middle;\n",
              "    }\n",
              "\n",
              "    .dataframe tbody tr th {\n",
              "        vertical-align: top;\n",
              "    }\n",
              "\n",
              "    .dataframe thead th {\n",
              "        text-align: right;\n",
              "    }\n",
              "</style>\n",
              "<table border=\"1\" class=\"dataframe\">\n",
              "  <thead>\n",
              "    <tr style=\"text-align: right;\">\n",
              "      <th></th>\n",
              "      <th>region</th>\n",
              "      <th>education</th>\n",
              "      <th>gender</th>\n",
              "      <th>no_of_trainings</th>\n",
              "      <th>age</th>\n",
              "      <th>previous_year_rating</th>\n",
              "      <th>length_of_service</th>\n",
              "      <th>awards_won</th>\n",
              "      <th>avg_training_score</th>\n",
              "      <th>is_promoted</th>\n",
              "      <th>department_Analytics</th>\n",
              "      <th>department_Finance</th>\n",
              "      <th>department_HR</th>\n",
              "      <th>department_Legal</th>\n",
              "      <th>department_Operations</th>\n",
              "      <th>department_Procurement</th>\n",
              "      <th>department_R&amp;D</th>\n",
              "      <th>department_Sales &amp; Marketing</th>\n",
              "      <th>department_Technology</th>\n",
              "      <th>recruitment_channel_other</th>\n",
              "      <th>recruitment_channel_referred</th>\n",
              "      <th>recruitment_channel_sourcing</th>\n",
              "    </tr>\n",
              "  </thead>\n",
              "  <tbody>\n",
              "    <tr>\n",
              "      <th>0</th>\n",
              "      <td>31.0</td>\n",
              "      <td>2.0</td>\n",
              "      <td>0.0</td>\n",
              "      <td>1</td>\n",
              "      <td>35</td>\n",
              "      <td>5.0</td>\n",
              "      <td>8</td>\n",
              "      <td>0</td>\n",
              "      <td>49</td>\n",
              "      <td>0</td>\n",
              "      <td>0</td>\n",
              "      <td>0</td>\n",
              "      <td>0</td>\n",
              "      <td>0</td>\n",
              "      <td>0</td>\n",
              "      <td>0</td>\n",
              "      <td>0</td>\n",
              "      <td>1</td>\n",
              "      <td>0</td>\n",
              "      <td>0</td>\n",
              "      <td>0</td>\n",
              "      <td>1</td>\n",
              "    </tr>\n",
              "    <tr>\n",
              "      <th>1</th>\n",
              "      <td>14.0</td>\n",
              "      <td>0.0</td>\n",
              "      <td>1.0</td>\n",
              "      <td>1</td>\n",
              "      <td>30</td>\n",
              "      <td>5.0</td>\n",
              "      <td>4</td>\n",
              "      <td>0</td>\n",
              "      <td>60</td>\n",
              "      <td>0</td>\n",
              "      <td>0</td>\n",
              "      <td>0</td>\n",
              "      <td>0</td>\n",
              "      <td>0</td>\n",
              "      <td>1</td>\n",
              "      <td>0</td>\n",
              "      <td>0</td>\n",
              "      <td>0</td>\n",
              "      <td>0</td>\n",
              "      <td>1</td>\n",
              "      <td>0</td>\n",
              "      <td>0</td>\n",
              "    </tr>\n",
              "    <tr>\n",
              "      <th>2</th>\n",
              "      <td>10.0</td>\n",
              "      <td>0.0</td>\n",
              "      <td>1.0</td>\n",
              "      <td>1</td>\n",
              "      <td>34</td>\n",
              "      <td>3.0</td>\n",
              "      <td>7</td>\n",
              "      <td>0</td>\n",
              "      <td>50</td>\n",
              "      <td>0</td>\n",
              "      <td>0</td>\n",
              "      <td>0</td>\n",
              "      <td>0</td>\n",
              "      <td>0</td>\n",
              "      <td>0</td>\n",
              "      <td>0</td>\n",
              "      <td>0</td>\n",
              "      <td>1</td>\n",
              "      <td>0</td>\n",
              "      <td>0</td>\n",
              "      <td>0</td>\n",
              "      <td>1</td>\n",
              "    </tr>\n",
              "    <tr>\n",
              "      <th>3</th>\n",
              "      <td>15.0</td>\n",
              "      <td>0.0</td>\n",
              "      <td>1.0</td>\n",
              "      <td>2</td>\n",
              "      <td>39</td>\n",
              "      <td>1.0</td>\n",
              "      <td>10</td>\n",
              "      <td>0</td>\n",
              "      <td>50</td>\n",
              "      <td>0</td>\n",
              "      <td>0</td>\n",
              "      <td>0</td>\n",
              "      <td>0</td>\n",
              "      <td>0</td>\n",
              "      <td>0</td>\n",
              "      <td>0</td>\n",
              "      <td>0</td>\n",
              "      <td>1</td>\n",
              "      <td>0</td>\n",
              "      <td>1</td>\n",
              "      <td>0</td>\n",
              "      <td>0</td>\n",
              "    </tr>\n",
              "    <tr>\n",
              "      <th>4</th>\n",
              "      <td>18.0</td>\n",
              "      <td>0.0</td>\n",
              "      <td>1.0</td>\n",
              "      <td>1</td>\n",
              "      <td>45</td>\n",
              "      <td>3.0</td>\n",
              "      <td>2</td>\n",
              "      <td>0</td>\n",
              "      <td>73</td>\n",
              "      <td>0</td>\n",
              "      <td>0</td>\n",
              "      <td>0</td>\n",
              "      <td>0</td>\n",
              "      <td>0</td>\n",
              "      <td>0</td>\n",
              "      <td>0</td>\n",
              "      <td>0</td>\n",
              "      <td>0</td>\n",
              "      <td>1</td>\n",
              "      <td>1</td>\n",
              "      <td>0</td>\n",
              "      <td>0</td>\n",
              "    </tr>\n",
              "  </tbody>\n",
              "</table>\n",
              "</div>"
            ],
            "text/plain": [
              "   region  ...  recruitment_channel_sourcing\n",
              "0    31.0  ...                             1\n",
              "1    14.0  ...                             0\n",
              "2    10.0  ...                             1\n",
              "3    15.0  ...                             0\n",
              "4    18.0  ...                             0\n",
              "\n",
              "[5 rows x 22 columns]"
            ]
          },
          "metadata": {},
          "execution_count": 51
        }
      ]
    },
    {
      "cell_type": "markdown",
      "metadata": {
        "id": "yJXcX-_Bn0AJ"
      },
      "source": [
        "# 5. Нормализация данных"
      ]
    },
    {
      "cell_type": "code",
      "metadata": {
        "colab": {
          "base_uri": "https://localhost:8080/"
        },
        "id": "5TXdPRBao2LX",
        "outputId": "d2dbe2ff-e80f-4b3e-c765-246e128c0f1f"
      },
      "source": [
        "data.mean(axis=0), data.std(axis=0)"
      ],
      "execution_count": 52,
      "outputs": [
        {
          "output_type": "execute_result",
          "data": {
            "text/plain": [
              "(region                          15.428970\n",
              " education                        0.691176\n",
              " gender                           0.702379\n",
              " no_of_trainings                  1.253011\n",
              " age                             34.803915\n",
              " previous_year_rating             3.078748\n",
              " length_of_service                5.865512\n",
              " awards_won                       0.023172\n",
              " avg_training_score              63.386750\n",
              " is_promoted                      0.085170\n",
              " department_Analytics             0.097650\n",
              " department_Finance               0.046271\n",
              " department_HR                    0.044118\n",
              " department_Legal                 0.018957\n",
              " department_Operations            0.207050\n",
              " department_Procurement           0.130236\n",
              " department_R&D                   0.018227\n",
              " department_Sales & Marketing     0.307254\n",
              " department_Technology            0.130236\n",
              " recruitment_channel_other        0.555503\n",
              " recruitment_channel_referred     0.020836\n",
              " recruitment_channel_sourcing     0.423661\n",
              " dtype: float64, region                           8.764954\n",
              " education                        1.010851\n",
              " gender                           0.457216\n",
              " no_of_trainings                  0.609264\n",
              " age                              7.660169\n",
              " previous_year_rating             1.496458\n",
              " length_of_service                4.265094\n",
              " awards_won                       0.150450\n",
              " avg_training_score              13.371559\n",
              " is_promoted                      0.279137\n",
              " department_Analytics             0.296844\n",
              " department_Finance               0.210072\n",
              " department_HR                    0.205358\n",
              " department_Legal                 0.136375\n",
              " department_Operations            0.405195\n",
              " department_Procurement           0.336566\n",
              " department_R&D                   0.133774\n",
              " department_Sales & Marketing     0.461360\n",
              " department_Technology            0.336566\n",
              " recruitment_channel_other        0.496914\n",
              " recruitment_channel_referred     0.142838\n",
              " recruitment_channel_sourcing     0.494142\n",
              " dtype: float64)"
            ]
          },
          "metadata": {},
          "execution_count": 52
        }
      ]
    },
    {
      "cell_type": "code",
      "metadata": {
        "colab": {
          "base_uri": "https://localhost:8080/",
          "height": 419
        },
        "id": "4LIM6QGtrBpe",
        "outputId": "8ed4b2d2-b76a-4e10-acff-be4f56fae23a"
      },
      "source": [
        "data_norm = (data - data.mean(axis=0)) / data.std(axis=0)\n",
        "data_norm.describe()"
      ],
      "execution_count": 53,
      "outputs": [
        {
          "output_type": "execute_result",
          "data": {
            "text/html": [
              "<div>\n",
              "<style scoped>\n",
              "    .dataframe tbody tr th:only-of-type {\n",
              "        vertical-align: middle;\n",
              "    }\n",
              "\n",
              "    .dataframe tbody tr th {\n",
              "        vertical-align: top;\n",
              "    }\n",
              "\n",
              "    .dataframe thead th {\n",
              "        text-align: right;\n",
              "    }\n",
              "</style>\n",
              "<table border=\"1\" class=\"dataframe\">\n",
              "  <thead>\n",
              "    <tr style=\"text-align: right;\">\n",
              "      <th></th>\n",
              "      <th>region</th>\n",
              "      <th>education</th>\n",
              "      <th>gender</th>\n",
              "      <th>no_of_trainings</th>\n",
              "      <th>age</th>\n",
              "      <th>previous_year_rating</th>\n",
              "      <th>length_of_service</th>\n",
              "      <th>awards_won</th>\n",
              "      <th>avg_training_score</th>\n",
              "      <th>is_promoted</th>\n",
              "      <th>department_Analytics</th>\n",
              "      <th>department_Finance</th>\n",
              "      <th>department_HR</th>\n",
              "      <th>department_Legal</th>\n",
              "      <th>department_Operations</th>\n",
              "      <th>department_Procurement</th>\n",
              "      <th>department_R&amp;D</th>\n",
              "      <th>department_Sales &amp; Marketing</th>\n",
              "      <th>department_Technology</th>\n",
              "      <th>recruitment_channel_other</th>\n",
              "      <th>recruitment_channel_referred</th>\n",
              "      <th>recruitment_channel_sourcing</th>\n",
              "    </tr>\n",
              "  </thead>\n",
              "  <tbody>\n",
              "    <tr>\n",
              "      <th>count</th>\n",
              "      <td>5.480800e+04</td>\n",
              "      <td>5.480800e+04</td>\n",
              "      <td>5.480800e+04</td>\n",
              "      <td>5.480800e+04</td>\n",
              "      <td>5.480800e+04</td>\n",
              "      <td>5.480800e+04</td>\n",
              "      <td>5.480800e+04</td>\n",
              "      <td>5.480800e+04</td>\n",
              "      <td>5.480800e+04</td>\n",
              "      <td>5.480800e+04</td>\n",
              "      <td>5.480800e+04</td>\n",
              "      <td>5.480800e+04</td>\n",
              "      <td>5.480800e+04</td>\n",
              "      <td>5.480800e+04</td>\n",
              "      <td>5.480800e+04</td>\n",
              "      <td>5.480800e+04</td>\n",
              "      <td>5.480800e+04</td>\n",
              "      <td>5.480800e+04</td>\n",
              "      <td>5.480800e+04</td>\n",
              "      <td>5.480800e+04</td>\n",
              "      <td>5.480800e+04</td>\n",
              "      <td>5.480800e+04</td>\n",
              "    </tr>\n",
              "    <tr>\n",
              "      <th>mean</th>\n",
              "      <td>3.862242e-16</td>\n",
              "      <td>-1.768076e-16</td>\n",
              "      <td>-4.988347e-16</td>\n",
              "      <td>2.137098e-15</td>\n",
              "      <td>-3.489359e-16</td>\n",
              "      <td>-6.093992e-17</td>\n",
              "      <td>4.175880e-16</td>\n",
              "      <td>1.902468e-16</td>\n",
              "      <td>1.004605e-16</td>\n",
              "      <td>1.139711e-15</td>\n",
              "      <td>-9.691501e-16</td>\n",
              "      <td>-6.556176e-16</td>\n",
              "      <td>2.222747e-15</td>\n",
              "      <td>2.912772e-15</td>\n",
              "      <td>3.212654e-16</td>\n",
              "      <td>4.698637e-16</td>\n",
              "      <td>-3.129092e-15</td>\n",
              "      <td>-6.147104e-16</td>\n",
              "      <td>-4.682695e-15</td>\n",
              "      <td>-1.500290e-15</td>\n",
              "      <td>1.417559e-15</td>\n",
              "      <td>-6.165416e-16</td>\n",
              "    </tr>\n",
              "    <tr>\n",
              "      <th>std</th>\n",
              "      <td>1.000000e+00</td>\n",
              "      <td>1.000000e+00</td>\n",
              "      <td>1.000000e+00</td>\n",
              "      <td>1.000000e+00</td>\n",
              "      <td>1.000000e+00</td>\n",
              "      <td>1.000000e+00</td>\n",
              "      <td>1.000000e+00</td>\n",
              "      <td>1.000000e+00</td>\n",
              "      <td>1.000000e+00</td>\n",
              "      <td>1.000000e+00</td>\n",
              "      <td>1.000000e+00</td>\n",
              "      <td>1.000000e+00</td>\n",
              "      <td>1.000000e+00</td>\n",
              "      <td>1.000000e+00</td>\n",
              "      <td>1.000000e+00</td>\n",
              "      <td>1.000000e+00</td>\n",
              "      <td>1.000000e+00</td>\n",
              "      <td>1.000000e+00</td>\n",
              "      <td>1.000000e+00</td>\n",
              "      <td>1.000000e+00</td>\n",
              "      <td>1.000000e+00</td>\n",
              "      <td>1.000000e+00</td>\n",
              "    </tr>\n",
              "    <tr>\n",
              "      <th>min</th>\n",
              "      <td>-1.760303e+00</td>\n",
              "      <td>-6.837572e-01</td>\n",
              "      <td>-1.536209e+00</td>\n",
              "      <td>-4.152724e-01</td>\n",
              "      <td>-1.932583e+00</td>\n",
              "      <td>-2.057356e+00</td>\n",
              "      <td>-1.140775e+00</td>\n",
              "      <td>-1.540163e-01</td>\n",
              "      <td>-1.823778e+00</td>\n",
              "      <td>-3.051190e-01</td>\n",
              "      <td>-3.289611e-01</td>\n",
              "      <td>-2.202602e-01</td>\n",
              "      <td>-2.148325e-01</td>\n",
              "      <td>-1.390074e-01</td>\n",
              "      <td>-5.109882e-01</td>\n",
              "      <td>-3.869561e-01</td>\n",
              "      <td>-1.362546e-01</td>\n",
              "      <td>-6.659755e-01</td>\n",
              "      <td>-3.869561e-01</td>\n",
              "      <td>-1.117904e+00</td>\n",
              "      <td>-1.458745e-01</td>\n",
              "      <td>-8.573657e-01</td>\n",
              "    </tr>\n",
              "    <tr>\n",
              "      <th>25%</th>\n",
              "      <td>-5.053045e-01</td>\n",
              "      <td>-6.837572e-01</td>\n",
              "      <td>-1.536209e+00</td>\n",
              "      <td>-4.152724e-01</td>\n",
              "      <td>-7.576746e-01</td>\n",
              "      <td>-7.208671e-01</td>\n",
              "      <td>-6.718521e-01</td>\n",
              "      <td>-1.540163e-01</td>\n",
              "      <td>-9.263504e-01</td>\n",
              "      <td>-3.051190e-01</td>\n",
              "      <td>-3.289611e-01</td>\n",
              "      <td>-2.202602e-01</td>\n",
              "      <td>-2.148325e-01</td>\n",
              "      <td>-1.390074e-01</td>\n",
              "      <td>-5.109882e-01</td>\n",
              "      <td>-3.869561e-01</td>\n",
              "      <td>-1.362546e-01</td>\n",
              "      <td>-6.659755e-01</td>\n",
              "      <td>-3.869561e-01</td>\n",
              "      <td>-1.117904e+00</td>\n",
              "      <td>-1.458745e-01</td>\n",
              "      <td>-8.573657e-01</td>\n",
              "    </tr>\n",
              "    <tr>\n",
              "      <th>50%</th>\n",
              "      <td>-1.630323e-01</td>\n",
              "      <td>-6.837572e-01</td>\n",
              "      <td>6.509413e-01</td>\n",
              "      <td>-4.152724e-01</td>\n",
              "      <td>-2.354929e-01</td>\n",
              "      <td>-5.262266e-02</td>\n",
              "      <td>-2.029292e-01</td>\n",
              "      <td>-1.540163e-01</td>\n",
              "      <td>-2.532801e-01</td>\n",
              "      <td>-3.051190e-01</td>\n",
              "      <td>-3.289611e-01</td>\n",
              "      <td>-2.202602e-01</td>\n",
              "      <td>-2.148325e-01</td>\n",
              "      <td>-1.390074e-01</td>\n",
              "      <td>-5.109882e-01</td>\n",
              "      <td>-3.869561e-01</td>\n",
              "      <td>-1.362546e-01</td>\n",
              "      <td>-6.659755e-01</td>\n",
              "      <td>-3.869561e-01</td>\n",
              "      <td>8.945145e-01</td>\n",
              "      <td>-1.458745e-01</td>\n",
              "      <td>-8.573657e-01</td>\n",
              "    </tr>\n",
              "    <tr>\n",
              "      <th>75%</th>\n",
              "      <td>6.356029e-01</td>\n",
              "      <td>1.294774e+00</td>\n",
              "      <td>6.509413e-01</td>\n",
              "      <td>-4.152724e-01</td>\n",
              "      <td>5.477796e-01</td>\n",
              "      <td>6.156218e-01</td>\n",
              "      <td>2.659936e-01</td>\n",
              "      <td>-1.540163e-01</td>\n",
              "      <td>9.432894e-01</td>\n",
              "      <td>-3.051190e-01</td>\n",
              "      <td>-3.289611e-01</td>\n",
              "      <td>-2.202602e-01</td>\n",
              "      <td>-2.148325e-01</td>\n",
              "      <td>-1.390074e-01</td>\n",
              "      <td>-5.109882e-01</td>\n",
              "      <td>-3.869561e-01</td>\n",
              "      <td>-1.362546e-01</td>\n",
              "      <td>1.501529e+00</td>\n",
              "      <td>-3.869561e-01</td>\n",
              "      <td>8.945145e-01</td>\n",
              "      <td>-1.458745e-01</td>\n",
              "      <td>1.166342e+00</td>\n",
              "    </tr>\n",
              "    <tr>\n",
              "      <th>max</th>\n",
              "      <td>2.004692e+00</td>\n",
              "      <td>2.284040e+00</td>\n",
              "      <td>6.509413e-01</td>\n",
              "      <td>1.435665e+01</td>\n",
              "      <td>3.289233e+00</td>\n",
              "      <td>1.283866e+00</td>\n",
              "      <td>7.299836e+00</td>\n",
              "      <td>6.492699e+00</td>\n",
              "      <td>2.663358e+00</td>\n",
              "      <td>3.277350e+00</td>\n",
              "      <td>3.039817e+00</td>\n",
              "      <td>4.540001e+00</td>\n",
              "      <td>4.654704e+00</td>\n",
              "      <td>7.193732e+00</td>\n",
              "      <td>1.956957e+00</td>\n",
              "      <td>2.584225e+00</td>\n",
              "      <td>7.339065e+00</td>\n",
              "      <td>1.501529e+00</td>\n",
              "      <td>2.584225e+00</td>\n",
              "      <td>8.945145e-01</td>\n",
              "      <td>6.855081e+00</td>\n",
              "      <td>1.166342e+00</td>\n",
              "    </tr>\n",
              "  </tbody>\n",
              "</table>\n",
              "</div>"
            ],
            "text/plain": [
              "             region  ...  recruitment_channel_sourcing\n",
              "count  5.480800e+04  ...                  5.480800e+04\n",
              "mean   3.862242e-16  ...                 -6.165416e-16\n",
              "std    1.000000e+00  ...                  1.000000e+00\n",
              "min   -1.760303e+00  ...                 -8.573657e-01\n",
              "25%   -5.053045e-01  ...                 -8.573657e-01\n",
              "50%   -1.630323e-01  ...                 -8.573657e-01\n",
              "75%    6.356029e-01  ...                  1.166342e+00\n",
              "max    2.004692e+00  ...                  1.166342e+00\n",
              "\n",
              "[8 rows x 22 columns]"
            ]
          },
          "metadata": {},
          "execution_count": 53
        }
      ]
    },
    {
      "cell_type": "markdown",
      "metadata": {
        "id": "2-iJaRQBrQtQ"
      },
      "source": [
        "# 6. Отбор признаков"
      ]
    },
    {
      "cell_type": "markdown",
      "metadata": {
        "id": "9JAIdGPq28xL"
      },
      "source": [
        "Х - таблица с признаками"
      ]
    },
    {
      "cell_type": "code",
      "metadata": {
        "id": "EHF58zbXru5U"
      },
      "source": [
        "X = data_norm.drop(['is_promoted'], axis=1)"
      ],
      "execution_count": 54,
      "outputs": []
    },
    {
      "cell_type": "markdown",
      "metadata": {
        "id": "i_OugyvB3AMA"
      },
      "source": [
        "y - то, что мы будем предсказывать, то есть повышение"
      ]
    },
    {
      "cell_type": "code",
      "metadata": {
        "id": "kLAOaFFQsPSc"
      },
      "source": [
        "y = data.is_promoted"
      ],
      "execution_count": 55,
      "outputs": []
    },
    {
      "cell_type": "markdown",
      "metadata": {
        "id": "QkYMLSya3GIB"
      },
      "source": [
        "Разобьем выборки на тренировочные и тестовые"
      ]
    },
    {
      "cell_type": "code",
      "metadata": {
        "id": "jtqA18oarZ6Y"
      },
      "source": [
        "from sklearn.model_selection import train_test_split"
      ],
      "execution_count": 56,
      "outputs": []
    },
    {
      "cell_type": "code",
      "metadata": {
        "id": "-3BJd4sorjsT"
      },
      "source": [
        "X_train, X_test, y_train, y_test = train_test_split(X, y, test_size=0.3, random_state=88)"
      ],
      "execution_count": 57,
      "outputs": []
    },
    {
      "cell_type": "markdown",
      "metadata": {
        "id": "WxyGPNsltYg2"
      },
      "source": [
        "# 7. Обучение c помощью KNeighborsClassifier"
      ]
    },
    {
      "cell_type": "markdown",
      "metadata": {
        "id": "pSm-kBjhhZ7F"
      },
      "source": [
        "### 7.1. Обучение модели"
      ]
    },
    {
      "cell_type": "markdown",
      "metadata": {
        "id": "jDszZPBf3NgC"
      },
      "source": [
        "Создадим несколько моделей с разным параметром К"
      ]
    },
    {
      "cell_type": "code",
      "metadata": {
        "id": "ZKU1tQEKtWY6"
      },
      "source": [
        "from sklearn.neighbors import KNeighborsClassifier"
      ],
      "execution_count": 58,
      "outputs": []
    },
    {
      "cell_type": "code",
      "metadata": {
        "id": "_PDoi1b3XZj-"
      },
      "source": [
        "model_k2 = KNeighborsClassifier(n_neighbors=2)\n",
        "model_k2.fit(X_train, y_train)\n",
        "\n",
        "y_k2_train_predict = model_k2.predict(X_train)\n",
        "y_k2_test_predict = model_k2.predict(X_test)"
      ],
      "execution_count": 59,
      "outputs": []
    },
    {
      "cell_type": "code",
      "metadata": {
        "id": "jVDOyMtdtyrh"
      },
      "source": [
        "model_k5 = KNeighborsClassifier(n_neighbors=5)\n",
        "model_k5.fit(X_train, y_train)\n",
        "\n",
        "y_k5_train_predict = model_k5.predict(X_train)\n",
        "y_k5_test_predict = model_k5.predict(X_test)"
      ],
      "execution_count": 60,
      "outputs": []
    },
    {
      "cell_type": "code",
      "metadata": {
        "id": "pELqmSfXuGy8"
      },
      "source": [
        "model_k10 = KNeighborsClassifier(n_neighbors=10)\n",
        "model_k10.fit(X_train, y_train)\n",
        "\n",
        "y_k10_train_predict = model_k10.predict(X_train)\n",
        "y_k10_test_predict = model_k10.predict(X_test)"
      ],
      "execution_count": 61,
      "outputs": []
    },
    {
      "cell_type": "code",
      "metadata": {
        "id": "rf4LeDSkWfvA"
      },
      "source": [
        "model_k15 = KNeighborsClassifier(n_neighbors=15)\n",
        "model_k15.fit(X_train, y_train)\n",
        "\n",
        "y_k15_train_predict = model_k15.predict(X_train)\n",
        "y_k15_test_predict = model_k15.predict(X_test)"
      ],
      "execution_count": 62,
      "outputs": []
    },
    {
      "cell_type": "code",
      "metadata": {
        "id": "opbsya7NXGQX"
      },
      "source": [
        "model_k50 = KNeighborsClassifier(n_neighbors=50)\n",
        "model_k50.fit(X_train, y_train)\n",
        "\n",
        "y_k50_train_predict = model_k50.predict(X_train)\n",
        "y_k50_test_predict = model_k50.predict(X_test)"
      ],
      "execution_count": 63,
      "outputs": []
    },
    {
      "cell_type": "markdown",
      "metadata": {
        "id": "7zdQbCRsxJpV"
      },
      "source": [
        "### 7.2. Метрика качества"
      ]
    },
    {
      "cell_type": "code",
      "metadata": {
        "id": "6GWHiwSKu3PN"
      },
      "source": [
        "from sklearn.metrics import mean_squared_error"
      ],
      "execution_count": 64,
      "outputs": []
    },
    {
      "cell_type": "code",
      "metadata": {
        "colab": {
          "base_uri": "https://localhost:8080/"
        },
        "id": "FB9IGA4_XdtP",
        "outputId": "2babe0a5-00a2-412f-a929-085f79101caf"
      },
      "source": [
        "MSE_train = mean_squared_error(y_train, y_k2_train_predict)\n",
        "MSE_test = mean_squared_error(y_test, y_k2_test_predict)\n",
        "MSE_train, MSE_test"
      ],
      "execution_count": 65,
      "outputs": [
        {
          "output_type": "execute_result",
          "data": {
            "text/plain": [
              "(0.06307832659976541, 0.07954752782338989)"
            ]
          },
          "metadata": {},
          "execution_count": 65
        }
      ]
    },
    {
      "cell_type": "code",
      "metadata": {
        "colab": {
          "base_uri": "https://localhost:8080/"
        },
        "id": "xEfKJlQvxR0D",
        "outputId": "40c6f626-8465-4c4f-ab16-f96d66cf8052"
      },
      "source": [
        "MSE_train = mean_squared_error(y_train, y_k5_train_predict)\n",
        "MSE_test = mean_squared_error(y_test, y_k5_test_predict)\n",
        "MSE_train, MSE_test"
      ],
      "execution_count": 66,
      "outputs": [
        {
          "output_type": "execute_result",
          "data": {
            "text/plain": [
              "(0.06852600026065424, 0.0785136532262969)"
            ]
          },
          "metadata": {},
          "execution_count": 66
        }
      ]
    },
    {
      "cell_type": "code",
      "metadata": {
        "colab": {
          "base_uri": "https://localhost:8080/"
        },
        "id": "wKBBBoTgySv6",
        "outputId": "20eac49a-a0ed-49ec-d65d-aa1eb1c9b468"
      },
      "source": [
        "MSE_train = mean_squared_error(y_train, y_k10_train_predict)\n",
        "MSE_test = mean_squared_error(y_test, y_k10_test_predict)\n",
        "MSE_train, MSE_test"
      ],
      "execution_count": 67,
      "outputs": [
        {
          "output_type": "execute_result",
          "data": {
            "text/plain": [
              "(0.07517268343542291, 0.07887855014291796)"
            ]
          },
          "metadata": {},
          "execution_count": 67
        }
      ]
    },
    {
      "cell_type": "code",
      "metadata": {
        "colab": {
          "base_uri": "https://localhost:8080/"
        },
        "id": "KRudawemWUvP",
        "outputId": "2ba564c5-306e-485e-8854-6c16b0e2eae1"
      },
      "source": [
        "MSE_train = mean_squared_error(y_train, y_k15_train_predict)\n",
        "MSE_test = mean_squared_error(y_test, y_k15_test_predict)\n",
        "MSE_train, MSE_test"
      ],
      "execution_count": 68,
      "outputs": [
        {
          "output_type": "execute_result",
          "data": {
            "text/plain": [
              "(0.07566792649550372, 0.07948671167061971)"
            ]
          },
          "metadata": {},
          "execution_count": 68
        }
      ]
    },
    {
      "cell_type": "code",
      "metadata": {
        "colab": {
          "base_uri": "https://localhost:8080/"
        },
        "id": "eA37W3bvXRAi",
        "outputId": "eacdabaf-5d90-4e5c-e68e-078be8b6e515"
      },
      "source": [
        "MSE_train = mean_squared_error(y_train, y_k50_train_predict)\n",
        "MSE_test = mean_squared_error(y_test, y_k50_test_predict)\n",
        "MSE_train, MSE_test"
      ],
      "execution_count": 69,
      "outputs": [
        {
          "output_type": "execute_result",
          "data": {
            "text/plain": [
              "(0.07861331943177376, 0.08185854162865656)"
            ]
          },
          "metadata": {},
          "execution_count": 69
        }
      ]
    },
    {
      "cell_type": "markdown",
      "metadata": {
        "id": "9xreXhxC4c_Q"
      },
      "source": [
        "На нашей модели изменение параметра К не дает сильной разница в качетсве предсказания.\\\n",
        "Все модели показали неплохие результаты с ошибкой на тестовой выборке приблизительно 8%.\n",
        "Разницы в тренировочных и тестовых ошиках небольшие, поэтому можно сделать вывод, что наша модель не переобучена."
      ]
    },
    {
      "cell_type": "markdown",
      "metadata": {
        "id": "d-A7yk5-h8ME"
      },
      "source": [
        "# 8. Обучение с помощью RandomForestClassifier"
      ]
    },
    {
      "cell_type": "markdown",
      "metadata": {
        "id": "1yOhQjBHnLK8"
      },
      "source": [
        "### 8.1. Обучение модели"
      ]
    },
    {
      "cell_type": "code",
      "metadata": {
        "id": "JxWywgnQiJz2"
      },
      "source": [
        "from sklearn.ensemble import RandomForestClassifier"
      ],
      "execution_count": 70,
      "outputs": []
    },
    {
      "cell_type": "code",
      "metadata": {
        "colab": {
          "base_uri": "https://localhost:8080/"
        },
        "id": "6XBHpJW-if5z",
        "outputId": "057dab78-9e20-416a-f206-d28414b0ce7f"
      },
      "source": [
        "rf_model = RandomForestClassifier(random_state=88)\n",
        "rf_model.fit(X_train, y_train)"
      ],
      "execution_count": 71,
      "outputs": [
        {
          "output_type": "execute_result",
          "data": {
            "text/plain": [
              "RandomForestClassifier(bootstrap=True, ccp_alpha=0.0, class_weight=None,\n",
              "                       criterion='gini', max_depth=None, max_features='auto',\n",
              "                       max_leaf_nodes=None, max_samples=None,\n",
              "                       min_impurity_decrease=0.0, min_impurity_split=None,\n",
              "                       min_samples_leaf=1, min_samples_split=2,\n",
              "                       min_weight_fraction_leaf=0.0, n_estimators=100,\n",
              "                       n_jobs=None, oob_score=False, random_state=88, verbose=0,\n",
              "                       warm_start=False)"
            ]
          },
          "metadata": {},
          "execution_count": 71
        }
      ]
    },
    {
      "cell_type": "code",
      "metadata": {
        "id": "g_69sMAimuVJ"
      },
      "source": [
        "y_rf_train_predict = rf_model.predict(X_train)\n",
        "y_rf_test_predict = rf_model.predict(X_test)"
      ],
      "execution_count": 72,
      "outputs": []
    },
    {
      "cell_type": "markdown",
      "metadata": {
        "id": "TzwC-MJJnNQL"
      },
      "source": [
        "### 8.2. Метрика качетсва"
      ]
    },
    {
      "cell_type": "code",
      "metadata": {
        "colab": {
          "base_uri": "https://localhost:8080/"
        },
        "id": "7aKdoHr5nYnk",
        "outputId": "d9081d84-b6c3-4d02-9e6f-07ddfa8777df"
      },
      "source": [
        "MSE_train = mean_squared_error(y_train, y_rf_train_predict)\n",
        "MSE_test = mean_squared_error(y_test, y_rf_test_predict)\n",
        "\n",
        "MSE_train, MSE_test"
      ],
      "execution_count": 73,
      "outputs": [
        {
          "output_type": "execute_result",
          "data": {
            "text/plain": [
              "(0.0004691776358660237, 0.062458188894970505)"
            ]
          },
          "metadata": {},
          "execution_count": 73
        }
      ]
    },
    {
      "cell_type": "markdown",
      "metadata": {
        "id": "IFM9zrXV5LuK"
      },
      "source": [
        "Модель, обученная с помощью алгоритма Рандомный лес дала меньшие ошибки на тренировочной и тестовой выборках чем предыдущая модель (К ближайших соседей)."
      ]
    },
    {
      "cell_type": "markdown",
      "metadata": {
        "id": "CriYOEfxoizo"
      },
      "source": [
        "### 8.3. Важность признаков"
      ]
    },
    {
      "cell_type": "code",
      "metadata": {
        "colab": {
          "base_uri": "https://localhost:8080/"
        },
        "id": "UVGAytP5n4_v",
        "outputId": "0c032ee8-76bf-4620-93b9-5bf49dd8211b"
      },
      "source": [
        "importances = rf_model.feature_importances_\n",
        "\n",
        "importances = pd.Series(rf_model.feature_importances_, index=X.columns).sort_values(ascending=False)\n",
        "importances"
      ],
      "execution_count": 74,
      "outputs": [
        {
          "output_type": "execute_result",
          "data": {
            "text/plain": [
              "avg_training_score              0.325729\n",
              "age                             0.153675\n",
              "region                          0.131673\n",
              "length_of_service               0.121129\n",
              "previous_year_rating            0.055802\n",
              "awards_won                      0.029886\n",
              "no_of_trainings                 0.025356\n",
              "education                       0.023180\n",
              "gender                          0.023099\n",
              "department_Sales & Marketing    0.019570\n",
              "department_Operations           0.017044\n",
              "recruitment_channel_other       0.012769\n",
              "recruitment_channel_sourcing    0.012535\n",
              "department_Procurement          0.010268\n",
              "department_Analytics            0.008992\n",
              "department_Technology           0.007775\n",
              "department_Finance              0.006188\n",
              "department_R&D                  0.005024\n",
              "department_HR                   0.004278\n",
              "recruitment_channel_referred    0.003814\n",
              "department_Legal                0.002215\n",
              "dtype: float64"
            ]
          },
          "metadata": {},
          "execution_count": 74
        }
      ]
    },
    {
      "cell_type": "code",
      "metadata": {
        "colab": {
          "base_uri": "https://localhost:8080/"
        },
        "id": "bv1dH2PN_YtH",
        "outputId": "943e2c4b-c396-4709-fae1-449a5e76f6b6"
      },
      "source": [
        "importances.sum()"
      ],
      "execution_count": 75,
      "outputs": [
        {
          "output_type": "execute_result",
          "data": {
            "text/plain": [
              "1.0"
            ]
          },
          "metadata": {},
          "execution_count": 75
        }
      ]
    },
    {
      "cell_type": "code",
      "metadata": {
        "colab": {
          "base_uri": "https://localhost:8080/",
          "height": 265
        },
        "id": "NLzr0RvfotMY",
        "outputId": "5301ae3a-dcdf-4788-a411-93b940152533"
      },
      "source": [
        "sns.barplot(y=importances.index, x=importances)\n",
        "pass"
      ],
      "execution_count": 76,
      "outputs": [
        {
          "output_type": "display_data",
          "data": {
            "image/png": "[encoded data removed]",
            "text/plain": [
              "<Figure size 432x288 with 1 Axes>"
            ]
          },
          "metadata": {
            "needs_background": "light"
          }
        }
      ]
    },
    {
      "cell_type": "markdown",
      "metadata": {
        "id": "s6SfUbIS6JR3"
      },
      "source": [
        "Из данного графика видно, что некоторые признаки имеют более низкую значимость для нашей модели чем остальные.\\\n",
        "Значит можно попробовать снизить разменрность нашей модели с незначительными потерями в точности предсказания."
      ]
    },
    {
      "cell_type": "markdown",
      "metadata": {
        "id": "XFrYvps4_1Pc"
      },
      "source": [
        "### 8.4. Снижение размерности"
      ]
    },
    {
      "cell_type": "markdown",
      "metadata": {
        "id": "VV1CBYO06xeA"
      },
      "source": [
        "Попробуем взять для нашей модели только первые 11 признаков из предыдущего графика."
      ]
    },
    {
      "cell_type": "code",
      "metadata": {
        "colab": {
          "base_uri": "https://localhost:8080/"
        },
        "id": "ZnmfiVsR7jQ9",
        "outputId": "5a25e3e2-7a3b-4754-c5cd-1c288c7d92a3"
      },
      "source": [
        "importance_features = importances.index.to_list()[:11]\n",
        "importance_features"
      ],
      "execution_count": 104,
      "outputs": [
        {
          "output_type": "execute_result",
          "data": {
            "text/plain": [
              "['avg_training_score',\n",
              " 'age',\n",
              " 'region',\n",
              " 'length_of_service',\n",
              " 'previous_year_rating',\n",
              " 'awards_won',\n",
              " 'no_of_trainings',\n",
              " 'education',\n",
              " 'gender',\n",
              " 'department_Sales & Marketing',\n",
              " 'department_Operations']"
            ]
          },
          "metadata": {},
          "execution_count": 104
        }
      ]
    },
    {
      "cell_type": "code",
      "metadata": {
        "colab": {
          "base_uri": "https://localhost:8080/",
          "height": 456
        },
        "id": "GnatxVNq8IA7",
        "outputId": "2a12637c-c911-423f-dd41-a4a600b2d06f"
      },
      "source": [
        "X_2 = X[importance_features].copy()\n",
        "X_2"
      ],
      "execution_count": 105,
      "outputs": [
        {
          "output_type": "execute_result",
          "data": {
            "text/html": [
              "<div>\n",
              "<style scoped>\n",
              "    .dataframe tbody tr th:only-of-type {\n",
              "        vertical-align: middle;\n",
              "    }\n",
              "\n",
              "    .dataframe tbody tr th {\n",
              "        vertical-align: top;\n",
              "    }\n",
              "\n",
              "    .dataframe thead th {\n",
              "        text-align: right;\n",
              "    }\n",
              "</style>\n",
              "<table border=\"1\" class=\"dataframe\">\n",
              "  <thead>\n",
              "    <tr style=\"text-align: right;\">\n",
              "      <th></th>\n",
              "      <th>avg_training_score</th>\n",
              "      <th>age</th>\n",
              "      <th>region</th>\n",
              "      <th>length_of_service</th>\n",
              "      <th>previous_year_rating</th>\n",
              "      <th>awards_won</th>\n",
              "      <th>no_of_trainings</th>\n",
              "      <th>education</th>\n",
              "      <th>gender</th>\n",
              "      <th>department_Sales &amp; Marketing</th>\n",
              "      <th>department_Operations</th>\n",
              "    </tr>\n",
              "  </thead>\n",
              "  <tbody>\n",
              "    <tr>\n",
              "      <th>0</th>\n",
              "      <td>-1.075922</td>\n",
              "      <td>0.025598</td>\n",
              "      <td>1.776510</td>\n",
              "      <td>0.500455</td>\n",
              "      <td>1.283866</td>\n",
              "      <td>-0.154016</td>\n",
              "      <td>-0.415272</td>\n",
              "      <td>1.294774</td>\n",
              "      <td>-1.536209</td>\n",
              "      <td>1.501529</td>\n",
              "      <td>-0.510988</td>\n",
              "    </tr>\n",
              "    <tr>\n",
              "      <th>1</th>\n",
              "      <td>-0.253280</td>\n",
              "      <td>-0.627129</td>\n",
              "      <td>-0.163032</td>\n",
              "      <td>-0.437391</td>\n",
              "      <td>1.283866</td>\n",
              "      <td>-0.154016</td>\n",
              "      <td>-0.415272</td>\n",
              "      <td>-0.683757</td>\n",
              "      <td>0.650941</td>\n",
              "      <td>-0.665975</td>\n",
              "      <td>1.956957</td>\n",
              "    </tr>\n",
              "    <tr>\n",
              "      <th>2</th>\n",
              "      <td>-1.001136</td>\n",
              "      <td>-0.104947</td>\n",
              "      <td>-0.619395</td>\n",
              "      <td>0.265994</td>\n",
              "      <td>-0.052623</td>\n",
              "      <td>-0.154016</td>\n",
              "      <td>-0.415272</td>\n",
              "      <td>-0.683757</td>\n",
              "      <td>0.650941</td>\n",
              "      <td>1.501529</td>\n",
              "      <td>-0.510988</td>\n",
              "    </tr>\n",
              "    <tr>\n",
              "      <th>3</th>\n",
              "      <td>-1.001136</td>\n",
              "      <td>0.547780</td>\n",
              "      <td>-0.048942</td>\n",
              "      <td>0.969378</td>\n",
              "      <td>-1.389112</td>\n",
              "      <td>-0.154016</td>\n",
              "      <td>1.226052</td>\n",
              "      <td>-0.683757</td>\n",
              "      <td>0.650941</td>\n",
              "      <td>1.501529</td>\n",
              "      <td>-0.510988</td>\n",
              "    </tr>\n",
              "    <tr>\n",
              "      <th>4</th>\n",
              "      <td>0.718933</td>\n",
              "      <td>1.331052</td>\n",
              "      <td>0.293331</td>\n",
              "      <td>-0.906313</td>\n",
              "      <td>-0.052623</td>\n",
              "      <td>-0.154016</td>\n",
              "      <td>-0.415272</td>\n",
              "      <td>-0.683757</td>\n",
              "      <td>0.650941</td>\n",
              "      <td>-0.665975</td>\n",
              "      <td>-0.510988</td>\n",
              "    </tr>\n",
              "    <tr>\n",
              "      <th>...</th>\n",
              "      <td>...</td>\n",
              "      <td>...</td>\n",
              "      <td>...</td>\n",
              "      <td>...</td>\n",
              "      <td>...</td>\n",
              "      <td>...</td>\n",
              "      <td>...</td>\n",
              "      <td>...</td>\n",
              "      <td>...</td>\n",
              "      <td>...</td>\n",
              "      <td>...</td>\n",
              "    </tr>\n",
              "    <tr>\n",
              "      <th>54803</th>\n",
              "      <td>1.092861</td>\n",
              "      <td>1.722688</td>\n",
              "      <td>-1.189849</td>\n",
              "      <td>2.610608</td>\n",
              "      <td>-0.052623</td>\n",
              "      <td>-0.154016</td>\n",
              "      <td>-0.415272</td>\n",
              "      <td>-0.683757</td>\n",
              "      <td>0.650941</td>\n",
              "      <td>-0.665975</td>\n",
              "      <td>-0.510988</td>\n",
              "    </tr>\n",
              "    <tr>\n",
              "      <th>54804</th>\n",
              "      <td>-0.552422</td>\n",
              "      <td>0.286689</td>\n",
              "      <td>0.407421</td>\n",
              "      <td>0.031532</td>\n",
              "      <td>-0.720867</td>\n",
              "      <td>-0.154016</td>\n",
              "      <td>-0.415272</td>\n",
              "      <td>1.294774</td>\n",
              "      <td>-1.536209</td>\n",
              "      <td>-0.665975</td>\n",
              "      <td>1.956957</td>\n",
              "    </tr>\n",
              "    <tr>\n",
              "      <th>54805</th>\n",
              "      <td>1.167646</td>\n",
              "      <td>-1.018765</td>\n",
              "      <td>-1.760303</td>\n",
              "      <td>-0.671852</td>\n",
              "      <td>1.283866</td>\n",
              "      <td>-0.154016</td>\n",
              "      <td>-0.415272</td>\n",
              "      <td>-0.683757</td>\n",
              "      <td>0.650941</td>\n",
              "      <td>-0.665975</td>\n",
              "      <td>-0.510988</td>\n",
              "    </tr>\n",
              "    <tr>\n",
              "      <th>54806</th>\n",
              "      <td>-1.375064</td>\n",
              "      <td>-0.757675</td>\n",
              "      <td>2.004692</td>\n",
              "      <td>-0.906313</td>\n",
              "      <td>-1.389112</td>\n",
              "      <td>-0.154016</td>\n",
              "      <td>-0.415272</td>\n",
              "      <td>2.284040</td>\n",
              "      <td>0.650941</td>\n",
              "      <td>1.501529</td>\n",
              "      <td>-0.510988</td>\n",
              "    </tr>\n",
              "    <tr>\n",
              "      <th>54807</th>\n",
              "      <td>-1.075922</td>\n",
              "      <td>-1.018765</td>\n",
              "      <td>-0.163032</td>\n",
              "      <td>-0.202929</td>\n",
              "      <td>-1.389112</td>\n",
              "      <td>-0.154016</td>\n",
              "      <td>-0.415272</td>\n",
              "      <td>-0.683757</td>\n",
              "      <td>0.650941</td>\n",
              "      <td>-0.665975</td>\n",
              "      <td>-0.510988</td>\n",
              "    </tr>\n",
              "  </tbody>\n",
              "</table>\n",
              "<p>54808 rows × 11 columns</p>\n",
              "</div>"
            ],
            "text/plain": [
              "       avg_training_score  ...  department_Operations\n",
              "0               -1.075922  ...              -0.510988\n",
              "1               -0.253280  ...               1.956957\n",
              "2               -1.001136  ...              -0.510988\n",
              "3               -1.001136  ...              -0.510988\n",
              "4                0.718933  ...              -0.510988\n",
              "...                   ...  ...                    ...\n",
              "54803            1.092861  ...              -0.510988\n",
              "54804           -0.552422  ...               1.956957\n",
              "54805            1.167646  ...              -0.510988\n",
              "54806           -1.375064  ...              -0.510988\n",
              "54807           -1.075922  ...              -0.510988\n",
              "\n",
              "[54808 rows x 11 columns]"
            ]
          },
          "metadata": {},
          "execution_count": 105
        }
      ]
    },
    {
      "cell_type": "code",
      "metadata": {
        "id": "bffv9UC28n7K"
      },
      "source": [
        "X_2_train, X_2_test, y_2_train, y_2_test= train_test_split(X_2, y)"
      ],
      "execution_count": 106,
      "outputs": []
    },
    {
      "cell_type": "code",
      "metadata": {
        "id": "leUrze5P65kX"
      },
      "source": [
        "rf_model_2 = RandomForestClassifier(random_state=88).fit(X_2_train, y_2_train)"
      ],
      "execution_count": 107,
      "outputs": []
    },
    {
      "cell_type": "code",
      "metadata": {
        "colab": {
          "base_uri": "https://localhost:8080/"
        },
        "id": "e8CZ0ZU99N--",
        "outputId": "102f2ab5-d0e3-462f-e549-82dcbdc6f4c0"
      },
      "source": [
        "y_2_test_predict = rf_model_2.predict(X_2_test)\n",
        "\n",
        "MSE_test_2 = mean_squared_error(y_2_test, y_2_test_predict)\n",
        "MSE_test_2"
      ],
      "execution_count": 108,
      "outputs": [
        {
          "output_type": "execute_result",
          "data": {
            "text/plain": [
              "0.06604875200700627"
            ]
          },
          "metadata": {},
          "execution_count": 108
        }
      ]
    },
    {
      "cell_type": "code",
      "metadata": {
        "colab": {
          "base_uri": "https://localhost:8080/"
        },
        "id": "klEVyvPCACrv",
        "outputId": "e8ce984b-e003-4c5e-d44a-1dfc2662c337"
      },
      "source": [
        "MSE_test_2 - MSE_test"
      ],
      "execution_count": 109,
      "outputs": [
        {
          "output_type": "execute_result",
          "data": {
            "text/plain": [
              "0.0035905631120357676"
            ]
          },
          "metadata": {},
          "execution_count": 109
        }
      ]
    },
    {
      "cell_type": "code",
      "metadata": {
        "colab": {
          "base_uri": "https://localhost:8080/"
        },
        "id": "kzu-GFzq-THv",
        "outputId": "7f76471a-f31b-48ab-f305-fbae1c437db0"
      },
      "source": [
        "X.shape[1] - X_2.shape[1]"
      ],
      "execution_count": 112,
      "outputs": [
        {
          "output_type": "execute_result",
          "data": {
            "text/plain": [
              "10"
            ]
          },
          "metadata": {},
          "execution_count": 112
        }
      ]
    },
    {
      "cell_type": "markdown",
      "metadata": {
        "id": "wVWhq8Zo7U4D"
      },
      "source": [
        "Мы смогли снизить размерность на 10 признаков, но при этом увеличилась ошибка предсказания приблизительно на 0.4%."
      ]
    },
    {
      "cell_type": "markdown",
      "metadata": {
        "id": "pjRZlvsXhn-g"
      },
      "source": [
        "# 9. Вывод"
      ]
    },
    {
      "cell_type": "markdown",
      "metadata": {
        "id": "NoQ4IrySi173"
      },
      "source": [
        "В результате проведенной мною работы, я создал несколько моделей машинного обучения для отбора кандидатов на повышение в должности. Мною использовались два алгоритма: KNeighborsClassifier и RandomForestClassifier. Для обработки категориальных признаков я выбрал подходы One-Hot Encoding и Ordinal Encoding. Среди рассмотренных мною параметров К для обучения модели алгоритмом KNeighborsClassifier, наилучший результат на тестовой выборке - 7,85% был достигнут при K = 5. Но стоит отметить, что он не сильно отличается от остальных, лучше приблизительно на 0,1%. Модель, обученная алгоритмом RandomForestClassifier показала более хороший результат чем предыдущая - 6,24%, приблизительно на 1,6% до снижения размерности данных и 1,2% после. На основе полученных мною результатов, я могу сделать вывод, что при выявлении кандидатов на повышение в должности из рассмотренных алгоритмов машинного обучения более точные предсказания дает - RandomForestClassifier."
      ]
    }
  ]
}