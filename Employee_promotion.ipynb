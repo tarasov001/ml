{
  "nbformat": 4,
  "nbformat_minor": 0,
  "metadata": {
    "colab": {
      "name": "Employee_promotion",
      "provenance": [],
      "collapsed_sections": [
        "n4AsuC7DPCas",
        "2-iJaRQBrQtQ",
        "pSm-kBjhhZ7F",
        "7zdQbCRsxJpV"
      ],
      "authorship_tag": "ABX9TyNCmd6mFWAQxJT9R3pELwmb",
      "include_colab_link": true
    },
    "kernelspec": {
      "display_name": "Python 3",
      "name": "python3"
    },
    "language_info": {
      "name": "python"
    }
  },
  "cells": [
    {
      "cell_type": "markdown",
      "metadata": {
        "id": "view-in-github",
        "colab_type": "text"
      },
      "source": [
        "<a href=\"https://colab.research.google.com/github/tarasov001/ml/blob/main/Employee_promotion.ipynb\" target=\"_parent\"><img src=\"https://colab.research.google.com/assets/colab-badge.svg\" alt=\"Open In Colab\"/></a>"
      ]
    },
    {
      "cell_type": "code",
      "metadata": {
        "colab": {
          "base_uri": "https://localhost:8080/",
          "height": 34
        },
        "id": "mjDngkQjl1D5",
        "outputId": "a44486b7-5ee5-410e-bed0-1face5283386"
      },
      "source": [
        "import numpy as np\n",
        "import pandas as pd\n",
        "import matplotlib.pyplot as plt\n",
        "import seaborn as sns\n",
        "%matplotlib inline \n",
        "%autosave 10"
      ],
      "execution_count": 108,
      "outputs": [
        {
          "output_type": "display_data",
          "data": {
            "application/javascript": [
              "IPython.notebook.set_autosave_interval(10000)"
            ]
          },
          "metadata": {}
        },
        {
          "output_type": "stream",
          "name": "stdout",
          "text": [
            "Autosaving every 10 seconds\n"
          ]
        }
      ]
    },
    {
      "cell_type": "markdown",
      "metadata": {
        "id": "n4AsuC7DPCas"
      },
      "source": [
        "# 0. Описание задачи"
      ]
    },
    {
      "cell_type": "markdown",
      "metadata": {
        "id": "_6WogQqJPOSZ"
      },
      "source": [
        "У крупных организаций существует проблема - определения людей для продвижения и своевременная подготовка к новым должностям.\n",
        "\n",
        "Окончательные предложения делаются сотрдникам только после долгой оценки его работы, что приводит к задержке перехода к новым должностям. Следовательно, компании нужна помощь в определении подходящих кандидатов на повышение, чтобы они могли ускорить весь цикл продвижения."
      ]
    },
    {
      "cell_type": "markdown",
      "metadata": {
        "id": "p4kLiJaaQcUp"
      },
      "source": [
        "# 1. Загрузка данных"
      ]
    },
    {
      "cell_type": "code",
      "metadata": {
        "colab": {
          "base_uri": "https://localhost:8080/",
          "height": 275
        },
        "id": "yI_U9ivprPlK",
        "outputId": "3000f2da-51d4-4808-aec3-00d01982c131"
      },
      "source": [
        "df = pd.read_csv(\"data.csv\")\n",
        "data = df.copy()\n",
        "\n",
        "data.head()"
      ],
      "execution_count": 109,
      "outputs": [
        {
          "output_type": "execute_result",
          "data": {
            "text/html": [
              "<div>\n",
              "<style scoped>\n",
              "    .dataframe tbody tr th:only-of-type {\n",
              "        vertical-align: middle;\n",
              "    }\n",
              "\n",
              "    .dataframe tbody tr th {\n",
              "        vertical-align: top;\n",
              "    }\n",
              "\n",
              "    .dataframe thead th {\n",
              "        text-align: right;\n",
              "    }\n",
              "</style>\n",
              "<table border=\"1\" class=\"dataframe\">\n",
              "  <thead>\n",
              "    <tr style=\"text-align: right;\">\n",
              "      <th></th>\n",
              "      <th>employee_id</th>\n",
              "      <th>department</th>\n",
              "      <th>region</th>\n",
              "      <th>education</th>\n",
              "      <th>gender</th>\n",
              "      <th>recruitment_channel</th>\n",
              "      <th>no_of_trainings</th>\n",
              "      <th>age</th>\n",
              "      <th>previous_year_rating</th>\n",
              "      <th>length_of_service</th>\n",
              "      <th>awards_won?</th>\n",
              "      <th>avg_training_score</th>\n",
              "      <th>is_promoted</th>\n",
              "    </tr>\n",
              "  </thead>\n",
              "  <tbody>\n",
              "    <tr>\n",
              "      <th>0</th>\n",
              "      <td>65438</td>\n",
              "      <td>Sales &amp; Marketing</td>\n",
              "      <td>region_7</td>\n",
              "      <td>Master's &amp; above</td>\n",
              "      <td>f</td>\n",
              "      <td>sourcing</td>\n",
              "      <td>1</td>\n",
              "      <td>35</td>\n",
              "      <td>5.0</td>\n",
              "      <td>8</td>\n",
              "      <td>0</td>\n",
              "      <td>49</td>\n",
              "      <td>0</td>\n",
              "    </tr>\n",
              "    <tr>\n",
              "      <th>1</th>\n",
              "      <td>65141</td>\n",
              "      <td>Operations</td>\n",
              "      <td>region_22</td>\n",
              "      <td>Bachelor's</td>\n",
              "      <td>m</td>\n",
              "      <td>other</td>\n",
              "      <td>1</td>\n",
              "      <td>30</td>\n",
              "      <td>5.0</td>\n",
              "      <td>4</td>\n",
              "      <td>0</td>\n",
              "      <td>60</td>\n",
              "      <td>0</td>\n",
              "    </tr>\n",
              "    <tr>\n",
              "      <th>2</th>\n",
              "      <td>7513</td>\n",
              "      <td>Sales &amp; Marketing</td>\n",
              "      <td>region_19</td>\n",
              "      <td>Bachelor's</td>\n",
              "      <td>m</td>\n",
              "      <td>sourcing</td>\n",
              "      <td>1</td>\n",
              "      <td>34</td>\n",
              "      <td>3.0</td>\n",
              "      <td>7</td>\n",
              "      <td>0</td>\n",
              "      <td>50</td>\n",
              "      <td>0</td>\n",
              "    </tr>\n",
              "    <tr>\n",
              "      <th>3</th>\n",
              "      <td>2542</td>\n",
              "      <td>Sales &amp; Marketing</td>\n",
              "      <td>region_23</td>\n",
              "      <td>Bachelor's</td>\n",
              "      <td>m</td>\n",
              "      <td>other</td>\n",
              "      <td>2</td>\n",
              "      <td>39</td>\n",
              "      <td>1.0</td>\n",
              "      <td>10</td>\n",
              "      <td>0</td>\n",
              "      <td>50</td>\n",
              "      <td>0</td>\n",
              "    </tr>\n",
              "    <tr>\n",
              "      <th>4</th>\n",
              "      <td>48945</td>\n",
              "      <td>Technology</td>\n",
              "      <td>region_26</td>\n",
              "      <td>Bachelor's</td>\n",
              "      <td>m</td>\n",
              "      <td>other</td>\n",
              "      <td>1</td>\n",
              "      <td>45</td>\n",
              "      <td>3.0</td>\n",
              "      <td>2</td>\n",
              "      <td>0</td>\n",
              "      <td>73</td>\n",
              "      <td>0</td>\n",
              "    </tr>\n",
              "  </tbody>\n",
              "</table>\n",
              "</div>"
            ],
            "text/plain": [
              "   employee_id         department  ... avg_training_score is_promoted\n",
              "0        65438  Sales & Marketing  ...                 49           0\n",
              "1        65141         Operations  ...                 60           0\n",
              "2         7513  Sales & Marketing  ...                 50           0\n",
              "3         2542  Sales & Marketing  ...                 50           0\n",
              "4        48945         Technology  ...                 73           0\n",
              "\n",
              "[5 rows x 13 columns]"
            ]
          },
          "metadata": {},
          "execution_count": 109
        }
      ]
    },
    {
      "cell_type": "code",
      "metadata": {
        "colab": {
          "base_uri": "https://localhost:8080/"
        },
        "id": "7PqPbDpoRwwG",
        "outputId": "ee95766b-2149-4b39-a603-5b1b8311a08d"
      },
      "source": [
        "data.columns"
      ],
      "execution_count": 110,
      "outputs": [
        {
          "output_type": "execute_result",
          "data": {
            "text/plain": [
              "Index(['employee_id', 'department', 'region', 'education', 'gender',\n",
              "       'recruitment_channel', 'no_of_trainings', 'age', 'previous_year_rating',\n",
              "       'length_of_service', 'awards_won?', 'avg_training_score',\n",
              "       'is_promoted'],\n",
              "      dtype='object')"
            ]
          },
          "metadata": {},
          "execution_count": 110
        }
      ]
    },
    {
      "cell_type": "markdown",
      "metadata": {
        "id": "JRnlyCmlWLmY"
      },
      "source": [
        "employee_id: Уникальный ID номер сотрудника\\\n",
        "department: Отдел\\\n",
        "region: Регион\\\n",
        "education: Образование\\\n",
        "gender: Пол\\\n",
        "recruitment_channel: Канал найма\\\n",
        "no_ of_ trainings: Количество пройденных сотрудником тренингов в прошлом году\\\n",
        "age: Возраст\\\n",
        "previous_ year_ rating: Рейтинг сотрудника в прошлом году\\\n",
        "Стаж: Length of service in years\\\n",
        "awards_ won: Есть ли награды в прошлом году (1 - да, 0 - нет)\\\n",
        "avg_ training_ score: Средний балл по обучающим курсам\\\n",
        "is_promoted: Рекомендован к повышению или нет"
      ]
    },
    {
      "cell_type": "code",
      "metadata": {
        "id": "sih00MYkRzdJ"
      },
      "source": [
        "data = data.rename(columns={'awards_won?' : 'awards_won'})"
      ],
      "execution_count": 111,
      "outputs": []
    },
    {
      "cell_type": "markdown",
      "metadata": {
        "id": "9t4kAso0qbCz"
      },
      "source": [
        "Удалим ненужный стобец данных с id номером каждого сотрудника"
      ]
    },
    {
      "cell_type": "code",
      "metadata": {
        "colab": {
          "base_uri": "https://localhost:8080/",
          "height": 524
        },
        "id": "Ivl69dwxqigu",
        "outputId": "ceeafa1a-990f-43ce-d347-d0148fb1b93b"
      },
      "source": [
        "data = data.drop(labels='employee_id', axis=1)\n",
        "data"
      ],
      "execution_count": 112,
      "outputs": [
        {
          "output_type": "execute_result",
          "data": {
            "text/html": [
              "<div>\n",
              "<style scoped>\n",
              "    .dataframe tbody tr th:only-of-type {\n",
              "        vertical-align: middle;\n",
              "    }\n",
              "\n",
              "    .dataframe tbody tr th {\n",
              "        vertical-align: top;\n",
              "    }\n",
              "\n",
              "    .dataframe thead th {\n",
              "        text-align: right;\n",
              "    }\n",
              "</style>\n",
              "<table border=\"1\" class=\"dataframe\">\n",
              "  <thead>\n",
              "    <tr style=\"text-align: right;\">\n",
              "      <th></th>\n",
              "      <th>department</th>\n",
              "      <th>region</th>\n",
              "      <th>education</th>\n",
              "      <th>gender</th>\n",
              "      <th>recruitment_channel</th>\n",
              "      <th>no_of_trainings</th>\n",
              "      <th>age</th>\n",
              "      <th>previous_year_rating</th>\n",
              "      <th>length_of_service</th>\n",
              "      <th>awards_won</th>\n",
              "      <th>avg_training_score</th>\n",
              "      <th>is_promoted</th>\n",
              "    </tr>\n",
              "  </thead>\n",
              "  <tbody>\n",
              "    <tr>\n",
              "      <th>0</th>\n",
              "      <td>Sales &amp; Marketing</td>\n",
              "      <td>region_7</td>\n",
              "      <td>Master's &amp; above</td>\n",
              "      <td>f</td>\n",
              "      <td>sourcing</td>\n",
              "      <td>1</td>\n",
              "      <td>35</td>\n",
              "      <td>5.0</td>\n",
              "      <td>8</td>\n",
              "      <td>0</td>\n",
              "      <td>49</td>\n",
              "      <td>0</td>\n",
              "    </tr>\n",
              "    <tr>\n",
              "      <th>1</th>\n",
              "      <td>Operations</td>\n",
              "      <td>region_22</td>\n",
              "      <td>Bachelor's</td>\n",
              "      <td>m</td>\n",
              "      <td>other</td>\n",
              "      <td>1</td>\n",
              "      <td>30</td>\n",
              "      <td>5.0</td>\n",
              "      <td>4</td>\n",
              "      <td>0</td>\n",
              "      <td>60</td>\n",
              "      <td>0</td>\n",
              "    </tr>\n",
              "    <tr>\n",
              "      <th>2</th>\n",
              "      <td>Sales &amp; Marketing</td>\n",
              "      <td>region_19</td>\n",
              "      <td>Bachelor's</td>\n",
              "      <td>m</td>\n",
              "      <td>sourcing</td>\n",
              "      <td>1</td>\n",
              "      <td>34</td>\n",
              "      <td>3.0</td>\n",
              "      <td>7</td>\n",
              "      <td>0</td>\n",
              "      <td>50</td>\n",
              "      <td>0</td>\n",
              "    </tr>\n",
              "    <tr>\n",
              "      <th>3</th>\n",
              "      <td>Sales &amp; Marketing</td>\n",
              "      <td>region_23</td>\n",
              "      <td>Bachelor's</td>\n",
              "      <td>m</td>\n",
              "      <td>other</td>\n",
              "      <td>2</td>\n",
              "      <td>39</td>\n",
              "      <td>1.0</td>\n",
              "      <td>10</td>\n",
              "      <td>0</td>\n",
              "      <td>50</td>\n",
              "      <td>0</td>\n",
              "    </tr>\n",
              "    <tr>\n",
              "      <th>4</th>\n",
              "      <td>Technology</td>\n",
              "      <td>region_26</td>\n",
              "      <td>Bachelor's</td>\n",
              "      <td>m</td>\n",
              "      <td>other</td>\n",
              "      <td>1</td>\n",
              "      <td>45</td>\n",
              "      <td>3.0</td>\n",
              "      <td>2</td>\n",
              "      <td>0</td>\n",
              "      <td>73</td>\n",
              "      <td>0</td>\n",
              "    </tr>\n",
              "    <tr>\n",
              "      <th>...</th>\n",
              "      <td>...</td>\n",
              "      <td>...</td>\n",
              "      <td>...</td>\n",
              "      <td>...</td>\n",
              "      <td>...</td>\n",
              "      <td>...</td>\n",
              "      <td>...</td>\n",
              "      <td>...</td>\n",
              "      <td>...</td>\n",
              "      <td>...</td>\n",
              "      <td>...</td>\n",
              "      <td>...</td>\n",
              "    </tr>\n",
              "    <tr>\n",
              "      <th>54803</th>\n",
              "      <td>Technology</td>\n",
              "      <td>region_14</td>\n",
              "      <td>Bachelor's</td>\n",
              "      <td>m</td>\n",
              "      <td>sourcing</td>\n",
              "      <td>1</td>\n",
              "      <td>48</td>\n",
              "      <td>3.0</td>\n",
              "      <td>17</td>\n",
              "      <td>0</td>\n",
              "      <td>78</td>\n",
              "      <td>0</td>\n",
              "    </tr>\n",
              "    <tr>\n",
              "      <th>54804</th>\n",
              "      <td>Operations</td>\n",
              "      <td>region_27</td>\n",
              "      <td>Master's &amp; above</td>\n",
              "      <td>f</td>\n",
              "      <td>other</td>\n",
              "      <td>1</td>\n",
              "      <td>37</td>\n",
              "      <td>2.0</td>\n",
              "      <td>6</td>\n",
              "      <td>0</td>\n",
              "      <td>56</td>\n",
              "      <td>0</td>\n",
              "    </tr>\n",
              "    <tr>\n",
              "      <th>54805</th>\n",
              "      <td>Analytics</td>\n",
              "      <td>region_1</td>\n",
              "      <td>Bachelor's</td>\n",
              "      <td>m</td>\n",
              "      <td>other</td>\n",
              "      <td>1</td>\n",
              "      <td>27</td>\n",
              "      <td>5.0</td>\n",
              "      <td>3</td>\n",
              "      <td>0</td>\n",
              "      <td>79</td>\n",
              "      <td>0</td>\n",
              "    </tr>\n",
              "    <tr>\n",
              "      <th>54806</th>\n",
              "      <td>Sales &amp; Marketing</td>\n",
              "      <td>region_9</td>\n",
              "      <td>NaN</td>\n",
              "      <td>m</td>\n",
              "      <td>sourcing</td>\n",
              "      <td>1</td>\n",
              "      <td>29</td>\n",
              "      <td>1.0</td>\n",
              "      <td>2</td>\n",
              "      <td>0</td>\n",
              "      <td>45</td>\n",
              "      <td>0</td>\n",
              "    </tr>\n",
              "    <tr>\n",
              "      <th>54807</th>\n",
              "      <td>HR</td>\n",
              "      <td>region_22</td>\n",
              "      <td>Bachelor's</td>\n",
              "      <td>m</td>\n",
              "      <td>other</td>\n",
              "      <td>1</td>\n",
              "      <td>27</td>\n",
              "      <td>1.0</td>\n",
              "      <td>5</td>\n",
              "      <td>0</td>\n",
              "      <td>49</td>\n",
              "      <td>0</td>\n",
              "    </tr>\n",
              "  </tbody>\n",
              "</table>\n",
              "<p>54808 rows × 12 columns</p>\n",
              "</div>"
            ],
            "text/plain": [
              "              department     region  ... avg_training_score is_promoted\n",
              "0      Sales & Marketing   region_7  ...                 49           0\n",
              "1             Operations  region_22  ...                 60           0\n",
              "2      Sales & Marketing  region_19  ...                 50           0\n",
              "3      Sales & Marketing  region_23  ...                 50           0\n",
              "4             Technology  region_26  ...                 73           0\n",
              "...                  ...        ...  ...                ...         ...\n",
              "54803         Technology  region_14  ...                 78           0\n",
              "54804         Operations  region_27  ...                 56           0\n",
              "54805          Analytics   region_1  ...                 79           0\n",
              "54806  Sales & Marketing   region_9  ...                 45           0\n",
              "54807                 HR  region_22  ...                 49           0\n",
              "\n",
              "[54808 rows x 12 columns]"
            ]
          },
          "metadata": {},
          "execution_count": 112
        }
      ]
    },
    {
      "cell_type": "markdown",
      "metadata": {
        "id": "6utjhRKvy5sx"
      },
      "source": [
        "# 2. Описательная статистика"
      ]
    },
    {
      "cell_type": "code",
      "metadata": {
        "colab": {
          "base_uri": "https://localhost:8080/",
          "height": 381
        },
        "id": "ByYpQnGmSmfV",
        "outputId": "c3340931-e28f-4300-8810-54b52f35f176"
      },
      "source": [
        "sns.heatmap(data.corr(), cmap='coolwarm')"
      ],
      "execution_count": 113,
      "outputs": [
        {
          "output_type": "execute_result",
          "data": {
            "text/plain": [
              "<matplotlib.axes._subplots.AxesSubplot at 0x7efcb7eca650>"
            ]
          },
          "metadata": {},
          "execution_count": 113
        },
        {
          "output_type": "display_data",
          "data": {
            "image/png": "[encoded data removed]",
            "text/plain": [
              "<Figure size 432x288 with 2 Axes>"
            ]
          },
          "metadata": {
            "needs_background": "light"
          }
        }
      ]
    },
    {
      "cell_type": "markdown",
      "metadata": {
        "id": "prW7pBQVS3cA"
      },
      "source": [
        "# 3. Поиск и обработка пропущенных значений"
      ]
    },
    {
      "cell_type": "markdown",
      "metadata": {
        "id": "4wy_d2yNlUWg"
      },
      "source": [
        "Посмотрим сколько пропцщенных значений в каждом столбце"
      ]
    },
    {
      "cell_type": "code",
      "metadata": {
        "colab": {
          "base_uri": "https://localhost:8080/"
        },
        "id": "Pb6D-o8zS2xq",
        "outputId": "975be027-6fd5-43e4-bf82-993f639d24d3"
      },
      "source": [
        "data.isna().sum()"
      ],
      "execution_count": 114,
      "outputs": [
        {
          "output_type": "execute_result",
          "data": {
            "text/plain": [
              "department                 0\n",
              "region                     0\n",
              "education               2409\n",
              "gender                     0\n",
              "recruitment_channel        0\n",
              "no_of_trainings            0\n",
              "age                        0\n",
              "previous_year_rating    4124\n",
              "length_of_service          0\n",
              "awards_won                 0\n",
              "avg_training_score         0\n",
              "is_promoted                0\n",
              "dtype: int64"
            ]
          },
          "metadata": {},
          "execution_count": 114
        }
      ]
    },
    {
      "cell_type": "code",
      "metadata": {
        "colab": {
          "base_uri": "https://localhost:8080/"
        },
        "id": "PASTfZFVn8Yy",
        "outputId": "b0d950a2-70cf-49a5-a4a0-2e614980f93a"
      },
      "source": [
        "data.education.unique()"
      ],
      "execution_count": 115,
      "outputs": [
        {
          "output_type": "execute_result",
          "data": {
            "text/plain": [
              "array([\"Master's & above\", \"Bachelor's\", nan, 'Below Secondary'],\n",
              "      dtype=object)"
            ]
          },
          "metadata": {},
          "execution_count": 115
        }
      ]
    },
    {
      "cell_type": "code",
      "metadata": {
        "colab": {
          "base_uri": "https://localhost:8080/"
        },
        "id": "x7FnulK3oBA0",
        "outputId": "e64bfb6d-5539-459d-80c1-2307de816997"
      },
      "source": [
        "data.previous_year_rating.unique()"
      ],
      "execution_count": 116,
      "outputs": [
        {
          "output_type": "execute_result",
          "data": {
            "text/plain": [
              "array([ 5.,  3.,  1.,  4., nan,  2.])"
            ]
          },
          "metadata": {},
          "execution_count": 116
        }
      ]
    },
    {
      "cell_type": "markdown",
      "metadata": {
        "id": "MwHEPrw4ZXw-"
      },
      "source": [
        "В столбце education пропущенные значения означают отсутствие образования совсем, поэтому заменим их на строковое обознакчение\\\n",
        "Также понятно, что работники, у которых в столбце previous_year_rating пустое значение, работают первый год, поэтому заменим пропущенные значения на 0\n",
        "\n",
        "Заполним пустые значения в столбцах:"
      ]
    },
    {
      "cell_type": "code",
      "metadata": {
        "id": "NboTsCg1nmvD"
      },
      "source": [
        "data.education = data.education.fillna('Without education')"
      ],
      "execution_count": 117,
      "outputs": []
    },
    {
      "cell_type": "code",
      "metadata": {
        "colab": {
          "base_uri": "https://localhost:8080/"
        },
        "id": "ghCpWO62k4NJ",
        "outputId": "779840a6-1308-4dbc-c136-c5c5f60ed1b3"
      },
      "source": [
        "data.education.unique()"
      ],
      "execution_count": 118,
      "outputs": [
        {
          "output_type": "execute_result",
          "data": {
            "text/plain": [
              "array([\"Master's & above\", \"Bachelor's\", 'Without education',\n",
              "       'Below Secondary'], dtype=object)"
            ]
          },
          "metadata": {},
          "execution_count": 118
        }
      ]
    },
    {
      "cell_type": "code",
      "metadata": {
        "id": "UKYZmeuNoGzK"
      },
      "source": [
        "data.previous_year_rating = data.previous_year_rating.fillna(0.0)"
      ],
      "execution_count": 119,
      "outputs": []
    },
    {
      "cell_type": "code",
      "metadata": {
        "colab": {
          "base_uri": "https://localhost:8080/"
        },
        "id": "6DVgPvEfmY-u",
        "outputId": "9cea5dc2-e229-4fa5-a89a-6d0bcf784ec2"
      },
      "source": [
        "data.previous_year_rating.unique()"
      ],
      "execution_count": 120,
      "outputs": [
        {
          "output_type": "execute_result",
          "data": {
            "text/plain": [
              "array([5., 3., 1., 4., 0., 2.])"
            ]
          },
          "metadata": {},
          "execution_count": 120
        }
      ]
    },
    {
      "cell_type": "markdown",
      "metadata": {
        "id": "XeajU3boWlG4"
      },
      "source": [
        "# 4. Обработка категориальных признаков"
      ]
    },
    {
      "cell_type": "code",
      "metadata": {
        "colab": {
          "base_uri": "https://localhost:8080/"
        },
        "id": "uIH1GUCFmKkl",
        "outputId": "b420108c-5235-498c-d18e-008912254878"
      },
      "source": [
        "s = (data.dtypes == 'object')\n",
        "object_cols = list(s[s].index)\n",
        "object_cols"
      ],
      "execution_count": 122,
      "outputs": [
        {
          "output_type": "execute_result",
          "data": {
            "text/plain": [
              "['department', 'region', 'education', 'gender', 'recruitment_channel']"
            ]
          },
          "metadata": {},
          "execution_count": 122
        }
      ]
    },
    {
      "cell_type": "code",
      "metadata": {
        "id": "zvExz3fKWn7I"
      },
      "source": [
        "from sklearn.preprocessing import OrdinalEncoder"
      ],
      "execution_count": 123,
      "outputs": []
    },
    {
      "cell_type": "markdown",
      "metadata": {
        "id": "cSKnRUpZmN8-"
      },
      "source": [
        ""
      ]
    },
    {
      "cell_type": "code",
      "metadata": {
        "id": "fQsmJHlCZdA9"
      },
      "source": [
        "ordinal_encoder = OrdinalEncoder()"
      ],
      "execution_count": 124,
      "outputs": []
    },
    {
      "cell_type": "code",
      "metadata": {
        "id": "FkpTHt1jl8sQ"
      },
      "source": [
        "data[object_cols] = ordinal_encoder.fit_transform(data[object_cols])"
      ],
      "execution_count": 125,
      "outputs": []
    },
    {
      "cell_type": "code",
      "metadata": {
        "colab": {
          "base_uri": "https://localhost:8080/"
        },
        "id": "gtoZGrTsmir8",
        "outputId": "1d5c5c86-1f62-4cfc-efa5-b21c04005fb1"
      },
      "source": [
        "ordinal_encoder.categories_"
      ],
      "execution_count": 126,
      "outputs": [
        {
          "output_type": "execute_result",
          "data": {
            "text/plain": [
              "[array(['Analytics', 'Finance', 'HR', 'Legal', 'Operations', 'Procurement',\n",
              "        'R&D', 'Sales & Marketing', 'Technology'], dtype=object),\n",
              " array(['region_1', 'region_10', 'region_11', 'region_12', 'region_13',\n",
              "        'region_14', 'region_15', 'region_16', 'region_17', 'region_18',\n",
              "        'region_19', 'region_2', 'region_20', 'region_21', 'region_22',\n",
              "        'region_23', 'region_24', 'region_25', 'region_26', 'region_27',\n",
              "        'region_28', 'region_29', 'region_3', 'region_30', 'region_31',\n",
              "        'region_32', 'region_33', 'region_34', 'region_4', 'region_5',\n",
              "        'region_6', 'region_7', 'region_8', 'region_9'], dtype=object),\n",
              " array([\"Bachelor's\", 'Below Secondary', \"Master's & above\",\n",
              "        'Without education'], dtype=object),\n",
              " array(['f', 'm'], dtype=object),\n",
              " array(['other', 'referred', 'sourcing'], dtype=object)]"
            ]
          },
          "metadata": {},
          "execution_count": 126
        }
      ]
    },
    {
      "cell_type": "code",
      "metadata": {
        "colab": {
          "base_uri": "https://localhost:8080/",
          "height": 224
        },
        "id": "8CZaFkqbnJ3S",
        "outputId": "604a4ab9-bb82-4066-bdbe-7c7610948984"
      },
      "source": [
        "data.head()"
      ],
      "execution_count": 127,
      "outputs": [
        {
          "output_type": "execute_result",
          "data": {
            "text/html": [
              "<div>\n",
              "<style scoped>\n",
              "    .dataframe tbody tr th:only-of-type {\n",
              "        vertical-align: middle;\n",
              "    }\n",
              "\n",
              "    .dataframe tbody tr th {\n",
              "        vertical-align: top;\n",
              "    }\n",
              "\n",
              "    .dataframe thead th {\n",
              "        text-align: right;\n",
              "    }\n",
              "</style>\n",
              "<table border=\"1\" class=\"dataframe\">\n",
              "  <thead>\n",
              "    <tr style=\"text-align: right;\">\n",
              "      <th></th>\n",
              "      <th>department</th>\n",
              "      <th>region</th>\n",
              "      <th>education</th>\n",
              "      <th>gender</th>\n",
              "      <th>recruitment_channel</th>\n",
              "      <th>no_of_trainings</th>\n",
              "      <th>age</th>\n",
              "      <th>previous_year_rating</th>\n",
              "      <th>length_of_service</th>\n",
              "      <th>awards_won</th>\n",
              "      <th>avg_training_score</th>\n",
              "      <th>is_promoted</th>\n",
              "    </tr>\n",
              "  </thead>\n",
              "  <tbody>\n",
              "    <tr>\n",
              "      <th>0</th>\n",
              "      <td>7.0</td>\n",
              "      <td>31.0</td>\n",
              "      <td>2.0</td>\n",
              "      <td>0.0</td>\n",
              "      <td>2.0</td>\n",
              "      <td>1</td>\n",
              "      <td>35</td>\n",
              "      <td>5.0</td>\n",
              "      <td>8</td>\n",
              "      <td>0</td>\n",
              "      <td>49</td>\n",
              "      <td>0</td>\n",
              "    </tr>\n",
              "    <tr>\n",
              "      <th>1</th>\n",
              "      <td>4.0</td>\n",
              "      <td>14.0</td>\n",
              "      <td>0.0</td>\n",
              "      <td>1.0</td>\n",
              "      <td>0.0</td>\n",
              "      <td>1</td>\n",
              "      <td>30</td>\n",
              "      <td>5.0</td>\n",
              "      <td>4</td>\n",
              "      <td>0</td>\n",
              "      <td>60</td>\n",
              "      <td>0</td>\n",
              "    </tr>\n",
              "    <tr>\n",
              "      <th>2</th>\n",
              "      <td>7.0</td>\n",
              "      <td>10.0</td>\n",
              "      <td>0.0</td>\n",
              "      <td>1.0</td>\n",
              "      <td>2.0</td>\n",
              "      <td>1</td>\n",
              "      <td>34</td>\n",
              "      <td>3.0</td>\n",
              "      <td>7</td>\n",
              "      <td>0</td>\n",
              "      <td>50</td>\n",
              "      <td>0</td>\n",
              "    </tr>\n",
              "    <tr>\n",
              "      <th>3</th>\n",
              "      <td>7.0</td>\n",
              "      <td>15.0</td>\n",
              "      <td>0.0</td>\n",
              "      <td>1.0</td>\n",
              "      <td>0.0</td>\n",
              "      <td>2</td>\n",
              "      <td>39</td>\n",
              "      <td>1.0</td>\n",
              "      <td>10</td>\n",
              "      <td>0</td>\n",
              "      <td>50</td>\n",
              "      <td>0</td>\n",
              "    </tr>\n",
              "    <tr>\n",
              "      <th>4</th>\n",
              "      <td>8.0</td>\n",
              "      <td>18.0</td>\n",
              "      <td>0.0</td>\n",
              "      <td>1.0</td>\n",
              "      <td>0.0</td>\n",
              "      <td>1</td>\n",
              "      <td>45</td>\n",
              "      <td>3.0</td>\n",
              "      <td>2</td>\n",
              "      <td>0</td>\n",
              "      <td>73</td>\n",
              "      <td>0</td>\n",
              "    </tr>\n",
              "  </tbody>\n",
              "</table>\n",
              "</div>"
            ],
            "text/plain": [
              "   department  region  education  ...  awards_won  avg_training_score  is_promoted\n",
              "0         7.0    31.0        2.0  ...           0                  49            0\n",
              "1         4.0    14.0        0.0  ...           0                  60            0\n",
              "2         7.0    10.0        0.0  ...           0                  50            0\n",
              "3         7.0    15.0        0.0  ...           0                  50            0\n",
              "4         8.0    18.0        0.0  ...           0                  73            0\n",
              "\n",
              "[5 rows x 12 columns]"
            ]
          },
          "metadata": {},
          "execution_count": 127
        }
      ]
    },
    {
      "cell_type": "markdown",
      "metadata": {
        "id": "yJXcX-_Bn0AJ"
      },
      "source": [
        "# 5. Нормализация данных"
      ]
    },
    {
      "cell_type": "code",
      "metadata": {
        "colab": {
          "base_uri": "https://localhost:8080/"
        },
        "id": "5TXdPRBao2LX",
        "outputId": "25f5e912-1743-4c8c-b90a-bdea1f68b20b"
      },
      "source": [
        "data.mean(axis=0), data.std(axis=0)"
      ],
      "execution_count": 128,
      "outputs": [
        {
          "output_type": "execute_result",
          "data": {
            "text/plain": [
              "(department               4.972796\n",
              " region                  15.428970\n",
              " education                0.691176\n",
              " gender                   0.702379\n",
              " recruitment_channel      0.868158\n",
              " no_of_trainings          1.253011\n",
              " age                     34.803915\n",
              " previous_year_rating     3.078748\n",
              " length_of_service        5.865512\n",
              " awards_won               0.023172\n",
              " avg_training_score      63.386750\n",
              " is_promoted              0.085170\n",
              " dtype: float64, department               2.506046\n",
              " region                   8.764954\n",
              " education                1.010851\n",
              " gender                   0.457216\n",
              " recruitment_channel      0.980713\n",
              " no_of_trainings          0.609264\n",
              " age                      7.660169\n",
              " previous_year_rating     1.496458\n",
              " length_of_service        4.265094\n",
              " awards_won               0.150450\n",
              " avg_training_score      13.371559\n",
              " is_promoted              0.279137\n",
              " dtype: float64)"
            ]
          },
          "metadata": {},
          "execution_count": 128
        }
      ]
    },
    {
      "cell_type": "code",
      "metadata": {
        "colab": {
          "base_uri": "https://localhost:8080/",
          "height": 402
        },
        "id": "4LIM6QGtrBpe",
        "outputId": "bae28917-48d7-42e5-89c6-256d3d615311"
      },
      "source": [
        "data_norm = (data - data.mean(axis=0)) / data.std(axis=0)\n",
        "data_norm.describe()"
      ],
      "execution_count": 129,
      "outputs": [
        {
          "output_type": "execute_result",
          "data": {
            "text/html": [
              "<div>\n",
              "<style scoped>\n",
              "    .dataframe tbody tr th:only-of-type {\n",
              "        vertical-align: middle;\n",
              "    }\n",
              "\n",
              "    .dataframe tbody tr th {\n",
              "        vertical-align: top;\n",
              "    }\n",
              "\n",
              "    .dataframe thead th {\n",
              "        text-align: right;\n",
              "    }\n",
              "</style>\n",
              "<table border=\"1\" class=\"dataframe\">\n",
              "  <thead>\n",
              "    <tr style=\"text-align: right;\">\n",
              "      <th></th>\n",
              "      <th>department</th>\n",
              "      <th>region</th>\n",
              "      <th>education</th>\n",
              "      <th>gender</th>\n",
              "      <th>recruitment_channel</th>\n",
              "      <th>no_of_trainings</th>\n",
              "      <th>age</th>\n",
              "      <th>previous_year_rating</th>\n",
              "      <th>length_of_service</th>\n",
              "      <th>awards_won</th>\n",
              "      <th>avg_training_score</th>\n",
              "      <th>is_promoted</th>\n",
              "    </tr>\n",
              "  </thead>\n",
              "  <tbody>\n",
              "    <tr>\n",
              "      <th>count</th>\n",
              "      <td>5.480800e+04</td>\n",
              "      <td>5.480800e+04</td>\n",
              "      <td>5.480800e+04</td>\n",
              "      <td>5.480800e+04</td>\n",
              "      <td>5.480800e+04</td>\n",
              "      <td>5.480800e+04</td>\n",
              "      <td>5.480800e+04</td>\n",
              "      <td>5.480800e+04</td>\n",
              "      <td>5.480800e+04</td>\n",
              "      <td>5.480800e+04</td>\n",
              "      <td>5.480800e+04</td>\n",
              "      <td>5.480800e+04</td>\n",
              "    </tr>\n",
              "    <tr>\n",
              "      <th>mean</th>\n",
              "      <td>-6.266537e-16</td>\n",
              "      <td>3.862242e-16</td>\n",
              "      <td>-1.768076e-16</td>\n",
              "      <td>-4.988347e-16</td>\n",
              "      <td>8.570015e-16</td>\n",
              "      <td>2.137098e-15</td>\n",
              "      <td>-3.489359e-16</td>\n",
              "      <td>-6.093992e-17</td>\n",
              "      <td>4.175880e-16</td>\n",
              "      <td>1.902468e-16</td>\n",
              "      <td>1.004605e-16</td>\n",
              "      <td>1.139711e-15</td>\n",
              "    </tr>\n",
              "    <tr>\n",
              "      <th>std</th>\n",
              "      <td>1.000000e+00</td>\n",
              "      <td>1.000000e+00</td>\n",
              "      <td>1.000000e+00</td>\n",
              "      <td>1.000000e+00</td>\n",
              "      <td>1.000000e+00</td>\n",
              "      <td>1.000000e+00</td>\n",
              "      <td>1.000000e+00</td>\n",
              "      <td>1.000000e+00</td>\n",
              "      <td>1.000000e+00</td>\n",
              "      <td>1.000000e+00</td>\n",
              "      <td>1.000000e+00</td>\n",
              "      <td>1.000000e+00</td>\n",
              "    </tr>\n",
              "    <tr>\n",
              "      <th>min</th>\n",
              "      <td>-1.984320e+00</td>\n",
              "      <td>-1.760303e+00</td>\n",
              "      <td>-6.837572e-01</td>\n",
              "      <td>-1.536209e+00</td>\n",
              "      <td>-8.852310e-01</td>\n",
              "      <td>-4.152724e-01</td>\n",
              "      <td>-1.932583e+00</td>\n",
              "      <td>-2.057356e+00</td>\n",
              "      <td>-1.140775e+00</td>\n",
              "      <td>-1.540163e-01</td>\n",
              "      <td>-1.823778e+00</td>\n",
              "      <td>-3.051190e-01</td>\n",
              "    </tr>\n",
              "    <tr>\n",
              "      <th>25%</th>\n",
              "      <td>-3.881797e-01</td>\n",
              "      <td>-5.053045e-01</td>\n",
              "      <td>-6.837572e-01</td>\n",
              "      <td>-1.536209e+00</td>\n",
              "      <td>-8.852310e-01</td>\n",
              "      <td>-4.152724e-01</td>\n",
              "      <td>-7.576746e-01</td>\n",
              "      <td>-7.208671e-01</td>\n",
              "      <td>-6.718521e-01</td>\n",
              "      <td>-1.540163e-01</td>\n",
              "      <td>-9.263504e-01</td>\n",
              "      <td>-3.051190e-01</td>\n",
              "    </tr>\n",
              "    <tr>\n",
              "      <th>50%</th>\n",
              "      <td>1.085537e-02</td>\n",
              "      <td>-1.630323e-01</td>\n",
              "      <td>-6.837572e-01</td>\n",
              "      <td>6.509413e-01</td>\n",
              "      <td>-8.852310e-01</td>\n",
              "      <td>-4.152724e-01</td>\n",
              "      <td>-2.354929e-01</td>\n",
              "      <td>-5.262266e-02</td>\n",
              "      <td>-2.029292e-01</td>\n",
              "      <td>-1.540163e-01</td>\n",
              "      <td>-2.532801e-01</td>\n",
              "      <td>-3.051190e-01</td>\n",
              "    </tr>\n",
              "    <tr>\n",
              "      <th>75%</th>\n",
              "      <td>8.089255e-01</td>\n",
              "      <td>6.356029e-01</td>\n",
              "      <td>1.294774e+00</td>\n",
              "      <td>6.509413e-01</td>\n",
              "      <td>1.154101e+00</td>\n",
              "      <td>-4.152724e-01</td>\n",
              "      <td>5.477796e-01</td>\n",
              "      <td>6.156218e-01</td>\n",
              "      <td>2.659936e-01</td>\n",
              "      <td>-1.540163e-01</td>\n",
              "      <td>9.432894e-01</td>\n",
              "      <td>-3.051190e-01</td>\n",
              "    </tr>\n",
              "    <tr>\n",
              "      <th>max</th>\n",
              "      <td>1.207961e+00</td>\n",
              "      <td>2.004692e+00</td>\n",
              "      <td>2.284040e+00</td>\n",
              "      <td>6.509413e-01</td>\n",
              "      <td>1.154101e+00</td>\n",
              "      <td>1.435665e+01</td>\n",
              "      <td>3.289233e+00</td>\n",
              "      <td>1.283866e+00</td>\n",
              "      <td>7.299836e+00</td>\n",
              "      <td>6.492699e+00</td>\n",
              "      <td>2.663358e+00</td>\n",
              "      <td>3.277350e+00</td>\n",
              "    </tr>\n",
              "  </tbody>\n",
              "</table>\n",
              "</div>"
            ],
            "text/plain": [
              "         department        region  ...  avg_training_score   is_promoted\n",
              "count  5.480800e+04  5.480800e+04  ...        5.480800e+04  5.480800e+04\n",
              "mean  -6.266537e-16  3.862242e-16  ...        1.004605e-16  1.139711e-15\n",
              "std    1.000000e+00  1.000000e+00  ...        1.000000e+00  1.000000e+00\n",
              "min   -1.984320e+00 -1.760303e+00  ...       -1.823778e+00 -3.051190e-01\n",
              "25%   -3.881797e-01 -5.053045e-01  ...       -9.263504e-01 -3.051190e-01\n",
              "50%    1.085537e-02 -1.630323e-01  ...       -2.532801e-01 -3.051190e-01\n",
              "75%    8.089255e-01  6.356029e-01  ...        9.432894e-01 -3.051190e-01\n",
              "max    1.207961e+00  2.004692e+00  ...        2.663358e+00  3.277350e+00\n",
              "\n",
              "[8 rows x 12 columns]"
            ]
          },
          "metadata": {},
          "execution_count": 129
        }
      ]
    },
    {
      "cell_type": "markdown",
      "metadata": {
        "id": "2-iJaRQBrQtQ"
      },
      "source": [
        "# 6. Отбор признаков"
      ]
    },
    {
      "cell_type": "code",
      "metadata": {
        "id": "EHF58zbXru5U"
      },
      "source": [
        "X = data_norm.drop(['is_promoted'], axis=1)"
      ],
      "execution_count": 130,
      "outputs": []
    },
    {
      "cell_type": "code",
      "metadata": {
        "id": "kLAOaFFQsPSc"
      },
      "source": [
        "y = data.is_promoted"
      ],
      "execution_count": 131,
      "outputs": []
    },
    {
      "cell_type": "code",
      "metadata": {
        "id": "jtqA18oarZ6Y"
      },
      "source": [
        "from sklearn.model_selection import train_test_split"
      ],
      "execution_count": 132,
      "outputs": []
    },
    {
      "cell_type": "code",
      "metadata": {
        "id": "-3BJd4sorjsT"
      },
      "source": [
        "X_train, X_test, y_train, y_test = train_test_split(X, y, test_size=0.3, random_state=88)"
      ],
      "execution_count": 133,
      "outputs": []
    },
    {
      "cell_type": "markdown",
      "metadata": {
        "id": "WxyGPNsltYg2"
      },
      "source": [
        "# 7. Обучение c помощью KNeighborsClassifier"
      ]
    },
    {
      "cell_type": "markdown",
      "metadata": {
        "id": "pSm-kBjhhZ7F"
      },
      "source": [
        "### 7.1. Обучение модели"
      ]
    },
    {
      "cell_type": "code",
      "metadata": {
        "id": "ZKU1tQEKtWY6"
      },
      "source": [
        "from sklearn.neighbors import KNeighborsClassifier"
      ],
      "execution_count": 134,
      "outputs": []
    },
    {
      "cell_type": "code",
      "metadata": {
        "id": "_PDoi1b3XZj-"
      },
      "source": [
        "model_k2 = KNeighborsClassifier(n_neighbors=2)\n",
        "model_k2.fit(X_train, y_train)\n",
        "\n",
        "y_k2_train_predict = model_k2.predict(X_train)\n",
        "y_k2_test_predict = model_k2.predict(X_test)"
      ],
      "execution_count": 135,
      "outputs": []
    },
    {
      "cell_type": "code",
      "metadata": {
        "id": "jVDOyMtdtyrh"
      },
      "source": [
        "model_k5 = KNeighborsClassifier(n_neighbors=5)\n",
        "model_k5.fit(X_train, y_train)\n",
        "\n",
        "y_k5_train_predict = model_k5.predict(X_train)\n",
        "y_k5_test_predict = model_k5.predict(X_test)"
      ],
      "execution_count": 136,
      "outputs": []
    },
    {
      "cell_type": "code",
      "metadata": {
        "id": "pELqmSfXuGy8"
      },
      "source": [
        "model_k10 = KNeighborsClassifier(n_neighbors=10)\n",
        "model_k10.fit(X_train, y_train)\n",
        "\n",
        "y_k10_train_predict = model_k10.predict(X_train)\n",
        "y_k10_test_predict = model_k10.predict(X_test)"
      ],
      "execution_count": 137,
      "outputs": []
    },
    {
      "cell_type": "code",
      "metadata": {
        "id": "rf4LeDSkWfvA"
      },
      "source": [
        "model_k15 = KNeighborsClassifier(n_neighbors=15)\n",
        "model_k15.fit(X_train, y_train)\n",
        "\n",
        "y_k15_train_predict = model_k15.predict(X_train)\n",
        "y_k15_test_predict = model_k15.predict(X_test)"
      ],
      "execution_count": 100,
      "outputs": []
    },
    {
      "cell_type": "code",
      "metadata": {
        "id": "opbsya7NXGQX"
      },
      "source": [
        "model_k50 = KNeighborsClassifier(n_neighbors=50)\n",
        "model_k50.fit(X_train, y_train)\n",
        "\n",
        "y_k50_train_predict = model_k50.predict(X_train)\n",
        "y_k50_test_predict = model_k50.predict(X_test)"
      ],
      "execution_count": 101,
      "outputs": []
    },
    {
      "cell_type": "markdown",
      "metadata": {
        "id": "7zdQbCRsxJpV"
      },
      "source": [
        "### 7.2. Метрика качества"
      ]
    },
    {
      "cell_type": "code",
      "metadata": {
        "id": "6GWHiwSKu3PN"
      },
      "source": [
        "from sklearn.metrics import mean_squared_error"
      ],
      "execution_count": 102,
      "outputs": []
    },
    {
      "cell_type": "code",
      "metadata": {
        "colab": {
          "base_uri": "https://localhost:8080/"
        },
        "id": "FB9IGA4_XdtP",
        "outputId": "19396815-a40e-48b8-cd71-cca78329dff9"
      },
      "source": [
        "MSE_train = mean_squared_error(y_train, y_k2_train_predict)\n",
        "MSE_test = mean_squared_error(y_test, y_k2_test_predict)\n",
        "MSE_train, MSE_test"
      ],
      "execution_count": 138,
      "outputs": [
        {
          "output_type": "execute_result",
          "data": {
            "text/plain": [
              "(0.06573699986967288, 0.08502098157270571)"
            ]
          },
          "metadata": {},
          "execution_count": 138
        }
      ]
    },
    {
      "cell_type": "code",
      "metadata": {
        "colab": {
          "base_uri": "https://localhost:8080/"
        },
        "id": "xEfKJlQvxR0D",
        "outputId": "8dbfe508-60a7-4b19-d0c0-c5662a5e087e"
      },
      "source": [
        "MSE_train = mean_squared_error(y_train, y_k5_train_predict)\n",
        "MSE_test = mean_squared_error(y_test, y_k5_test_predict)\n",
        "MSE_train, MSE_test"
      ],
      "execution_count": 104,
      "outputs": [
        {
          "output_type": "execute_result",
          "data": {
            "text/plain": [
              "(0.07128893522742083, 0.08471690080885483)"
            ]
          },
          "metadata": {},
          "execution_count": 104
        }
      ]
    },
    {
      "cell_type": "code",
      "metadata": {
        "colab": {
          "base_uri": "https://localhost:8080/"
        },
        "id": "wKBBBoTgySv6",
        "outputId": "ab8d9e35-c7ff-4fe4-e21e-3edc6abd1244"
      },
      "source": [
        "MSE_train = mean_squared_error(y_train, y_k10_train_predict)\n",
        "MSE_test = mean_squared_error(y_test, y_k10_test_predict)\n",
        "MSE_train, MSE_test"
      ],
      "execution_count": 105,
      "outputs": [
        {
          "output_type": "execute_result",
          "data": {
            "text/plain": [
              "(0.07746644076632347, 0.08301404853128991)"
            ]
          },
          "metadata": {},
          "execution_count": 105
        }
      ]
    },
    {
      "cell_type": "code",
      "metadata": {
        "colab": {
          "base_uri": "https://localhost:8080/"
        },
        "id": "KRudawemWUvP",
        "outputId": "0ae5bf93-c3c4-46b5-891b-cacb7852584c"
      },
      "source": [
        "MSE_train = mean_squared_error(y_train, y_k15_train_predict)\n",
        "MSE_test = mean_squared_error(y_test, y_k15_test_predict)\n",
        "MSE_train, MSE_test"
      ],
      "execution_count": 106,
      "outputs": [
        {
          "output_type": "execute_result",
          "data": {
            "text/plain": [
              "(0.07783135670533038, 0.0822842546980478)"
            ]
          },
          "metadata": {},
          "execution_count": 106
        }
      ]
    },
    {
      "cell_type": "code",
      "metadata": {
        "colab": {
          "base_uri": "https://localhost:8080/"
        },
        "id": "eA37W3bvXRAi",
        "outputId": "e93301a2-5ddb-4fdd-b0b9-ccdab5400d33"
      },
      "source": [
        "MSE_train = mean_squared_error(y_train, y_k50_train_predict)\n",
        "MSE_test = mean_squared_error(y_test, y_k50_test_predict)\n",
        "MSE_train, MSE_test"
      ],
      "execution_count": 107,
      "outputs": [
        {
          "output_type": "execute_result",
          "data": {
            "text/plain": [
              "(0.07989052521829793, 0.08283160007297938)"
            ]
          },
          "metadata": {},
          "execution_count": 107
        }
      ]
    },
    {
      "cell_type": "markdown",
      "metadata": {
        "id": "d-A7yk5-h8ME"
      },
      "source": [
        "# 8. Обучение с помощью RandomForestClassifier"
      ]
    },
    {
      "cell_type": "markdown",
      "metadata": {
        "id": "1yOhQjBHnLK8"
      },
      "source": [
        "### 8.1. Обучение модели"
      ]
    },
    {
      "cell_type": "code",
      "metadata": {
        "id": "JxWywgnQiJz2"
      },
      "source": [
        "from sklearn.ensemble import RandomForestClassifier"
      ],
      "execution_count": 139,
      "outputs": []
    },
    {
      "cell_type": "code",
      "metadata": {
        "colab": {
          "base_uri": "https://localhost:8080/"
        },
        "id": "6XBHpJW-if5z",
        "outputId": "0917696a-ae62-4874-87c3-4bd6d6d85c9a"
      },
      "source": [
        "rf_model = RandomForestClassifier(random_state=88)\n",
        "rf_model.fit(X_train, y_train)"
      ],
      "execution_count": 149,
      "outputs": [
        {
          "output_type": "execute_result",
          "data": {
            "text/plain": [
              "RandomForestClassifier(bootstrap=True, ccp_alpha=0.0, class_weight=None,\n",
              "                       criterion='gini', max_depth=None, max_features='auto',\n",
              "                       max_leaf_nodes=None, max_samples=None,\n",
              "                       min_impurity_decrease=0.0, min_impurity_split=None,\n",
              "                       min_samples_leaf=1, min_samples_split=2,\n",
              "                       min_weight_fraction_leaf=0.0, n_estimators=100,\n",
              "                       n_jobs=None, oob_score=False, random_state=88, verbose=0,\n",
              "                       warm_start=False)"
            ]
          },
          "metadata": {},
          "execution_count": 149
        }
      ]
    },
    {
      "cell_type": "code",
      "metadata": {
        "id": "g_69sMAimuVJ"
      },
      "source": [
        "y_rf_train_predict = rf_model.predict(X_train)\n",
        "y_rf_test_predict = rf_model.predict(X_test)"
      ],
      "execution_count": 150,
      "outputs": []
    },
    {
      "cell_type": "markdown",
      "metadata": {
        "id": "TzwC-MJJnNQL"
      },
      "source": [
        "### 8.2. Метрика качетсва"
      ]
    },
    {
      "cell_type": "code",
      "metadata": {
        "colab": {
          "base_uri": "https://localhost:8080/"
        },
        "id": "7aKdoHr5nYnk",
        "outputId": "780d8f9a-2cee-48a3-9f88-c920058e03ca"
      },
      "source": [
        "MSE_train = mean_squared_error(y_train, y_rf_train_predict)\n",
        "MSE_test = mean_squared_error(y_test, y_rf_test_predict)\n",
        "\n",
        "MSE_train, MSE_test"
      ],
      "execution_count": 151,
      "outputs": [
        {
          "output_type": "execute_result",
          "data": {
            "text/plain": [
              "(0.00041704678743646555, 0.06574226114456)"
            ]
          },
          "metadata": {},
          "execution_count": 151
        }
      ]
    },
    {
      "cell_type": "markdown",
      "metadata": {
        "id": "CriYOEfxoizo"
      },
      "source": [
        "### 8.3. Важность признаков"
      ]
    },
    {
      "cell_type": "code",
      "metadata": {
        "colab": {
          "base_uri": "https://localhost:8080/"
        },
        "id": "UVGAytP5n4_v",
        "outputId": "61581faa-22d4-4fc3-cc1b-f29d4aada124"
      },
      "source": [
        "importances = rf_model.feature_importances_\n",
        "\n",
        "importances = pd.Series(rf_model.feature_importances_, index=X.columns).sort_values(ascending=False)\n",
        "importances"
      ],
      "execution_count": 159,
      "outputs": [
        {
          "output_type": "execute_result",
          "data": {
            "text/plain": [
              "avg_training_score      0.302513\n",
              "age                     0.156408\n",
              "region                  0.132331\n",
              "length_of_service       0.120632\n",
              "department              0.093127\n",
              "previous_year_rating    0.052179\n",
              "recruitment_channel     0.036351\n",
              "awards_won              0.028701\n",
              "no_of_trainings         0.026949\n",
              "gender                  0.026158\n",
              "education               0.024651\n",
              "dtype: float64"
            ]
          },
          "metadata": {},
          "execution_count": 159
        }
      ]
    },
    {
      "cell_type": "code",
      "metadata": {
        "colab": {
          "base_uri": "https://localhost:8080/",
          "height": 265
        },
        "id": "NLzr0RvfotMY",
        "outputId": "6847d391-9f74-4016-a03f-4798afb4aaa2"
      },
      "source": [
        "sns.barplot(y=importances.index, x=importances)\n",
        "pass"
      ],
      "execution_count": 163,
      "outputs": [
        {
          "output_type": "display_data",
          "data": {
            "image/png": "[encoded data removed]",
            "text/plain": [
              "<Figure size 432x288 with 1 Axes>"
            ]
          },
          "metadata": {
            "needs_background": "light"
          }
        }
      ]
    }
  ]
}