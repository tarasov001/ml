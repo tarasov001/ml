{
  "nbformat": 4,
  "nbformat_minor": 0,
  "metadata": {
    "colab": {
      "name": "Employee_promotion",
      "provenance": [],
      "collapsed_sections": [
        "n4AsuC7DPCas",
        "p4kLiJaaQcUp",
        "6utjhRKvy5sx",
        "prW7pBQVS3cA",
        "XeajU3boWlG4",
        "yJXcX-_Bn0AJ",
        "2-iJaRQBrQtQ",
        "WxyGPNsltYg2",
        "7zdQbCRsxJpV"
      ],
      "authorship_tag": "ABX9TyOQo4kNefVNqDpQEZdvIXu7",
      "include_colab_link": true
    },
    "kernelspec": {
      "display_name": "Python 3",
      "name": "python3"
    },
    "language_info": {
      "name": "python"
    }
  },
  "cells": [
    {
      "cell_type": "markdown",
      "metadata": {
        "id": "view-in-github",
        "colab_type": "text"
      },
      "source": [
        "<a href=\"https://colab.research.google.com/github/tarasov001/ml/blob/main/Employee_promotion.ipynb\" target=\"_parent\"><img src=\"https://colab.research.google.com/assets/colab-badge.svg\" alt=\"Open In Colab\"/></a>"
      ]
    },
    {
      "cell_type": "code",
      "metadata": {
        "colab": {
          "base_uri": "https://localhost:8080/",
          "height": 34
        },
        "id": "mjDngkQjl1D5",
        "outputId": "f13c5a03-2f58-4d00-9a37-2b4afbc76620"
      },
      "source": [
        "import pandas as pd\n",
        "import matplotlib.pyplot as plt\n",
        "import seaborn as sns\n",
        "%matplotlib inline \n",
        "%autosave 10"
      ],
      "execution_count": 123,
      "outputs": [
        {
          "output_type": "display_data",
          "data": {
            "application/javascript": [
              "IPython.notebook.set_autosave_interval(10000)"
            ]
          },
          "metadata": {}
        },
        {
          "output_type": "stream",
          "name": "stdout",
          "text": [
            "Autosaving every 10 seconds\n"
          ]
        }
      ]
    },
    {
      "cell_type": "markdown",
      "metadata": {
        "id": "n4AsuC7DPCas"
      },
      "source": [
        "# 0. Описание задачи"
      ]
    },
    {
      "cell_type": "markdown",
      "metadata": {
        "id": "_6WogQqJPOSZ"
      },
      "source": [
        "У крупных организаций существует проблема - определения людей для продвижения и своевременная подготовка к новым должностям.\n",
        "\n",
        "Окончательные предложения делаются сотрдникам только после долгой оценки его работы, что приводит к задержке перехода к новым должностям. Следовательно, компании нужна помощь в определении подходящих кандидатов на повышение, чтобы они могли ускорить весь цикл продвижения."
      ]
    },
    {
      "cell_type": "markdown",
      "metadata": {
        "id": "p4kLiJaaQcUp"
      },
      "source": [
        "# 1. Загрузка данных"
      ]
    },
    {
      "cell_type": "code",
      "metadata": {
        "colab": {
          "base_uri": "https://localhost:8080/",
          "height": 275
        },
        "id": "yI_U9ivprPlK",
        "outputId": "8ad6582e-8444-4ec1-f025-31855c7bb213"
      },
      "source": [
        "data = pd.read_csv(\"data.csv\")\n",
        "\n",
        "data.head()"
      ],
      "execution_count": 124,
      "outputs": [
        {
          "output_type": "execute_result",
          "data": {
            "text/html": [
              "<div>\n",
              "<style scoped>\n",
              "    .dataframe tbody tr th:only-of-type {\n",
              "        vertical-align: middle;\n",
              "    }\n",
              "\n",
              "    .dataframe tbody tr th {\n",
              "        vertical-align: top;\n",
              "    }\n",
              "\n",
              "    .dataframe thead th {\n",
              "        text-align: right;\n",
              "    }\n",
              "</style>\n",
              "<table border=\"1\" class=\"dataframe\">\n",
              "  <thead>\n",
              "    <tr style=\"text-align: right;\">\n",
              "      <th></th>\n",
              "      <th>employee_id</th>\n",
              "      <th>department</th>\n",
              "      <th>region</th>\n",
              "      <th>education</th>\n",
              "      <th>gender</th>\n",
              "      <th>recruitment_channel</th>\n",
              "      <th>no_of_trainings</th>\n",
              "      <th>age</th>\n",
              "      <th>previous_year_rating</th>\n",
              "      <th>length_of_service</th>\n",
              "      <th>awards_won?</th>\n",
              "      <th>avg_training_score</th>\n",
              "      <th>is_promoted</th>\n",
              "    </tr>\n",
              "  </thead>\n",
              "  <tbody>\n",
              "    <tr>\n",
              "      <th>0</th>\n",
              "      <td>65438</td>\n",
              "      <td>Sales &amp; Marketing</td>\n",
              "      <td>region_7</td>\n",
              "      <td>Master's &amp; above</td>\n",
              "      <td>f</td>\n",
              "      <td>sourcing</td>\n",
              "      <td>1.0</td>\n",
              "      <td>35.0</td>\n",
              "      <td>5.0</td>\n",
              "      <td>8.0</td>\n",
              "      <td>0.0</td>\n",
              "      <td>49.0</td>\n",
              "      <td>0.0</td>\n",
              "    </tr>\n",
              "    <tr>\n",
              "      <th>1</th>\n",
              "      <td>65141</td>\n",
              "      <td>Operations</td>\n",
              "      <td>region_22</td>\n",
              "      <td>Bachelor's</td>\n",
              "      <td>m</td>\n",
              "      <td>other</td>\n",
              "      <td>1.0</td>\n",
              "      <td>30.0</td>\n",
              "      <td>5.0</td>\n",
              "      <td>4.0</td>\n",
              "      <td>0.0</td>\n",
              "      <td>60.0</td>\n",
              "      <td>0.0</td>\n",
              "    </tr>\n",
              "    <tr>\n",
              "      <th>2</th>\n",
              "      <td>7513</td>\n",
              "      <td>Sales &amp; Marketing</td>\n",
              "      <td>region_19</td>\n",
              "      <td>Bachelor's</td>\n",
              "      <td>m</td>\n",
              "      <td>sourcing</td>\n",
              "      <td>1.0</td>\n",
              "      <td>34.0</td>\n",
              "      <td>3.0</td>\n",
              "      <td>7.0</td>\n",
              "      <td>0.0</td>\n",
              "      <td>50.0</td>\n",
              "      <td>0.0</td>\n",
              "    </tr>\n",
              "    <tr>\n",
              "      <th>3</th>\n",
              "      <td>2542</td>\n",
              "      <td>Sales &amp; Marketing</td>\n",
              "      <td>region_23</td>\n",
              "      <td>Bachelor's</td>\n",
              "      <td>m</td>\n",
              "      <td>other</td>\n",
              "      <td>2.0</td>\n",
              "      <td>39.0</td>\n",
              "      <td>1.0</td>\n",
              "      <td>10.0</td>\n",
              "      <td>0.0</td>\n",
              "      <td>50.0</td>\n",
              "      <td>0.0</td>\n",
              "    </tr>\n",
              "    <tr>\n",
              "      <th>4</th>\n",
              "      <td>48945</td>\n",
              "      <td>Technology</td>\n",
              "      <td>region_26</td>\n",
              "      <td>Bachelor's</td>\n",
              "      <td>m</td>\n",
              "      <td>other</td>\n",
              "      <td>1.0</td>\n",
              "      <td>45.0</td>\n",
              "      <td>3.0</td>\n",
              "      <td>2.0</td>\n",
              "      <td>0.0</td>\n",
              "      <td>73.0</td>\n",
              "      <td>0.0</td>\n",
              "    </tr>\n",
              "  </tbody>\n",
              "</table>\n",
              "</div>"
            ],
            "text/plain": [
              "   employee_id         department  ... avg_training_score is_promoted\n",
              "0        65438  Sales & Marketing  ...               49.0         0.0\n",
              "1        65141         Operations  ...               60.0         0.0\n",
              "2         7513  Sales & Marketing  ...               50.0         0.0\n",
              "3         2542  Sales & Marketing  ...               50.0         0.0\n",
              "4        48945         Technology  ...               73.0         0.0\n",
              "\n",
              "[5 rows x 13 columns]"
            ]
          },
          "metadata": {},
          "execution_count": 124
        }
      ]
    },
    {
      "cell_type": "code",
      "metadata": {
        "colab": {
          "base_uri": "https://localhost:8080/"
        },
        "id": "7PqPbDpoRwwG",
        "outputId": "1fddba75-225b-497e-eb98-a0cefb3bb8a4"
      },
      "source": [
        "data.columns"
      ],
      "execution_count": 125,
      "outputs": [
        {
          "output_type": "execute_result",
          "data": {
            "text/plain": [
              "Index(['employee_id', 'department', 'region', 'education', 'gender',\n",
              "       'recruitment_channel', 'no_of_trainings', 'age', 'previous_year_rating',\n",
              "       'length_of_service', 'awards_won?', 'avg_training_score',\n",
              "       'is_promoted'],\n",
              "      dtype='object')"
            ]
          },
          "metadata": {},
          "execution_count": 125
        }
      ]
    },
    {
      "cell_type": "markdown",
      "metadata": {
        "id": "JRnlyCmlWLmY"
      },
      "source": [
        "employee_id: Уникальный ID номер сотрудника\\\n",
        "department: Отдел\\\n",
        "region: Регион\\\n",
        "education: Образование\\\n",
        "gender: Пол\\\n",
        "recruitment_channel: Канал найма\\\n",
        "no_ of_ trainings: Количество пройденных сотрудником тренингов в прошлом году\\\n",
        "age: Возраст\\\n",
        "previous_ year_ rating: Рейтинг сотрудника в прошлом году\\\n",
        "Стаж: Length of service in years\\\n",
        "awards_ won: Есть ли награды в прошлом году (1 - да, 0 - нет)\\\n",
        "avg_ training_ score: Средний балл по обучающим курсам\\\n",
        "is_promoted: Рекомендован к повышению или нет"
      ]
    },
    {
      "cell_type": "code",
      "metadata": {
        "id": "sih00MYkRzdJ"
      },
      "source": [
        "data = data.rename(columns={'awards_won?' : 'awards_won'})"
      ],
      "execution_count": 126,
      "outputs": []
    },
    {
      "cell_type": "markdown",
      "metadata": {
        "id": "9t4kAso0qbCz"
      },
      "source": [
        "Удалим ненужный стобец данных с id номером каждого сотрудника"
      ]
    },
    {
      "cell_type": "code",
      "metadata": {
        "colab": {
          "base_uri": "https://localhost:8080/",
          "height": 558
        },
        "id": "Ivl69dwxqigu",
        "outputId": "8cab41cc-7a16-4ac9-91c7-f020032be579"
      },
      "source": [
        "data = data.drop(labels='employee_id', axis=1)\n",
        "data"
      ],
      "execution_count": 127,
      "outputs": [
        {
          "output_type": "execute_result",
          "data": {
            "text/html": [
              "<div>\n",
              "<style scoped>\n",
              "    .dataframe tbody tr th:only-of-type {\n",
              "        vertical-align: middle;\n",
              "    }\n",
              "\n",
              "    .dataframe tbody tr th {\n",
              "        vertical-align: top;\n",
              "    }\n",
              "\n",
              "    .dataframe thead th {\n",
              "        text-align: right;\n",
              "    }\n",
              "</style>\n",
              "<table border=\"1\" class=\"dataframe\">\n",
              "  <thead>\n",
              "    <tr style=\"text-align: right;\">\n",
              "      <th></th>\n",
              "      <th>department</th>\n",
              "      <th>region</th>\n",
              "      <th>education</th>\n",
              "      <th>gender</th>\n",
              "      <th>recruitment_channel</th>\n",
              "      <th>no_of_trainings</th>\n",
              "      <th>age</th>\n",
              "      <th>previous_year_rating</th>\n",
              "      <th>length_of_service</th>\n",
              "      <th>awards_won</th>\n",
              "      <th>avg_training_score</th>\n",
              "      <th>is_promoted</th>\n",
              "    </tr>\n",
              "  </thead>\n",
              "  <tbody>\n",
              "    <tr>\n",
              "      <th>0</th>\n",
              "      <td>Sales &amp; Marketing</td>\n",
              "      <td>region_7</td>\n",
              "      <td>Master's &amp; above</td>\n",
              "      <td>f</td>\n",
              "      <td>sourcing</td>\n",
              "      <td>1.0</td>\n",
              "      <td>35.0</td>\n",
              "      <td>5.0</td>\n",
              "      <td>8.0</td>\n",
              "      <td>0.0</td>\n",
              "      <td>49.0</td>\n",
              "      <td>0.0</td>\n",
              "    </tr>\n",
              "    <tr>\n",
              "      <th>1</th>\n",
              "      <td>Operations</td>\n",
              "      <td>region_22</td>\n",
              "      <td>Bachelor's</td>\n",
              "      <td>m</td>\n",
              "      <td>other</td>\n",
              "      <td>1.0</td>\n",
              "      <td>30.0</td>\n",
              "      <td>5.0</td>\n",
              "      <td>4.0</td>\n",
              "      <td>0.0</td>\n",
              "      <td>60.0</td>\n",
              "      <td>0.0</td>\n",
              "    </tr>\n",
              "    <tr>\n",
              "      <th>2</th>\n",
              "      <td>Sales &amp; Marketing</td>\n",
              "      <td>region_19</td>\n",
              "      <td>Bachelor's</td>\n",
              "      <td>m</td>\n",
              "      <td>sourcing</td>\n",
              "      <td>1.0</td>\n",
              "      <td>34.0</td>\n",
              "      <td>3.0</td>\n",
              "      <td>7.0</td>\n",
              "      <td>0.0</td>\n",
              "      <td>50.0</td>\n",
              "      <td>0.0</td>\n",
              "    </tr>\n",
              "    <tr>\n",
              "      <th>3</th>\n",
              "      <td>Sales &amp; Marketing</td>\n",
              "      <td>region_23</td>\n",
              "      <td>Bachelor's</td>\n",
              "      <td>m</td>\n",
              "      <td>other</td>\n",
              "      <td>2.0</td>\n",
              "      <td>39.0</td>\n",
              "      <td>1.0</td>\n",
              "      <td>10.0</td>\n",
              "      <td>0.0</td>\n",
              "      <td>50.0</td>\n",
              "      <td>0.0</td>\n",
              "    </tr>\n",
              "    <tr>\n",
              "      <th>4</th>\n",
              "      <td>Technology</td>\n",
              "      <td>region_26</td>\n",
              "      <td>Bachelor's</td>\n",
              "      <td>m</td>\n",
              "      <td>other</td>\n",
              "      <td>1.0</td>\n",
              "      <td>45.0</td>\n",
              "      <td>3.0</td>\n",
              "      <td>2.0</td>\n",
              "      <td>0.0</td>\n",
              "      <td>73.0</td>\n",
              "      <td>0.0</td>\n",
              "    </tr>\n",
              "    <tr>\n",
              "      <th>...</th>\n",
              "      <td>...</td>\n",
              "      <td>...</td>\n",
              "      <td>...</td>\n",
              "      <td>...</td>\n",
              "      <td>...</td>\n",
              "      <td>...</td>\n",
              "      <td>...</td>\n",
              "      <td>...</td>\n",
              "      <td>...</td>\n",
              "      <td>...</td>\n",
              "      <td>...</td>\n",
              "      <td>...</td>\n",
              "    </tr>\n",
              "    <tr>\n",
              "      <th>15551</th>\n",
              "      <td>Technology</td>\n",
              "      <td>region_2</td>\n",
              "      <td>Master's &amp; above</td>\n",
              "      <td>f</td>\n",
              "      <td>other</td>\n",
              "      <td>1.0</td>\n",
              "      <td>37.0</td>\n",
              "      <td>3.0</td>\n",
              "      <td>10.0</td>\n",
              "      <td>0.0</td>\n",
              "      <td>89.0</td>\n",
              "      <td>1.0</td>\n",
              "    </tr>\n",
              "    <tr>\n",
              "      <th>15552</th>\n",
              "      <td>Technology</td>\n",
              "      <td>region_8</td>\n",
              "      <td>Master's &amp; above</td>\n",
              "      <td>m</td>\n",
              "      <td>other</td>\n",
              "      <td>1.0</td>\n",
              "      <td>35.0</td>\n",
              "      <td>1.0</td>\n",
              "      <td>3.0</td>\n",
              "      <td>0.0</td>\n",
              "      <td>80.0</td>\n",
              "      <td>0.0</td>\n",
              "    </tr>\n",
              "    <tr>\n",
              "      <th>15553</th>\n",
              "      <td>Technology</td>\n",
              "      <td>region_31</td>\n",
              "      <td>Bachelor's</td>\n",
              "      <td>f</td>\n",
              "      <td>sourcing</td>\n",
              "      <td>3.0</td>\n",
              "      <td>26.0</td>\n",
              "      <td>2.0</td>\n",
              "      <td>2.0</td>\n",
              "      <td>0.0</td>\n",
              "      <td>81.0</td>\n",
              "      <td>0.0</td>\n",
              "    </tr>\n",
              "    <tr>\n",
              "      <th>15554</th>\n",
              "      <td>Sales &amp; Marketing</td>\n",
              "      <td>region_22</td>\n",
              "      <td>Master's &amp; above</td>\n",
              "      <td>m</td>\n",
              "      <td>other</td>\n",
              "      <td>1.0</td>\n",
              "      <td>35.0</td>\n",
              "      <td>1.0</td>\n",
              "      <td>10.0</td>\n",
              "      <td>0.0</td>\n",
              "      <td>44.0</td>\n",
              "      <td>0.0</td>\n",
              "    </tr>\n",
              "    <tr>\n",
              "      <th>15555</th>\n",
              "      <td>Sales &amp; Marketing</td>\n",
              "      <td>NaN</td>\n",
              "      <td>NaN</td>\n",
              "      <td>NaN</td>\n",
              "      <td>NaN</td>\n",
              "      <td>NaN</td>\n",
              "      <td>NaN</td>\n",
              "      <td>NaN</td>\n",
              "      <td>NaN</td>\n",
              "      <td>NaN</td>\n",
              "      <td>NaN</td>\n",
              "      <td>NaN</td>\n",
              "    </tr>\n",
              "  </tbody>\n",
              "</table>\n",
              "<p>15556 rows × 12 columns</p>\n",
              "</div>"
            ],
            "text/plain": [
              "              department     region  ... avg_training_score is_promoted\n",
              "0      Sales & Marketing   region_7  ...               49.0         0.0\n",
              "1             Operations  region_22  ...               60.0         0.0\n",
              "2      Sales & Marketing  region_19  ...               50.0         0.0\n",
              "3      Sales & Marketing  region_23  ...               50.0         0.0\n",
              "4             Technology  region_26  ...               73.0         0.0\n",
              "...                  ...        ...  ...                ...         ...\n",
              "15551         Technology   region_2  ...               89.0         1.0\n",
              "15552         Technology   region_8  ...               80.0         0.0\n",
              "15553         Technology  region_31  ...               81.0         0.0\n",
              "15554  Sales & Marketing  region_22  ...               44.0         0.0\n",
              "15555  Sales & Marketing        NaN  ...                NaN         NaN\n",
              "\n",
              "[15556 rows x 12 columns]"
            ]
          },
          "metadata": {},
          "execution_count": 127
        }
      ]
    },
    {
      "cell_type": "code",
      "metadata": {
        "colab": {
          "base_uri": "https://localhost:8080/",
          "height": 286
        },
        "id": "DikF2RctrVSf",
        "outputId": "3fee99e3-cf47-4065-d927-072beff9549d"
      },
      "source": [
        "data.corr()"
      ],
      "execution_count": 128,
      "outputs": [
        {
          "output_type": "execute_result",
          "data": {
            "text/html": [
              "<div>\n",
              "<style scoped>\n",
              "    .dataframe tbody tr th:only-of-type {\n",
              "        vertical-align: middle;\n",
              "    }\n",
              "\n",
              "    .dataframe tbody tr th {\n",
              "        vertical-align: top;\n",
              "    }\n",
              "\n",
              "    .dataframe thead th {\n",
              "        text-align: right;\n",
              "    }\n",
              "</style>\n",
              "<table border=\"1\" class=\"dataframe\">\n",
              "  <thead>\n",
              "    <tr style=\"text-align: right;\">\n",
              "      <th></th>\n",
              "      <th>no_of_trainings</th>\n",
              "      <th>age</th>\n",
              "      <th>previous_year_rating</th>\n",
              "      <th>length_of_service</th>\n",
              "      <th>awards_won</th>\n",
              "      <th>avg_training_score</th>\n",
              "      <th>is_promoted</th>\n",
              "    </tr>\n",
              "  </thead>\n",
              "  <tbody>\n",
              "    <tr>\n",
              "      <th>no_of_trainings</th>\n",
              "      <td>1.000000</td>\n",
              "      <td>-0.078398</td>\n",
              "      <td>-0.071123</td>\n",
              "      <td>-0.050267</td>\n",
              "      <td>-0.013427</td>\n",
              "      <td>0.050112</td>\n",
              "      <td>-0.033281</td>\n",
              "    </tr>\n",
              "    <tr>\n",
              "      <th>age</th>\n",
              "      <td>-0.078398</td>\n",
              "      <td>1.000000</td>\n",
              "      <td>0.008664</td>\n",
              "      <td>0.656706</td>\n",
              "      <td>0.001550</td>\n",
              "      <td>-0.051101</td>\n",
              "      <td>-0.011753</td>\n",
              "    </tr>\n",
              "    <tr>\n",
              "      <th>previous_year_rating</th>\n",
              "      <td>-0.071123</td>\n",
              "      <td>0.008664</td>\n",
              "      <td>1.000000</td>\n",
              "      <td>0.003314</td>\n",
              "      <td>0.018624</td>\n",
              "      <td>0.074875</td>\n",
              "      <td>0.160844</td>\n",
              "    </tr>\n",
              "    <tr>\n",
              "      <th>length_of_service</th>\n",
              "      <td>-0.050267</td>\n",
              "      <td>0.656706</td>\n",
              "      <td>0.003314</td>\n",
              "      <td>1.000000</td>\n",
              "      <td>-0.036282</td>\n",
              "      <td>-0.030025</td>\n",
              "      <td>0.001070</td>\n",
              "    </tr>\n",
              "    <tr>\n",
              "      <th>awards_won</th>\n",
              "      <td>-0.013427</td>\n",
              "      <td>0.001550</td>\n",
              "      <td>0.018624</td>\n",
              "      <td>-0.036282</td>\n",
              "      <td>1.000000</td>\n",
              "      <td>0.058981</td>\n",
              "      <td>0.183036</td>\n",
              "    </tr>\n",
              "    <tr>\n",
              "      <th>avg_training_score</th>\n",
              "      <td>0.050112</td>\n",
              "      <td>-0.051101</td>\n",
              "      <td>0.074875</td>\n",
              "      <td>-0.030025</td>\n",
              "      <td>0.058981</td>\n",
              "      <td>1.000000</td>\n",
              "      <td>0.180410</td>\n",
              "    </tr>\n",
              "    <tr>\n",
              "      <th>is_promoted</th>\n",
              "      <td>-0.033281</td>\n",
              "      <td>-0.011753</td>\n",
              "      <td>0.160844</td>\n",
              "      <td>0.001070</td>\n",
              "      <td>0.183036</td>\n",
              "      <td>0.180410</td>\n",
              "      <td>1.000000</td>\n",
              "    </tr>\n",
              "  </tbody>\n",
              "</table>\n",
              "</div>"
            ],
            "text/plain": [
              "                      no_of_trainings  ...  is_promoted\n",
              "no_of_trainings              1.000000  ...    -0.033281\n",
              "age                         -0.078398  ...    -0.011753\n",
              "previous_year_rating        -0.071123  ...     0.160844\n",
              "length_of_service           -0.050267  ...     0.001070\n",
              "awards_won                  -0.013427  ...     0.183036\n",
              "avg_training_score           0.050112  ...     0.180410\n",
              "is_promoted                 -0.033281  ...     1.000000\n",
              "\n",
              "[7 rows x 7 columns]"
            ]
          },
          "metadata": {},
          "execution_count": 128
        }
      ]
    },
    {
      "cell_type": "markdown",
      "metadata": {
        "id": "6utjhRKvy5sx"
      },
      "source": [
        "# 2. Описательная статистика"
      ]
    },
    {
      "cell_type": "code",
      "metadata": {
        "colab": {
          "base_uri": "https://localhost:8080/",
          "height": 381
        },
        "id": "ByYpQnGmSmfV",
        "outputId": "8db5b5b1-2df0-4f9c-9a0b-08a97a6c9bec"
      },
      "source": [
        "sns.heatmap(data.corr(), cmap='coolwarm')"
      ],
      "execution_count": 129,
      "outputs": [
        {
          "output_type": "execute_result",
          "data": {
            "text/plain": [
              "<matplotlib.axes._subplots.AxesSubplot at 0x7fa50a7b1c10>"
            ]
          },
          "metadata": {},
          "execution_count": 129
        },
        {
          "output_type": "display_data",
          "data": {
            "image/png": "[encoded data removed]",
            "text/plain": [
              "<Figure size 432x288 with 2 Axes>"
            ]
          },
          "metadata": {
            "needs_background": "light"
          }
        }
      ]
    },
    {
      "cell_type": "markdown",
      "metadata": {
        "id": "prW7pBQVS3cA"
      },
      "source": [
        "# 3. Поиск и обработка пропущенных значений"
      ]
    },
    {
      "cell_type": "markdown",
      "metadata": {
        "id": "4wy_d2yNlUWg"
      },
      "source": [
        "Посмотрим сколько пропцщенных значений в каждом столбце"
      ]
    },
    {
      "cell_type": "code",
      "metadata": {
        "colab": {
          "base_uri": "https://localhost:8080/"
        },
        "id": "Pb6D-o8zS2xq",
        "outputId": "b17bbe6d-8fb8-445c-fb9e-aa17a7b79f07"
      },
      "source": [
        "data.isna().sum()"
      ],
      "execution_count": 130,
      "outputs": [
        {
          "output_type": "execute_result",
          "data": {
            "text/plain": [
              "department                 0\n",
              "region                     1\n",
              "education                717\n",
              "gender                     1\n",
              "recruitment_channel        1\n",
              "no_of_trainings            1\n",
              "age                        1\n",
              "previous_year_rating    1176\n",
              "length_of_service          1\n",
              "awards_won                 1\n",
              "avg_training_score         1\n",
              "is_promoted                1\n",
              "dtype: int64"
            ]
          },
          "metadata": {},
          "execution_count": 130
        }
      ]
    },
    {
      "cell_type": "code",
      "metadata": {
        "colab": {
          "base_uri": "https://localhost:8080/"
        },
        "id": "PASTfZFVn8Yy",
        "outputId": "aa467907-f549-4376-e74f-b365d675af4b"
      },
      "source": [
        "data.education.unique()"
      ],
      "execution_count": 131,
      "outputs": [
        {
          "output_type": "execute_result",
          "data": {
            "text/plain": [
              "array([\"Master's & above\", \"Bachelor's\", nan, 'Below Secondary'],\n",
              "      dtype=object)"
            ]
          },
          "metadata": {},
          "execution_count": 131
        }
      ]
    },
    {
      "cell_type": "code",
      "metadata": {
        "colab": {
          "base_uri": "https://localhost:8080/"
        },
        "id": "x7FnulK3oBA0",
        "outputId": "786d36cb-70dc-46c8-9b5f-f39c91465ced"
      },
      "source": [
        "data.previous_year_rating.unique()"
      ],
      "execution_count": 132,
      "outputs": [
        {
          "output_type": "execute_result",
          "data": {
            "text/plain": [
              "array([ 5.,  3.,  1.,  4., nan,  2.])"
            ]
          },
          "metadata": {},
          "execution_count": 132
        }
      ]
    },
    {
      "cell_type": "markdown",
      "metadata": {
        "id": "MwHEPrw4ZXw-"
      },
      "source": [
        "В столбце education вероятнее всего пропущенные значения означают отсутствие образования совсем\\\n",
        "Также можно сделать предположение, что работники, у которых в столбце previous_year_rating пустое значение, работают первый год\n",
        "\n",
        "Заполним пустые значения в столбцах:"
      ]
    },
    {
      "cell_type": "code",
      "metadata": {
        "id": "NboTsCg1nmvD"
      },
      "source": [
        "data.education = data.education.fillna('Without education')"
      ],
      "execution_count": 133,
      "outputs": []
    },
    {
      "cell_type": "code",
      "metadata": {
        "colab": {
          "base_uri": "https://localhost:8080/"
        },
        "id": "ghCpWO62k4NJ",
        "outputId": "b9a74c5e-7765-4ec0-ca1d-759bdc72732a"
      },
      "source": [
        "data.education.unique()"
      ],
      "execution_count": 134,
      "outputs": [
        {
          "output_type": "execute_result",
          "data": {
            "text/plain": [
              "array([\"Master's & above\", \"Bachelor's\", 'Without education',\n",
              "       'Below Secondary'], dtype=object)"
            ]
          },
          "metadata": {},
          "execution_count": 134
        }
      ]
    },
    {
      "cell_type": "code",
      "metadata": {
        "id": "UKYZmeuNoGzK"
      },
      "source": [
        "data.previous_year_rating = data.previous_year_rating.fillna(0.0)"
      ],
      "execution_count": 135,
      "outputs": []
    },
    {
      "cell_type": "code",
      "metadata": {
        "colab": {
          "base_uri": "https://localhost:8080/"
        },
        "id": "6DVgPvEfmY-u",
        "outputId": "b286ce6d-4877-4e4a-de4d-38730e70cfd6"
      },
      "source": [
        "data.previous_year_rating.unique()"
      ],
      "execution_count": 136,
      "outputs": [
        {
          "output_type": "execute_result",
          "data": {
            "text/plain": [
              "array([5., 3., 1., 4., 0., 2.])"
            ]
          },
          "metadata": {},
          "execution_count": 136
        }
      ]
    },
    {
      "cell_type": "markdown",
      "metadata": {
        "id": "ggO3wPSXZLER"
      },
      "source": [
        "Строки с пропущенными значениями последних 4 признаков можно удалить, так как к значимой потере данных это никак не приведет"
      ]
    },
    {
      "cell_type": "code",
      "metadata": {
        "id": "0ms1eDBnoOt8"
      },
      "source": [
        "data = data.dropna()"
      ],
      "execution_count": 137,
      "outputs": []
    },
    {
      "cell_type": "markdown",
      "metadata": {
        "id": "XeajU3boWlG4"
      },
      "source": [
        "# 4. Обработка категориальных признаков"
      ]
    },
    {
      "cell_type": "code",
      "metadata": {
        "colab": {
          "base_uri": "https://localhost:8080/"
        },
        "id": "uIH1GUCFmKkl",
        "outputId": "75e616b9-cf9a-4754-f4a2-7ba01b615a9f"
      },
      "source": [
        "s = (data.dtypes == 'object')\n",
        "object_cols = list(s[s].index)\n",
        "object_cols"
      ],
      "execution_count": 138,
      "outputs": [
        {
          "output_type": "execute_result",
          "data": {
            "text/plain": [
              "['department', 'region', 'education', 'gender', 'recruitment_channel']"
            ]
          },
          "metadata": {},
          "execution_count": 138
        }
      ]
    },
    {
      "cell_type": "code",
      "metadata": {
        "id": "zvExz3fKWn7I"
      },
      "source": [
        "from sklearn.preprocessing import OrdinalEncoder"
      ],
      "execution_count": 139,
      "outputs": []
    },
    {
      "cell_type": "markdown",
      "metadata": {
        "id": "cSKnRUpZmN8-"
      },
      "source": [
        ""
      ]
    },
    {
      "cell_type": "code",
      "metadata": {
        "id": "fQsmJHlCZdA9"
      },
      "source": [
        "ordinal_encoder = OrdinalEncoder()"
      ],
      "execution_count": 140,
      "outputs": []
    },
    {
      "cell_type": "code",
      "metadata": {
        "id": "FkpTHt1jl8sQ",
        "colab": {
          "base_uri": "https://localhost:8080/"
        },
        "outputId": "cb9c5e98-795d-4256-add2-3688001daa80"
      },
      "source": [
        "data[object_cols] = ordinal_encoder.fit_transform(data[object_cols])"
      ],
      "execution_count": 141,
      "outputs": [
        {
          "output_type": "stream",
          "name": "stderr",
          "text": [
            "/usr/local/lib/python3.7/dist-packages/ipykernel_launcher.py:1: SettingWithCopyWarning: \n",
            "A value is trying to be set on a copy of a slice from a DataFrame.\n",
            "Try using .loc[row_indexer,col_indexer] = value instead\n",
            "\n",
            "See the caveats in the documentation: https://pandas.pydata.org/pandas-docs/stable/user_guide/indexing.html#returning-a-view-versus-a-copy\n",
            "  \"\"\"Entry point for launching an IPython kernel.\n",
            "/usr/local/lib/python3.7/dist-packages/pandas/core/indexing.py:1734: SettingWithCopyWarning: \n",
            "A value is trying to be set on a copy of a slice from a DataFrame.\n",
            "Try using .loc[row_indexer,col_indexer] = value instead\n",
            "\n",
            "See the caveats in the documentation: https://pandas.pydata.org/pandas-docs/stable/user_guide/indexing.html#returning-a-view-versus-a-copy\n",
            "  isetter(loc, value[:, i].tolist())\n"
          ]
        }
      ]
    },
    {
      "cell_type": "code",
      "metadata": {
        "colab": {
          "base_uri": "https://localhost:8080/"
        },
        "id": "gtoZGrTsmir8",
        "outputId": "53099390-dd5e-476f-9ef2-fc8a71dc9b3e"
      },
      "source": [
        "ordinal_encoder.categories_"
      ],
      "execution_count": 142,
      "outputs": [
        {
          "output_type": "execute_result",
          "data": {
            "text/plain": [
              "[array(['Analytics', 'Finance', 'HR', 'Legal', 'Operations', 'Procurement',\n",
              "        'R&D', 'Sales & Marketing', 'Technology'], dtype=object),\n",
              " array(['region_1', 'region_10', 'region_11', 'region_12', 'region_13',\n",
              "        'region_14', 'region_15', 'region_16', 'region_17', 'region_18',\n",
              "        'region_19', 'region_2', 'region_20', 'region_21', 'region_22',\n",
              "        'region_23', 'region_24', 'region_25', 'region_26', 'region_27',\n",
              "        'region_28', 'region_29', 'region_3', 'region_30', 'region_31',\n",
              "        'region_32', 'region_33', 'region_34', 'region_4', 'region_5',\n",
              "        'region_6', 'region_7', 'region_8', 'region_9'], dtype=object),\n",
              " array([\"Bachelor's\", 'Below Secondary', \"Master's & above\",\n",
              "        'Without education'], dtype=object),\n",
              " array(['f', 'm'], dtype=object),\n",
              " array(['other', 'referred', 'sourcing'], dtype=object)]"
            ]
          },
          "metadata": {},
          "execution_count": 142
        }
      ]
    },
    {
      "cell_type": "code",
      "metadata": {
        "colab": {
          "base_uri": "https://localhost:8080/",
          "height": 224
        },
        "id": "8CZaFkqbnJ3S",
        "outputId": "421adc54-3601-42f3-b739-b4518347ce75"
      },
      "source": [
        "data.head()"
      ],
      "execution_count": 143,
      "outputs": [
        {
          "output_type": "execute_result",
          "data": {
            "text/html": [
              "<div>\n",
              "<style scoped>\n",
              "    .dataframe tbody tr th:only-of-type {\n",
              "        vertical-align: middle;\n",
              "    }\n",
              "\n",
              "    .dataframe tbody tr th {\n",
              "        vertical-align: top;\n",
              "    }\n",
              "\n",
              "    .dataframe thead th {\n",
              "        text-align: right;\n",
              "    }\n",
              "</style>\n",
              "<table border=\"1\" class=\"dataframe\">\n",
              "  <thead>\n",
              "    <tr style=\"text-align: right;\">\n",
              "      <th></th>\n",
              "      <th>department</th>\n",
              "      <th>region</th>\n",
              "      <th>education</th>\n",
              "      <th>gender</th>\n",
              "      <th>recruitment_channel</th>\n",
              "      <th>no_of_trainings</th>\n",
              "      <th>age</th>\n",
              "      <th>previous_year_rating</th>\n",
              "      <th>length_of_service</th>\n",
              "      <th>awards_won</th>\n",
              "      <th>avg_training_score</th>\n",
              "      <th>is_promoted</th>\n",
              "    </tr>\n",
              "  </thead>\n",
              "  <tbody>\n",
              "    <tr>\n",
              "      <th>0</th>\n",
              "      <td>7.0</td>\n",
              "      <td>31.0</td>\n",
              "      <td>2.0</td>\n",
              "      <td>0.0</td>\n",
              "      <td>2.0</td>\n",
              "      <td>1.0</td>\n",
              "      <td>35.0</td>\n",
              "      <td>5.0</td>\n",
              "      <td>8.0</td>\n",
              "      <td>0.0</td>\n",
              "      <td>49.0</td>\n",
              "      <td>0.0</td>\n",
              "    </tr>\n",
              "    <tr>\n",
              "      <th>1</th>\n",
              "      <td>4.0</td>\n",
              "      <td>14.0</td>\n",
              "      <td>0.0</td>\n",
              "      <td>1.0</td>\n",
              "      <td>0.0</td>\n",
              "      <td>1.0</td>\n",
              "      <td>30.0</td>\n",
              "      <td>5.0</td>\n",
              "      <td>4.0</td>\n",
              "      <td>0.0</td>\n",
              "      <td>60.0</td>\n",
              "      <td>0.0</td>\n",
              "    </tr>\n",
              "    <tr>\n",
              "      <th>2</th>\n",
              "      <td>7.0</td>\n",
              "      <td>10.0</td>\n",
              "      <td>0.0</td>\n",
              "      <td>1.0</td>\n",
              "      <td>2.0</td>\n",
              "      <td>1.0</td>\n",
              "      <td>34.0</td>\n",
              "      <td>3.0</td>\n",
              "      <td>7.0</td>\n",
              "      <td>0.0</td>\n",
              "      <td>50.0</td>\n",
              "      <td>0.0</td>\n",
              "    </tr>\n",
              "    <tr>\n",
              "      <th>3</th>\n",
              "      <td>7.0</td>\n",
              "      <td>15.0</td>\n",
              "      <td>0.0</td>\n",
              "      <td>1.0</td>\n",
              "      <td>0.0</td>\n",
              "      <td>2.0</td>\n",
              "      <td>39.0</td>\n",
              "      <td>1.0</td>\n",
              "      <td>10.0</td>\n",
              "      <td>0.0</td>\n",
              "      <td>50.0</td>\n",
              "      <td>0.0</td>\n",
              "    </tr>\n",
              "    <tr>\n",
              "      <th>4</th>\n",
              "      <td>8.0</td>\n",
              "      <td>18.0</td>\n",
              "      <td>0.0</td>\n",
              "      <td>1.0</td>\n",
              "      <td>0.0</td>\n",
              "      <td>1.0</td>\n",
              "      <td>45.0</td>\n",
              "      <td>3.0</td>\n",
              "      <td>2.0</td>\n",
              "      <td>0.0</td>\n",
              "      <td>73.0</td>\n",
              "      <td>0.0</td>\n",
              "    </tr>\n",
              "  </tbody>\n",
              "</table>\n",
              "</div>"
            ],
            "text/plain": [
              "   department  region  education  ...  awards_won  avg_training_score  is_promoted\n",
              "0         7.0    31.0        2.0  ...         0.0                49.0          0.0\n",
              "1         4.0    14.0        0.0  ...         0.0                60.0          0.0\n",
              "2         7.0    10.0        0.0  ...         0.0                50.0          0.0\n",
              "3         7.0    15.0        0.0  ...         0.0                50.0          0.0\n",
              "4         8.0    18.0        0.0  ...         0.0                73.0          0.0\n",
              "\n",
              "[5 rows x 12 columns]"
            ]
          },
          "metadata": {},
          "execution_count": 143
        }
      ]
    },
    {
      "cell_type": "markdown",
      "metadata": {
        "id": "yJXcX-_Bn0AJ"
      },
      "source": [
        "# 5. Нормализация данных"
      ]
    },
    {
      "cell_type": "code",
      "metadata": {
        "colab": {
          "base_uri": "https://localhost:8080/"
        },
        "id": "5TXdPRBao2LX",
        "outputId": "0f979a5c-7f8e-4b53-b77e-966a0a05a4d3"
      },
      "source": [
        "data.mean(axis=0), data.std(axis=0)"
      ],
      "execution_count": 144,
      "outputs": [
        {
          "output_type": "execute_result",
          "data": {
            "text/plain": [
              "(department               4.969785\n",
              " region                  15.510254\n",
              " education                0.699261\n",
              " gender                   0.705754\n",
              " recruitment_channel      0.866988\n",
              " no_of_trainings          1.251430\n",
              " age                     34.789200\n",
              " previous_year_rating     3.089553\n",
              " length_of_service        5.858438\n",
              " awards_won               0.022694\n",
              " avg_training_score      63.441144\n",
              " is_promoted              0.085760\n",
              " dtype: float64, department               2.515987\n",
              " region                   8.783888\n",
              " education                1.016678\n",
              " gender                   0.455718\n",
              " recruitment_channel      0.980778\n",
              " no_of_trainings          0.603004\n",
              " age                      7.634322\n",
              " previous_year_rating     1.496562\n",
              " length_of_service        4.259883\n",
              " awards_won               0.148930\n",
              " avg_training_score      13.418212\n",
              " is_promoted              0.280019\n",
              " dtype: float64)"
            ]
          },
          "metadata": {},
          "execution_count": 144
        }
      ]
    },
    {
      "cell_type": "code",
      "metadata": {
        "colab": {
          "base_uri": "https://localhost:8080/",
          "height": 385
        },
        "id": "4LIM6QGtrBpe",
        "outputId": "70f7385a-c3c4-4907-9271-fa4deede8a56"
      },
      "source": [
        "data_norm = (data - data.mean(axis=0)) / data.std(axis=0)\n",
        "data_norm.describe()"
      ],
      "execution_count": 145,
      "outputs": [
        {
          "output_type": "execute_result",
          "data": {
            "text/html": [
              "<div>\n",
              "<style scoped>\n",
              "    .dataframe tbody tr th:only-of-type {\n",
              "        vertical-align: middle;\n",
              "    }\n",
              "\n",
              "    .dataframe tbody tr th {\n",
              "        vertical-align: top;\n",
              "    }\n",
              "\n",
              "    .dataframe thead th {\n",
              "        text-align: right;\n",
              "    }\n",
              "</style>\n",
              "<table border=\"1\" class=\"dataframe\">\n",
              "  <thead>\n",
              "    <tr style=\"text-align: right;\">\n",
              "      <th></th>\n",
              "      <th>department</th>\n",
              "      <th>region</th>\n",
              "      <th>education</th>\n",
              "      <th>gender</th>\n",
              "      <th>recruitment_channel</th>\n",
              "      <th>no_of_trainings</th>\n",
              "      <th>age</th>\n",
              "      <th>previous_year_rating</th>\n",
              "      <th>length_of_service</th>\n",
              "      <th>awards_won</th>\n",
              "      <th>avg_training_score</th>\n",
              "      <th>is_promoted</th>\n",
              "    </tr>\n",
              "  </thead>\n",
              "  <tbody>\n",
              "    <tr>\n",
              "      <th>count</th>\n",
              "      <td>1.555500e+04</td>\n",
              "      <td>1.555500e+04</td>\n",
              "      <td>1.555500e+04</td>\n",
              "      <td>1.555500e+04</td>\n",
              "      <td>1.555500e+04</td>\n",
              "      <td>1.555500e+04</td>\n",
              "      <td>1.555500e+04</td>\n",
              "      <td>1.555500e+04</td>\n",
              "      <td>1.555500e+04</td>\n",
              "      <td>1.555500e+04</td>\n",
              "      <td>1.555500e+04</td>\n",
              "      <td>1.555500e+04</td>\n",
              "    </tr>\n",
              "    <tr>\n",
              "      <th>mean</th>\n",
              "      <td>5.275255e-17</td>\n",
              "      <td>-2.258435e-16</td>\n",
              "      <td>6.612518e-16</td>\n",
              "      <td>-3.419815e-16</td>\n",
              "      <td>-1.837881e-17</td>\n",
              "      <td>1.155902e-16</td>\n",
              "      <td>2.409108e-16</td>\n",
              "      <td>3.293198e-17</td>\n",
              "      <td>8.099525e-17</td>\n",
              "      <td>3.367427e-17</td>\n",
              "      <td>-1.747236e-16</td>\n",
              "      <td>-1.061039e-15</td>\n",
              "    </tr>\n",
              "    <tr>\n",
              "      <th>std</th>\n",
              "      <td>1.000000e+00</td>\n",
              "      <td>1.000000e+00</td>\n",
              "      <td>1.000000e+00</td>\n",
              "      <td>1.000000e+00</td>\n",
              "      <td>1.000000e+00</td>\n",
              "      <td>1.000000e+00</td>\n",
              "      <td>1.000000e+00</td>\n",
              "      <td>1.000000e+00</td>\n",
              "      <td>1.000000e+00</td>\n",
              "      <td>1.000000e+00</td>\n",
              "      <td>1.000000e+00</td>\n",
              "      <td>1.000000e+00</td>\n",
              "    </tr>\n",
              "    <tr>\n",
              "      <th>min</th>\n",
              "      <td>-1.975282e+00</td>\n",
              "      <td>-1.765762e+00</td>\n",
              "      <td>-6.877898e-01</td>\n",
              "      <td>-1.548664e+00</td>\n",
              "      <td>-8.839797e-01</td>\n",
              "      <td>-4.169629e-01</td>\n",
              "      <td>-1.937199e+00</td>\n",
              "      <td>-2.064434e+00</td>\n",
              "      <td>-1.140510e+00</td>\n",
              "      <td>-1.523783e-01</td>\n",
              "      <td>-1.821490e+00</td>\n",
              "      <td>-3.062661e-01</td>\n",
              "    </tr>\n",
              "    <tr>\n",
              "      <th>25%</th>\n",
              "      <td>-3.854490e-01</td>\n",
              "      <td>-5.134690e-01</td>\n",
              "      <td>-6.877898e-01</td>\n",
              "      <td>-1.548664e+00</td>\n",
              "      <td>-8.839797e-01</td>\n",
              "      <td>-4.169629e-01</td>\n",
              "      <td>-7.583122e-01</td>\n",
              "      <td>-7.280375e-01</td>\n",
              "      <td>-6.710132e-01</td>\n",
              "      <td>-1.523783e-01</td>\n",
              "      <td>-9.271835e-01</td>\n",
              "      <td>-3.062661e-01</td>\n",
              "    </tr>\n",
              "    <tr>\n",
              "      <th>50%</th>\n",
              "      <td>1.200935e-02</td>\n",
              "      <td>-1.719346e-01</td>\n",
              "      <td>-6.877898e-01</td>\n",
              "      <td>6.456764e-01</td>\n",
              "      <td>-8.839797e-01</td>\n",
              "      <td>-4.169629e-01</td>\n",
              "      <td>-2.343626e-01</td>\n",
              "      <td>-5.983929e-02</td>\n",
              "      <td>-2.015168e-01</td>\n",
              "      <td>-1.523783e-01</td>\n",
              "      <td>-2.564533e-01</td>\n",
              "      <td>-3.062661e-01</td>\n",
              "    </tr>\n",
              "    <tr>\n",
              "      <th>75%</th>\n",
              "      <td>8.069260e-01</td>\n",
              "      <td>7.388239e-01</td>\n",
              "      <td>1.279402e+00</td>\n",
              "      <td>6.456764e-01</td>\n",
              "      <td>1.155217e+00</td>\n",
              "      <td>-4.169629e-01</td>\n",
              "      <td>5.515618e-01</td>\n",
              "      <td>6.083590e-01</td>\n",
              "      <td>2.679797e-01</td>\n",
              "      <td>-1.523783e-01</td>\n",
              "      <td>9.359560e-01</td>\n",
              "      <td>-3.062661e-01</td>\n",
              "    </tr>\n",
              "    <tr>\n",
              "      <th>max</th>\n",
              "      <td>1.204384e+00</td>\n",
              "      <td>1.991117e+00</td>\n",
              "      <td>2.262997e+00</td>\n",
              "      <td>6.456764e-01</td>\n",
              "      <td>1.155217e+00</td>\n",
              "      <td>1.450830e+01</td>\n",
              "      <td>3.302297e+00</td>\n",
              "      <td>1.276557e+00</td>\n",
              "      <td>6.606182e+00</td>\n",
              "      <td>6.562194e+00</td>\n",
              "      <td>2.650044e+00</td>\n",
              "      <td>3.264925e+00</td>\n",
              "    </tr>\n",
              "  </tbody>\n",
              "</table>\n",
              "</div>"
            ],
            "text/plain": [
              "         department        region  ...  avg_training_score   is_promoted\n",
              "count  1.555500e+04  1.555500e+04  ...        1.555500e+04  1.555500e+04\n",
              "mean   5.275255e-17 -2.258435e-16  ...       -1.747236e-16 -1.061039e-15\n",
              "std    1.000000e+00  1.000000e+00  ...        1.000000e+00  1.000000e+00\n",
              "min   -1.975282e+00 -1.765762e+00  ...       -1.821490e+00 -3.062661e-01\n",
              "25%   -3.854490e-01 -5.134690e-01  ...       -9.271835e-01 -3.062661e-01\n",
              "50%    1.200935e-02 -1.719346e-01  ...       -2.564533e-01 -3.062661e-01\n",
              "75%    8.069260e-01  7.388239e-01  ...        9.359560e-01 -3.062661e-01\n",
              "max    1.204384e+00  1.991117e+00  ...        2.650044e+00  3.264925e+00\n",
              "\n",
              "[8 rows x 12 columns]"
            ]
          },
          "metadata": {},
          "execution_count": 145
        }
      ]
    },
    {
      "cell_type": "markdown",
      "metadata": {
        "id": "2-iJaRQBrQtQ"
      },
      "source": [
        "# 6. Отбор признаков"
      ]
    },
    {
      "cell_type": "code",
      "metadata": {
        "id": "EHF58zbXru5U"
      },
      "source": [
        "X = data_norm.drop(['is_promoted'], axis=1)"
      ],
      "execution_count": 146,
      "outputs": []
    },
    {
      "cell_type": "code",
      "metadata": {
        "id": "kLAOaFFQsPSc"
      },
      "source": [
        "y = data.is_promoted"
      ],
      "execution_count": 147,
      "outputs": []
    },
    {
      "cell_type": "code",
      "metadata": {
        "id": "jtqA18oarZ6Y"
      },
      "source": [
        "from sklearn.model_selection import train_test_split"
      ],
      "execution_count": 148,
      "outputs": []
    },
    {
      "cell_type": "code",
      "metadata": {
        "id": "-3BJd4sorjsT"
      },
      "source": [
        "X_train, X_test, y_train, y_test = train_test_split(X, y, test_size=0.3, random_state=88)"
      ],
      "execution_count": 149,
      "outputs": []
    },
    {
      "cell_type": "markdown",
      "metadata": {
        "id": "WxyGPNsltYg2"
      },
      "source": [
        "# 7. Обучение модели"
      ]
    },
    {
      "cell_type": "code",
      "metadata": {
        "id": "ZKU1tQEKtWY6"
      },
      "source": [
        "from sklearn.neighbors import KNeighborsClassifier"
      ],
      "execution_count": 150,
      "outputs": []
    },
    {
      "cell_type": "code",
      "metadata": {
        "colab": {
          "base_uri": "https://localhost:8080/"
        },
        "id": "jVDOyMtdtyrh",
        "outputId": "8d000da2-95f0-43d8-8ff8-896b03ef56f4"
      },
      "source": [
        "model_k5 = KNeighborsClassifier(n_neighbors=5)\n",
        "model_k5.fit(X_train, y_train)"
      ],
      "execution_count": 151,
      "outputs": [
        {
          "output_type": "execute_result",
          "data": {
            "text/plain": [
              "KNeighborsClassifier(algorithm='auto', leaf_size=30, metric='minkowski',\n",
              "                     metric_params=None, n_jobs=None, n_neighbors=5, p=2,\n",
              "                     weights='uniform')"
            ]
          },
          "metadata": {},
          "execution_count": 151
        }
      ]
    },
    {
      "cell_type": "code",
      "metadata": {
        "id": "pELqmSfXuGy8"
      },
      "source": [
        "y_train_predict = model_k5.predict(X_train)\n",
        "y_test_predict = model_k5.predict(X_test)"
      ],
      "execution_count": 152,
      "outputs": []
    },
    {
      "cell_type": "markdown",
      "metadata": {
        "id": "7zdQbCRsxJpV"
      },
      "source": [
        "# 8. Метрика качества"
      ]
    },
    {
      "cell_type": "code",
      "metadata": {
        "id": "6GWHiwSKu3PN"
      },
      "source": [
        "from sklearn.metrics import mean_squared_error"
      ],
      "execution_count": 153,
      "outputs": []
    },
    {
      "cell_type": "code",
      "metadata": {
        "colab": {
          "base_uri": "https://localhost:8080/"
        },
        "id": "xEfKJlQvxR0D",
        "outputId": "8471daa9-4452-4de8-e945-46e9d0e8abbe"
      },
      "source": [
        "MSE_train = mean_squared_error(y_train, y_train_predict)\n",
        "MSE_test = mean_squared_error(y_test, y_test_predict)\n",
        "MSE_train, MSE_test"
      ],
      "execution_count": 154,
      "outputs": [
        {
          "output_type": "execute_result",
          "data": {
            "text/plain": [
              "(0.07503673769287289, 0.08699378615813157)"
            ]
          },
          "metadata": {},
          "execution_count": 154
        }
      ]
    },
    {
      "cell_type": "code",
      "metadata": {
        "id": "wKBBBoTgySv6"
      },
      "source": [
        ""
      ],
      "execution_count": 154,
      "outputs": []
    }
  ]
}