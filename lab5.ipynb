{
  "nbformat": 4,
  "nbformat_minor": 0,
  "metadata": {
    "colab": {
      "name": "lab5.ipynb",
      "provenance": []
    },
    "kernelspec": {
      "name": "python3",
      "display_name": "Python 3"
    },
    "language_info": {
      "name": "python"
    }
  },
  "cells": [
    {
      "cell_type": "markdown",
      "source": [
        "Тарасов Никита 381806-3 лабораторная работа №5"
      ],
      "metadata": {
        "id": "80EQ-VU7eT-p"
      }
    },
    {
      "cell_type": "code",
      "execution_count": null,
      "metadata": {
        "id": "M7XdrqDBX4K6"
      },
      "outputs": [],
      "source": [
        "import matplotlib.pyplot as plt\n",
        "import numpy as np"
      ]
    },
    {
      "cell_type": "markdown",
      "source": [
        "Torch"
      ],
      "metadata": {
        "id": "HXIya3HBecGS"
      }
    },
    {
      "cell_type": "code",
      "source": [
        "import torch"
      ],
      "metadata": {
        "id": "dvQaaY6DYzt2"
      },
      "execution_count": null,
      "outputs": []
    },
    {
      "cell_type": "code",
      "source": [
        "np.random.seed(0)\n",
        "\n",
        "X = np.random.rand(100)\n",
        "y = 2*X + 5"
      ],
      "metadata": {
        "id": "Nq9PIXFzY2Tm"
      },
      "execution_count": null,
      "outputs": []
    },
    {
      "cell_type": "code",
      "source": [
        "\n",
        "noisy_elements = np.random.randint(0,100,20  )\n",
        "\n",
        "for i in noisy_elements:\n",
        "    noise = np.random.rand() * 0.2\n",
        "    is_plus = bool(np.random.randint(2))\n",
        "    if is_plus:\n",
        "        X[i] += noise\n",
        "    else:\n",
        "        X[i] -= noise"
      ],
      "metadata": {
        "id": "ZhVF5teuY32d"
      },
      "execution_count": null,
      "outputs": []
    },
    {
      "cell_type": "code",
      "source": [
        "plt.scatter(X, y, alpha=0.7)\n",
        "pass"
      ],
      "metadata": {
        "colab": {
          "base_uri": "https://localhost:8080/",
          "height": 265
        },
        "id": "ygSK8W7GY5Wb",
        "outputId": "9265326b-9559-4e45-97f2-0aed1b962976"
      },
      "execution_count": null,
      "outputs": [
        {
          "output_type": "display_data",
          "data": {
            "text/plain": [
              "<Figure size 432x288 with 1 Axes>"
            ],
            "image/png": "[encoded data removed]"
          },
          "metadata": {
            "needs_background": "light"
          }
        }
      ]
    },
    {
      "cell_type": "code",
      "source": [
        "X = X.reshape(X.shape[0], 1).astype(np.float32)\n",
        "y = y.reshape(y.shape[0], 1).astype(np.float32)"
      ],
      "metadata": {
        "id": "jyO2kBHxY65p"
      },
      "execution_count": null,
      "outputs": []
    },
    {
      "cell_type": "code",
      "source": [
        "X_tensor = torch.tensor(X)\n",
        "y_tensor = torch.tensor(y)"
      ],
      "metadata": {
        "id": "k_BD6vaYY9Ae"
      },
      "execution_count": null,
      "outputs": []
    },
    {
      "cell_type": "code",
      "source": [
        "class LinearRegressionModel(torch.nn.Module):\n",
        "    def __init__(self):\n",
        "        super(LinearRegressionModel, self).__init__()\n",
        "        self.linear = torch.nn.Linear(1,1 )\n",
        "\n",
        "    def forward(self, x):\n",
        "        y_pred = self.linear(x)\n",
        "        return y_pred"
      ],
      "metadata": {
        "id": "ltFx8UVhY-Y8"
      },
      "execution_count": null,
      "outputs": []
    },
    {
      "cell_type": "code",
      "source": [
        "model = LinearRegressionModel()\n",
        "\n",
        "criterion = torch.nn.MSELoss()\n",
        "\n",
        "optimizer = torch.optim.Adam(model.parameters(), lr=0.1)"
      ],
      "metadata": {
        "id": "nt8m1QtBY_4T"
      },
      "execution_count": null,
      "outputs": []
    },
    {
      "cell_type": "code",
      "source": [
        "model"
      ],
      "metadata": {
        "id": "dX6DhBOYZB4O",
        "colab": {
          "base_uri": "https://localhost:8080/"
        },
        "outputId": "b5b90f91-c222-4cd3-f87f-9785f1f4de61"
      },
      "execution_count": null,
      "outputs": [
        {
          "output_type": "execute_result",
          "data": {
            "text/plain": [
              "LinearRegressionModel(\n",
              "  (linear): Linear(in_features=1, out_features=1, bias=True)\n",
              ")"
            ]
          },
          "metadata": {},
          "execution_count": 15
        }
      ]
    },
    {
      "cell_type": "code",
      "source": [
        "epochs = 500\n",
        "losses = []\n",
        "\n",
        "for epoch in range(epochs):\n",
        "\n",
        "    optimizer.zero_grad()\n",
        "    y_pred = model(X_tensor)\n",
        "    loss = criterion(y_pred, y_tensor)\n",
        "    losses.append(loss.item())\n",
        "    loss.backward()\n",
        "    optimizer.step()"
      ],
      "metadata": {
        "id": "c_oUmpzFZDEc"
      },
      "execution_count": null,
      "outputs": []
    },
    {
      "cell_type": "code",
      "source": [
        "plt.plot([x for x in range(epochs)], losses)\n",
        "plt.xlabel('Epochs')\n",
        "plt.ylabel('MSE')\n",
        "plt.title('График падения ошибки')\n",
        "pass"
      ],
      "metadata": {
        "id": "Ero9masCZE8a",
        "colab": {
          "base_uri": "https://localhost:8080/",
          "height": 295
        },
        "outputId": "6a571c70-d6f7-45ea-c709-98720c2eaad9"
      },
      "execution_count": null,
      "outputs": [
        {
          "output_type": "display_data",
          "data": {
            "text/plain": [
              "<Figure size 432x288 with 1 Axes>"
            ],
            "image/png": "[encoded data removed]"
          },
          "metadata": {
            "needs_background": "light"
          }
        }
      ]
    },
    {
      "cell_type": "code",
      "source": [
        "for name, param in model.named_parameters():\n",
        "    if param.requires_grad:\n",
        "        print(name, param.data)"
      ],
      "metadata": {
        "id": "zYtVyaEZZHBU",
        "colab": {
          "base_uri": "https://localhost:8080/"
        },
        "outputId": "66a4b1bd-2399-4a1e-b2b8-e83af0f04914"
      },
      "execution_count": null,
      "outputs": [
        {
          "output_type": "stream",
          "name": "stdout",
          "text": [
            "linear.weight tensor([[1.9123]])\n",
            "linear.bias tensor([5.0412])\n"
          ]
        }
      ]
    },
    {
      "cell_type": "code",
      "source": [
        "plt.scatter(X, y, alpha=0.7)\n",
        "plt.plot(X, model(X_tensor).detach().numpy(), c='r', alpha=0.5)\n",
        "plt.legend(['model', 'sample'])\n",
        "plt.xlabel('X')\n",
        "plt.ylabel('y')\n",
        "pass"
      ],
      "metadata": {
        "id": "tNosiqR4ZIax",
        "colab": {
          "base_uri": "https://localhost:8080/",
          "height": 279
        },
        "outputId": "43af0157-4d00-4933-9e39-a3c4923437a8"
      },
      "execution_count": null,
      "outputs": [
        {
          "output_type": "display_data",
          "data": {
            "text/plain": [
              "<Figure size 432x288 with 1 Axes>"
            ],
            "image/png": "[encoded data removed]"
          },
          "metadata": {
            "needs_background": "light"
          }
        }
      ]
    },
    {
      "cell_type": "code",
      "source": [
        "!ipython nbconvert --to html lab5.ipynb"
      ],
      "metadata": {
        "id": "iOVYrncljJaV"
      },
      "execution_count": null,
      "outputs": []
    }
  ]
}